{
 "cells": [
  {
   "cell_type": "markdown",
   "metadata": {
    "id": "H9biNJmbn_Dj"
   },
   "source": [
    "# Diabetes key indicators\n",
    "\n",
    "Diabetes is among the most prevalent chronic diseases in the United States, impacting millions of Americans each year and exerting a significant financial burden on the economy. While there is no cure for diabetes, strategies like losing weight, eating healthily, being active, and receiving medical treatments can mitigate the harms of this disease in many patients. Early diagnosis can lead to lifestyle changes and more effective treatment, making predictive models for diabetes risk important tools for public and public health officials.\n",
    "\n",
    "The \"Behavioral Risk Factor Surveillance System\" ([BRFSS](https://www.cdc.gov/brfss/data_documentation/index.htm)) is a a cross-sectional telephone survey that is used to collect prevalence data among adult U.S. residents regarding their risk behaviors and preventive health practices that can affect their health status.\n",
    "\n",
    "The original dataset contains responses from over 400000 individuals and has 330 features. For this project, a csv of the dataset available on Kaggle for the year 2015 was used and it includes 21 features\n",
    "\n",
    "The selected features are the ones considered as risk factors for type II diabetes, prediabetes and diabetes during pregnancy.\n",
    "\n",
    "Target\n",
    "* 0 for no diabetes or only during pregnancy\n",
    "* 1 for diabetes and prediabetes\n",
    "\n",
    "\n",
    "The complete pdf survey can be found [here](https://www.cdc.gov/brfss/annual_data/2015/pdf/codebook15_llcp.pdf)\n"
   ]
  },
  {
   "cell_type": "markdown",
   "metadata": {
    "id": "WlJSubmKqU5_"
   },
   "source": [
    "## Download data from Kaggle"
   ]
  },
  {
   "cell_type": "code",
   "execution_count": null,
   "metadata": {
    "colab": {
     "base_uri": "https://localhost:8080/"
    },
    "collapsed": true,
    "id": "nneodc6unmm2",
    "jupyter": {
     "outputs_hidden": true
    },
    "outputId": "9ec36011-2262-482f-c12e-22447048ff88",
    "tags": []
   },
   "outputs": [
    {
     "name": "stdout",
     "output_type": "stream",
     "text": [
      "Requirement already satisfied: kaggle in /usr/local/lib/python3.7/dist-packages (1.5.12)\n",
      "Requirement already satisfied: six>=1.10 in /usr/local/lib/python3.7/dist-packages (from kaggle) (1.15.0)\n",
      "Requirement already satisfied: python-slugify in /usr/local/lib/python3.7/dist-packages (from kaggle) (5.0.2)\n",
      "Requirement already satisfied: python-dateutil in /usr/local/lib/python3.7/dist-packages (from kaggle) (2.8.2)\n",
      "Requirement already satisfied: tqdm in /usr/local/lib/python3.7/dist-packages (from kaggle) (4.62.3)\n",
      "Requirement already satisfied: requests in /usr/local/lib/python3.7/dist-packages (from kaggle) (2.23.0)\n",
      "Requirement already satisfied: certifi in /usr/local/lib/python3.7/dist-packages (from kaggle) (2021.10.8)\n",
      "Requirement already satisfied: urllib3 in /usr/local/lib/python3.7/dist-packages (from kaggle) (1.24.3)\n",
      "Requirement already satisfied: text-unidecode>=1.3 in /usr/local/lib/python3.7/dist-packages (from python-slugify->kaggle) (1.3)\n",
      "Requirement already satisfied: chardet<4,>=3.0.2 in /usr/local/lib/python3.7/dist-packages (from requests->kaggle) (3.0.4)\n",
      "Requirement already satisfied: idna<3,>=2.5 in /usr/local/lib/python3.7/dist-packages (from requests->kaggle) (2.10)\n"
     ]
    }
   ],
   "source": [
    "!pip install kaggle"
   ]
  },
  {
   "cell_type": "code",
   "execution_count": null,
   "metadata": {
    "id": "H-mOPNOKqbRI"
   },
   "outputs": [],
   "source": [
    "from kaggle.api.kaggle_api_extended import KaggleApi"
   ]
  },
  {
   "cell_type": "code",
   "execution_count": 1,
   "metadata": {
    "colab": {
     "base_uri": "https://localhost:8080/",
     "height": 75,
     "resources": {
      "http://localhost:8080/nbextensions/google.colab/files.js": {
       "data": "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",
       "headers": [
        [
         "content-type",
         "application/javascript"
        ]
       ],
       "ok": true,
       "status": 200,
       "status_text": "OK"
      }
     }
    },
    "id": "utkjpYNPqzib",
    "outputId": "887e5394-cd84-4d82-80b6-97e3ee84a531"
   },
   "outputs": [],
   "source": [
    "##create an API token in Kaggle then load the json file to login in kaggle\n",
    "from google.colab import files\n",
    "\n",
    "uploaded = files.upload()"
   ]
  },
  {
   "cell_type": "code",
   "execution_count": null,
   "metadata": {
    "id": "m6SgZ2S7q6-4"
   },
   "outputs": [],
   "source": [
    "##path to json\n",
    "!mkdir -p ~/.kaggle/ && mv kaggle.json ~/.kaggle/ && chmod 600 ~/.kaggle/kaggle.json\n",
    "\n",
    "api = KaggleApi()\n",
    "api.authenticate()"
   ]
  },
  {
   "cell_type": "code",
   "execution_count": null,
   "metadata": {
    "id": "OKR8k04rrFdP"
   },
   "outputs": [],
   "source": [
    "api.dataset_download_file('alexteboul/diabetes-health-indicators-dataset','diabetes_binary_health_indicators_BRFSS2015.csv')\n",
    "\n",
    "import zipfile\n",
    "#dezippo il file\n",
    "with zipfile.ZipFile('./diabetes_binary_health_indicators_BRFSS2015.csv.zip', 'r') as f:\n",
    "  f.extractall('./')"
   ]
  },
  {
   "cell_type": "markdown",
   "metadata": {
    "id": "R1OFI1yYIIxW"
   },
   "source": [
    "# Modules import"
   ]
  },
  {
   "cell_type": "code",
   "execution_count": null,
   "metadata": {
    "id": "wdP5UMwvIgIo"
   },
   "outputs": [],
   "source": [
    "import pandas as pd\n",
    "import matplotlib.pyplot as plt\n",
    "import seaborn as sns\n",
    "import numpy as np\n",
    "import tensorflow as tf\n",
    "from tensorflow import keras\n",
    "import sklearn\n",
    "from sklearn.metrics import confusion_matrix\n",
    "from sklearn.model_selection import train_test_split\n",
    "from sklearn.preprocessing import LabelEncoder, MinMaxScaler\n",
    "from imblearn.over_sampling import SMOTE \n",
    "import time"
   ]
  },
  {
   "cell_type": "code",
   "execution_count": null,
   "metadata": {
    "id": "_R6WQDElInu3"
   },
   "outputs": [],
   "source": [
    "##start the timer\n",
    "tic=time.process_time()"
   ]
  },
  {
   "cell_type": "markdown",
   "metadata": {
    "id": "E07x-9V8IsHL"
   },
   "source": [
    "Creation of the dataframe"
   ]
  },
  {
   "cell_type": "code",
   "execution_count": null,
   "metadata": {
    "colab": {
     "base_uri": "https://localhost:8080/"
    },
    "id": "pJpMoLzsIrbq",
    "outputId": "3e36f18e-3645-472d-d6f6-eef5b04930bc"
   },
   "outputs": [
    {
     "name": "stdout",
     "output_type": "stream",
     "text": [
      "<class 'pandas.core.frame.DataFrame'>\n",
      "RangeIndex: 253680 entries, 0 to 253679\n",
      "Data columns (total 22 columns):\n",
      " #   Column                Non-Null Count   Dtype  \n",
      "---  ------                --------------   -----  \n",
      " 0   Diabetes_binary       253680 non-null  float64\n",
      " 1   HighBP                253680 non-null  float64\n",
      " 2   HighChol              253680 non-null  float64\n",
      " 3   CholCheck             253680 non-null  float64\n",
      " 4   BMI                   253680 non-null  float64\n",
      " 5   Smoker                253680 non-null  float64\n",
      " 6   Stroke                253680 non-null  float64\n",
      " 7   HeartDiseaseorAttack  253680 non-null  float64\n",
      " 8   PhysActivity          253680 non-null  float64\n",
      " 9   Fruits                253680 non-null  float64\n",
      " 10  Veggies               253680 non-null  float64\n",
      " 11  HvyAlcoholConsump     253680 non-null  float64\n",
      " 12  AnyHealthcare         253680 non-null  float64\n",
      " 13  NoDocbcCost           253680 non-null  float64\n",
      " 14  GenHlth               253680 non-null  float64\n",
      " 15  MentHlth              253680 non-null  float64\n",
      " 16  PhysHlth              253680 non-null  float64\n",
      " 17  DiffWalk              253680 non-null  float64\n",
      " 18  Sex                   253680 non-null  float64\n",
      " 19  Age                   253680 non-null  float64\n",
      " 20  Education             253680 non-null  float64\n",
      " 21  Income                253680 non-null  float64\n",
      "dtypes: float64(22)\n",
      "memory usage: 42.6 MB\n"
     ]
    }
   ],
   "source": [
    "df = pd.read_csv('diabetes_binary_health_indicators_BRFSS2015.csv')\n",
    "df.info()"
   ]
  },
  {
   "cell_type": "code",
   "execution_count": null,
   "metadata": {
    "colab": {
     "base_uri": "https://localhost:8080/",
     "height": 741
    },
    "id": "BCRbjyH3IpCj",
    "outputId": "6a0b56ae-5667-4300-8f82-cf8ce4aa8648"
   },
   "outputs": [
    {
     "data": {
      "text/html": [
       "\n",
       "  <div id=\"df-e5227530-8624-4482-91d4-5fc8a39b1509\">\n",
       "    <div class=\"colab-df-container\">\n",
       "      <div>\n",
       "<style scoped>\n",
       "    .dataframe tbody tr th:only-of-type {\n",
       "        vertical-align: middle;\n",
       "    }\n",
       "\n",
       "    .dataframe tbody tr th {\n",
       "        vertical-align: top;\n",
       "    }\n",
       "\n",
       "    .dataframe thead th {\n",
       "        text-align: right;\n",
       "    }\n",
       "</style>\n",
       "<table border=\"1\" class=\"dataframe\">\n",
       "  <thead>\n",
       "    <tr style=\"text-align: right;\">\n",
       "      <th></th>\n",
       "      <th>Diabetes_binary</th>\n",
       "      <th>HighBP</th>\n",
       "      <th>HighChol</th>\n",
       "      <th>CholCheck</th>\n",
       "      <th>BMI</th>\n",
       "      <th>Smoker</th>\n",
       "      <th>Stroke</th>\n",
       "      <th>HeartDiseaseorAttack</th>\n",
       "      <th>PhysActivity</th>\n",
       "      <th>Fruits</th>\n",
       "      <th>Veggies</th>\n",
       "      <th>HvyAlcoholConsump</th>\n",
       "      <th>AnyHealthcare</th>\n",
       "      <th>NoDocbcCost</th>\n",
       "      <th>GenHlth</th>\n",
       "      <th>MentHlth</th>\n",
       "      <th>PhysHlth</th>\n",
       "      <th>DiffWalk</th>\n",
       "      <th>Sex</th>\n",
       "      <th>Age</th>\n",
       "      <th>Education</th>\n",
       "      <th>Income</th>\n",
       "    </tr>\n",
       "  </thead>\n",
       "  <tbody>\n",
       "    <tr>\n",
       "      <th>0</th>\n",
       "      <td>0.0</td>\n",
       "      <td>1.0</td>\n",
       "      <td>1.0</td>\n",
       "      <td>1.0</td>\n",
       "      <td>40.0</td>\n",
       "      <td>1.0</td>\n",
       "      <td>0.0</td>\n",
       "      <td>0.0</td>\n",
       "      <td>0.0</td>\n",
       "      <td>0.0</td>\n",
       "      <td>1.0</td>\n",
       "      <td>0.0</td>\n",
       "      <td>1.0</td>\n",
       "      <td>0.0</td>\n",
       "      <td>5.0</td>\n",
       "      <td>18.0</td>\n",
       "      <td>15.0</td>\n",
       "      <td>1.0</td>\n",
       "      <td>0.0</td>\n",
       "      <td>9.0</td>\n",
       "      <td>4.0</td>\n",
       "      <td>3.0</td>\n",
       "    </tr>\n",
       "    <tr>\n",
       "      <th>1</th>\n",
       "      <td>0.0</td>\n",
       "      <td>0.0</td>\n",
       "      <td>0.0</td>\n",
       "      <td>0.0</td>\n",
       "      <td>25.0</td>\n",
       "      <td>1.0</td>\n",
       "      <td>0.0</td>\n",
       "      <td>0.0</td>\n",
       "      <td>1.0</td>\n",
       "      <td>0.0</td>\n",
       "      <td>0.0</td>\n",
       "      <td>0.0</td>\n",
       "      <td>0.0</td>\n",
       "      <td>1.0</td>\n",
       "      <td>3.0</td>\n",
       "      <td>0.0</td>\n",
       "      <td>0.0</td>\n",
       "      <td>0.0</td>\n",
       "      <td>0.0</td>\n",
       "      <td>7.0</td>\n",
       "      <td>6.0</td>\n",
       "      <td>1.0</td>\n",
       "    </tr>\n",
       "    <tr>\n",
       "      <th>2</th>\n",
       "      <td>0.0</td>\n",
       "      <td>1.0</td>\n",
       "      <td>1.0</td>\n",
       "      <td>1.0</td>\n",
       "      <td>28.0</td>\n",
       "      <td>0.0</td>\n",
       "      <td>0.0</td>\n",
       "      <td>0.0</td>\n",
       "      <td>0.0</td>\n",
       "      <td>1.0</td>\n",
       "      <td>0.0</td>\n",
       "      <td>0.0</td>\n",
       "      <td>1.0</td>\n",
       "      <td>1.0</td>\n",
       "      <td>5.0</td>\n",
       "      <td>30.0</td>\n",
       "      <td>30.0</td>\n",
       "      <td>1.0</td>\n",
       "      <td>0.0</td>\n",
       "      <td>9.0</td>\n",
       "      <td>4.0</td>\n",
       "      <td>8.0</td>\n",
       "    </tr>\n",
       "    <tr>\n",
       "      <th>3</th>\n",
       "      <td>0.0</td>\n",
       "      <td>1.0</td>\n",
       "      <td>0.0</td>\n",
       "      <td>1.0</td>\n",
       "      <td>27.0</td>\n",
       "      <td>0.0</td>\n",
       "      <td>0.0</td>\n",
       "      <td>0.0</td>\n",
       "      <td>1.0</td>\n",
       "      <td>1.0</td>\n",
       "      <td>1.0</td>\n",
       "      <td>0.0</td>\n",
       "      <td>1.0</td>\n",
       "      <td>0.0</td>\n",
       "      <td>2.0</td>\n",
       "      <td>0.0</td>\n",
       "      <td>0.0</td>\n",
       "      <td>0.0</td>\n",
       "      <td>0.0</td>\n",
       "      <td>11.0</td>\n",
       "      <td>3.0</td>\n",
       "      <td>6.0</td>\n",
       "    </tr>\n",
       "    <tr>\n",
       "      <th>4</th>\n",
       "      <td>0.0</td>\n",
       "      <td>1.0</td>\n",
       "      <td>1.0</td>\n",
       "      <td>1.0</td>\n",
       "      <td>24.0</td>\n",
       "      <td>0.0</td>\n",
       "      <td>0.0</td>\n",
       "      <td>0.0</td>\n",
       "      <td>1.0</td>\n",
       "      <td>1.0</td>\n",
       "      <td>1.0</td>\n",
       "      <td>0.0</td>\n",
       "      <td>1.0</td>\n",
       "      <td>0.0</td>\n",
       "      <td>2.0</td>\n",
       "      <td>3.0</td>\n",
       "      <td>0.0</td>\n",
       "      <td>0.0</td>\n",
       "      <td>0.0</td>\n",
       "      <td>11.0</td>\n",
       "      <td>5.0</td>\n",
       "      <td>4.0</td>\n",
       "    </tr>\n",
       "    <tr>\n",
       "      <th>5</th>\n",
       "      <td>0.0</td>\n",
       "      <td>1.0</td>\n",
       "      <td>1.0</td>\n",
       "      <td>1.0</td>\n",
       "      <td>25.0</td>\n",
       "      <td>1.0</td>\n",
       "      <td>0.0</td>\n",
       "      <td>0.0</td>\n",
       "      <td>1.0</td>\n",
       "      <td>1.0</td>\n",
       "      <td>1.0</td>\n",
       "      <td>0.0</td>\n",
       "      <td>1.0</td>\n",
       "      <td>0.0</td>\n",
       "      <td>2.0</td>\n",
       "      <td>0.0</td>\n",
       "      <td>2.0</td>\n",
       "      <td>0.0</td>\n",
       "      <td>1.0</td>\n",
       "      <td>10.0</td>\n",
       "      <td>6.0</td>\n",
       "      <td>8.0</td>\n",
       "    </tr>\n",
       "    <tr>\n",
       "      <th>6</th>\n",
       "      <td>0.0</td>\n",
       "      <td>1.0</td>\n",
       "      <td>0.0</td>\n",
       "      <td>1.0</td>\n",
       "      <td>30.0</td>\n",
       "      <td>1.0</td>\n",
       "      <td>0.0</td>\n",
       "      <td>0.0</td>\n",
       "      <td>0.0</td>\n",
       "      <td>0.0</td>\n",
       "      <td>0.0</td>\n",
       "      <td>0.0</td>\n",
       "      <td>1.0</td>\n",
       "      <td>0.0</td>\n",
       "      <td>3.0</td>\n",
       "      <td>0.0</td>\n",
       "      <td>14.0</td>\n",
       "      <td>0.0</td>\n",
       "      <td>0.0</td>\n",
       "      <td>9.0</td>\n",
       "      <td>6.0</td>\n",
       "      <td>7.0</td>\n",
       "    </tr>\n",
       "    <tr>\n",
       "      <th>7</th>\n",
       "      <td>0.0</td>\n",
       "      <td>1.0</td>\n",
       "      <td>1.0</td>\n",
       "      <td>1.0</td>\n",
       "      <td>25.0</td>\n",
       "      <td>1.0</td>\n",
       "      <td>0.0</td>\n",
       "      <td>0.0</td>\n",
       "      <td>1.0</td>\n",
       "      <td>0.0</td>\n",
       "      <td>1.0</td>\n",
       "      <td>0.0</td>\n",
       "      <td>1.0</td>\n",
       "      <td>0.0</td>\n",
       "      <td>3.0</td>\n",
       "      <td>0.0</td>\n",
       "      <td>0.0</td>\n",
       "      <td>1.0</td>\n",
       "      <td>0.0</td>\n",
       "      <td>11.0</td>\n",
       "      <td>4.0</td>\n",
       "      <td>4.0</td>\n",
       "    </tr>\n",
       "    <tr>\n",
       "      <th>8</th>\n",
       "      <td>1.0</td>\n",
       "      <td>1.0</td>\n",
       "      <td>1.0</td>\n",
       "      <td>1.0</td>\n",
       "      <td>30.0</td>\n",
       "      <td>1.0</td>\n",
       "      <td>0.0</td>\n",
       "      <td>1.0</td>\n",
       "      <td>0.0</td>\n",
       "      <td>1.0</td>\n",
       "      <td>1.0</td>\n",
       "      <td>0.0</td>\n",
       "      <td>1.0</td>\n",
       "      <td>0.0</td>\n",
       "      <td>5.0</td>\n",
       "      <td>30.0</td>\n",
       "      <td>30.0</td>\n",
       "      <td>1.0</td>\n",
       "      <td>0.0</td>\n",
       "      <td>9.0</td>\n",
       "      <td>5.0</td>\n",
       "      <td>1.0</td>\n",
       "    </tr>\n",
       "    <tr>\n",
       "      <th>9</th>\n",
       "      <td>0.0</td>\n",
       "      <td>0.0</td>\n",
       "      <td>0.0</td>\n",
       "      <td>1.0</td>\n",
       "      <td>24.0</td>\n",
       "      <td>0.0</td>\n",
       "      <td>0.0</td>\n",
       "      <td>0.0</td>\n",
       "      <td>0.0</td>\n",
       "      <td>0.0</td>\n",
       "      <td>1.0</td>\n",
       "      <td>0.0</td>\n",
       "      <td>1.0</td>\n",
       "      <td>0.0</td>\n",
       "      <td>2.0</td>\n",
       "      <td>0.0</td>\n",
       "      <td>0.0</td>\n",
       "      <td>0.0</td>\n",
       "      <td>1.0</td>\n",
       "      <td>8.0</td>\n",
       "      <td>4.0</td>\n",
       "      <td>3.0</td>\n",
       "    </tr>\n",
       "    <tr>\n",
       "      <th>10</th>\n",
       "      <td>1.0</td>\n",
       "      <td>0.0</td>\n",
       "      <td>0.0</td>\n",
       "      <td>1.0</td>\n",
       "      <td>25.0</td>\n",
       "      <td>1.0</td>\n",
       "      <td>0.0</td>\n",
       "      <td>0.0</td>\n",
       "      <td>1.0</td>\n",
       "      <td>1.0</td>\n",
       "      <td>1.0</td>\n",
       "      <td>0.0</td>\n",
       "      <td>1.0</td>\n",
       "      <td>0.0</td>\n",
       "      <td>3.0</td>\n",
       "      <td>0.0</td>\n",
       "      <td>0.0</td>\n",
       "      <td>0.0</td>\n",
       "      <td>1.0</td>\n",
       "      <td>13.0</td>\n",
       "      <td>6.0</td>\n",
       "      <td>8.0</td>\n",
       "    </tr>\n",
       "    <tr>\n",
       "      <th>11</th>\n",
       "      <td>0.0</td>\n",
       "      <td>1.0</td>\n",
       "      <td>1.0</td>\n",
       "      <td>1.0</td>\n",
       "      <td>34.0</td>\n",
       "      <td>1.0</td>\n",
       "      <td>0.0</td>\n",
       "      <td>0.0</td>\n",
       "      <td>0.0</td>\n",
       "      <td>1.0</td>\n",
       "      <td>1.0</td>\n",
       "      <td>0.0</td>\n",
       "      <td>1.0</td>\n",
       "      <td>0.0</td>\n",
       "      <td>3.0</td>\n",
       "      <td>0.0</td>\n",
       "      <td>30.0</td>\n",
       "      <td>1.0</td>\n",
       "      <td>0.0</td>\n",
       "      <td>10.0</td>\n",
       "      <td>5.0</td>\n",
       "      <td>1.0</td>\n",
       "    </tr>\n",
       "    <tr>\n",
       "      <th>12</th>\n",
       "      <td>0.0</td>\n",
       "      <td>0.0</td>\n",
       "      <td>0.0</td>\n",
       "      <td>1.0</td>\n",
       "      <td>26.0</td>\n",
       "      <td>1.0</td>\n",
       "      <td>0.0</td>\n",
       "      <td>0.0</td>\n",
       "      <td>0.0</td>\n",
       "      <td>0.0</td>\n",
       "      <td>1.0</td>\n",
       "      <td>0.0</td>\n",
       "      <td>1.0</td>\n",
       "      <td>0.0</td>\n",
       "      <td>3.0</td>\n",
       "      <td>0.0</td>\n",
       "      <td>15.0</td>\n",
       "      <td>0.0</td>\n",
       "      <td>0.0</td>\n",
       "      <td>7.0</td>\n",
       "      <td>5.0</td>\n",
       "      <td>7.0</td>\n",
       "    </tr>\n",
       "    <tr>\n",
       "      <th>13</th>\n",
       "      <td>1.0</td>\n",
       "      <td>1.0</td>\n",
       "      <td>1.0</td>\n",
       "      <td>1.0</td>\n",
       "      <td>28.0</td>\n",
       "      <td>0.0</td>\n",
       "      <td>0.0</td>\n",
       "      <td>0.0</td>\n",
       "      <td>0.0</td>\n",
       "      <td>0.0</td>\n",
       "      <td>1.0</td>\n",
       "      <td>0.0</td>\n",
       "      <td>1.0</td>\n",
       "      <td>0.0</td>\n",
       "      <td>4.0</td>\n",
       "      <td>0.0</td>\n",
       "      <td>0.0</td>\n",
       "      <td>1.0</td>\n",
       "      <td>0.0</td>\n",
       "      <td>11.0</td>\n",
       "      <td>4.0</td>\n",
       "      <td>6.0</td>\n",
       "    </tr>\n",
       "    <tr>\n",
       "      <th>14</th>\n",
       "      <td>0.0</td>\n",
       "      <td>0.0</td>\n",
       "      <td>1.0</td>\n",
       "      <td>1.0</td>\n",
       "      <td>33.0</td>\n",
       "      <td>1.0</td>\n",
       "      <td>1.0</td>\n",
       "      <td>0.0</td>\n",
       "      <td>1.0</td>\n",
       "      <td>0.0</td>\n",
       "      <td>1.0</td>\n",
       "      <td>0.0</td>\n",
       "      <td>1.0</td>\n",
       "      <td>1.0</td>\n",
       "      <td>4.0</td>\n",
       "      <td>30.0</td>\n",
       "      <td>28.0</td>\n",
       "      <td>0.0</td>\n",
       "      <td>0.0</td>\n",
       "      <td>4.0</td>\n",
       "      <td>6.0</td>\n",
       "      <td>2.0</td>\n",
       "    </tr>\n",
       "    <tr>\n",
       "      <th>15</th>\n",
       "      <td>0.0</td>\n",
       "      <td>1.0</td>\n",
       "      <td>0.0</td>\n",
       "      <td>1.0</td>\n",
       "      <td>33.0</td>\n",
       "      <td>0.0</td>\n",
       "      <td>0.0</td>\n",
       "      <td>0.0</td>\n",
       "      <td>1.0</td>\n",
       "      <td>0.0</td>\n",
       "      <td>0.0</td>\n",
       "      <td>0.0</td>\n",
       "      <td>1.0</td>\n",
       "      <td>0.0</td>\n",
       "      <td>2.0</td>\n",
       "      <td>5.0</td>\n",
       "      <td>0.0</td>\n",
       "      <td>0.0</td>\n",
       "      <td>0.0</td>\n",
       "      <td>6.0</td>\n",
       "      <td>6.0</td>\n",
       "      <td>8.0</td>\n",
       "    </tr>\n",
       "    <tr>\n",
       "      <th>16</th>\n",
       "      <td>0.0</td>\n",
       "      <td>1.0</td>\n",
       "      <td>1.0</td>\n",
       "      <td>1.0</td>\n",
       "      <td>21.0</td>\n",
       "      <td>0.0</td>\n",
       "      <td>0.0</td>\n",
       "      <td>0.0</td>\n",
       "      <td>1.0</td>\n",
       "      <td>1.0</td>\n",
       "      <td>1.0</td>\n",
       "      <td>0.0</td>\n",
       "      <td>1.0</td>\n",
       "      <td>0.0</td>\n",
       "      <td>3.0</td>\n",
       "      <td>0.0</td>\n",
       "      <td>0.0</td>\n",
       "      <td>0.0</td>\n",
       "      <td>0.0</td>\n",
       "      <td>10.0</td>\n",
       "      <td>4.0</td>\n",
       "      <td>3.0</td>\n",
       "    </tr>\n",
       "    <tr>\n",
       "      <th>17</th>\n",
       "      <td>1.0</td>\n",
       "      <td>0.0</td>\n",
       "      <td>0.0</td>\n",
       "      <td>1.0</td>\n",
       "      <td>23.0</td>\n",
       "      <td>1.0</td>\n",
       "      <td>0.0</td>\n",
       "      <td>0.0</td>\n",
       "      <td>1.0</td>\n",
       "      <td>0.0</td>\n",
       "      <td>0.0</td>\n",
       "      <td>0.0</td>\n",
       "      <td>1.0</td>\n",
       "      <td>0.0</td>\n",
       "      <td>2.0</td>\n",
       "      <td>0.0</td>\n",
       "      <td>0.0</td>\n",
       "      <td>0.0</td>\n",
       "      <td>1.0</td>\n",
       "      <td>7.0</td>\n",
       "      <td>5.0</td>\n",
       "      <td>6.0</td>\n",
       "    </tr>\n",
       "    <tr>\n",
       "      <th>18</th>\n",
       "      <td>0.0</td>\n",
       "      <td>0.0</td>\n",
       "      <td>0.0</td>\n",
       "      <td>0.0</td>\n",
       "      <td>23.0</td>\n",
       "      <td>0.0</td>\n",
       "      <td>0.0</td>\n",
       "      <td>0.0</td>\n",
       "      <td>0.0</td>\n",
       "      <td>0.0</td>\n",
       "      <td>1.0</td>\n",
       "      <td>0.0</td>\n",
       "      <td>1.0</td>\n",
       "      <td>0.0</td>\n",
       "      <td>2.0</td>\n",
       "      <td>15.0</td>\n",
       "      <td>0.0</td>\n",
       "      <td>0.0</td>\n",
       "      <td>0.0</td>\n",
       "      <td>2.0</td>\n",
       "      <td>6.0</td>\n",
       "      <td>7.0</td>\n",
       "    </tr>\n",
       "    <tr>\n",
       "      <th>19</th>\n",
       "      <td>0.0</td>\n",
       "      <td>0.0</td>\n",
       "      <td>1.0</td>\n",
       "      <td>1.0</td>\n",
       "      <td>28.0</td>\n",
       "      <td>0.0</td>\n",
       "      <td>0.0</td>\n",
       "      <td>0.0</td>\n",
       "      <td>0.0</td>\n",
       "      <td>0.0</td>\n",
       "      <td>0.0</td>\n",
       "      <td>1.0</td>\n",
       "      <td>1.0</td>\n",
       "      <td>0.0</td>\n",
       "      <td>2.0</td>\n",
       "      <td>10.0</td>\n",
       "      <td>0.0</td>\n",
       "      <td>0.0</td>\n",
       "      <td>1.0</td>\n",
       "      <td>4.0</td>\n",
       "      <td>6.0</td>\n",
       "      <td>8.0</td>\n",
       "    </tr>\n",
       "  </tbody>\n",
       "</table>\n",
       "</div>\n",
       "      <button class=\"colab-df-convert\" onclick=\"convertToInteractive('df-e5227530-8624-4482-91d4-5fc8a39b1509')\"\n",
       "              title=\"Convert this dataframe to an interactive table.\"\n",
       "              style=\"display:none;\">\n",
       "        \n",
       "  <svg xmlns=\"http://www.w3.org/2000/svg\" height=\"24px\"viewBox=\"0 0 24 24\"\n",
       "       width=\"24px\">\n",
       "    <path d=\"M0 0h24v24H0V0z\" fill=\"none\"/>\n",
       "    <path d=\"M18.56 5.44l.94 2.06.94-2.06 2.06-.94-2.06-.94-.94-2.06-.94 2.06-2.06.94zm-11 1L8.5 8.5l.94-2.06 2.06-.94-2.06-.94L8.5 2.5l-.94 2.06-2.06.94zm10 10l.94 2.06.94-2.06 2.06-.94-2.06-.94-.94-2.06-.94 2.06-2.06.94z\"/><path d=\"M17.41 7.96l-1.37-1.37c-.4-.4-.92-.59-1.43-.59-.52 0-1.04.2-1.43.59L10.3 9.45l-7.72 7.72c-.78.78-.78 2.05 0 2.83L4 21.41c.39.39.9.59 1.41.59.51 0 1.02-.2 1.41-.59l7.78-7.78 2.81-2.81c.8-.78.8-2.07 0-2.86zM5.41 20L4 18.59l7.72-7.72 1.47 1.35L5.41 20z\"/>\n",
       "  </svg>\n",
       "      </button>\n",
       "      \n",
       "  <style>\n",
       "    .colab-df-container {\n",
       "      display:flex;\n",
       "      flex-wrap:wrap;\n",
       "      gap: 12px;\n",
       "    }\n",
       "\n",
       "    .colab-df-convert {\n",
       "      background-color: #E8F0FE;\n",
       "      border: none;\n",
       "      border-radius: 50%;\n",
       "      cursor: pointer;\n",
       "      display: none;\n",
       "      fill: #1967D2;\n",
       "      height: 32px;\n",
       "      padding: 0 0 0 0;\n",
       "      width: 32px;\n",
       "    }\n",
       "\n",
       "    .colab-df-convert:hover {\n",
       "      background-color: #E2EBFA;\n",
       "      box-shadow: 0px 1px 2px rgba(60, 64, 67, 0.3), 0px 1px 3px 1px rgba(60, 64, 67, 0.15);\n",
       "      fill: #174EA6;\n",
       "    }\n",
       "\n",
       "    [theme=dark] .colab-df-convert {\n",
       "      background-color: #3B4455;\n",
       "      fill: #D2E3FC;\n",
       "    }\n",
       "\n",
       "    [theme=dark] .colab-df-convert:hover {\n",
       "      background-color: #434B5C;\n",
       "      box-shadow: 0px 1px 3px 1px rgba(0, 0, 0, 0.15);\n",
       "      filter: drop-shadow(0px 1px 2px rgba(0, 0, 0, 0.3));\n",
       "      fill: #FFFFFF;\n",
       "    }\n",
       "  </style>\n",
       "\n",
       "      <script>\n",
       "        const buttonEl =\n",
       "          document.querySelector('#df-e5227530-8624-4482-91d4-5fc8a39b1509 button.colab-df-convert');\n",
       "        buttonEl.style.display =\n",
       "          google.colab.kernel.accessAllowed ? 'block' : 'none';\n",
       "\n",
       "        async function convertToInteractive(key) {\n",
       "          const element = document.querySelector('#df-e5227530-8624-4482-91d4-5fc8a39b1509');\n",
       "          const dataTable =\n",
       "            await google.colab.kernel.invokeFunction('convertToInteractive',\n",
       "                                                     [key], {});\n",
       "          if (!dataTable) return;\n",
       "\n",
       "          const docLinkHtml = 'Like what you see? Visit the ' +\n",
       "            '<a target=\"_blank\" href=https://colab.research.google.com/notebooks/data_table.ipynb>data table notebook</a>'\n",
       "            + ' to learn more about interactive tables.';\n",
       "          element.innerHTML = '';\n",
       "          dataTable['output_type'] = 'display_data';\n",
       "          await google.colab.output.renderOutput(dataTable, element);\n",
       "          const docLink = document.createElement('div');\n",
       "          docLink.innerHTML = docLinkHtml;\n",
       "          element.appendChild(docLink);\n",
       "        }\n",
       "      </script>\n",
       "    </div>\n",
       "  </div>\n",
       "  "
      ],
      "text/plain": [
       "    Diabetes_binary  HighBP  HighChol  CholCheck  ...  Sex   Age  Education  Income\n",
       "0               0.0     1.0       1.0        1.0  ...  0.0   9.0        4.0     3.0\n",
       "1               0.0     0.0       0.0        0.0  ...  0.0   7.0        6.0     1.0\n",
       "2               0.0     1.0       1.0        1.0  ...  0.0   9.0        4.0     8.0\n",
       "3               0.0     1.0       0.0        1.0  ...  0.0  11.0        3.0     6.0\n",
       "4               0.0     1.0       1.0        1.0  ...  0.0  11.0        5.0     4.0\n",
       "5               0.0     1.0       1.0        1.0  ...  1.0  10.0        6.0     8.0\n",
       "6               0.0     1.0       0.0        1.0  ...  0.0   9.0        6.0     7.0\n",
       "7               0.0     1.0       1.0        1.0  ...  0.0  11.0        4.0     4.0\n",
       "8               1.0     1.0       1.0        1.0  ...  0.0   9.0        5.0     1.0\n",
       "9               0.0     0.0       0.0        1.0  ...  1.0   8.0        4.0     3.0\n",
       "10              1.0     0.0       0.0        1.0  ...  1.0  13.0        6.0     8.0\n",
       "11              0.0     1.0       1.0        1.0  ...  0.0  10.0        5.0     1.0\n",
       "12              0.0     0.0       0.0        1.0  ...  0.0   7.0        5.0     7.0\n",
       "13              1.0     1.0       1.0        1.0  ...  0.0  11.0        4.0     6.0\n",
       "14              0.0     0.0       1.0        1.0  ...  0.0   4.0        6.0     2.0\n",
       "15              0.0     1.0       0.0        1.0  ...  0.0   6.0        6.0     8.0\n",
       "16              0.0     1.0       1.0        1.0  ...  0.0  10.0        4.0     3.0\n",
       "17              1.0     0.0       0.0        1.0  ...  1.0   7.0        5.0     6.0\n",
       "18              0.0     0.0       0.0        0.0  ...  0.0   2.0        6.0     7.0\n",
       "19              0.0     0.0       1.0        1.0  ...  1.0   4.0        6.0     8.0\n",
       "\n",
       "[20 rows x 22 columns]"
      ]
     },
     "execution_count": 69,
     "metadata": {},
     "output_type": "execute_result"
    }
   ],
   "source": [
    "df.head(20)"
   ]
  },
  {
   "cell_type": "markdown",
   "metadata": {
    "id": "aW4Uyfg9f8I4"
   },
   "source": [
    "Feature description (the binary ones correspond to yes/no)\n",
    "\n",
    "* **Diabetes_binary**: presence od dibates or prediabetes\n",
    "* **HighBP**: high blood pressure (binary)\n",
    "* **HighChol**: high cholesterol  (binary)\n",
    "* **CholCheck**: cholesterol medical examination in the past 5 years  (binary)\n",
    "* **BMI**: bmi\n",
    "* **Smoker**: yes if the person smoked at least 100 cigarettes in a life time (binary)\n",
    "* **Stroke**: stroke  (binary)\n",
    "* **HeartDiseaseorAttack**:  (binary)\n",
    "* **PhysActivity**: any physical activity in the past 30 days (binary)\n",
    "* **Fruits**: any fruits during the day (binary)\n",
    "* **Veggies**: any vegetables during the day  (binary)\n",
    "* **HvyAlcoholConsump**: person that drinks more than 14 alcoholic beverage in a week (man) or 7 (woman) (binary)\n",
    "* **AnyHealthcare**: health insurance (binary)\n",
    "* **NoDocbcCost**: give up a medical examination because of cost\n",
    "* **GenHlth**: health conditions (1=excellent, 5=poor)\n",
    "* **MentHlth**: in the past 30 days how many days the person mental health was not good?\n",
    "* **PhysHlth**: in the past 30 days how many days the person physical health was not good?\n",
    "* **DiffWalk**: difficulty to walk (binary)\n",
    "* **Sex**: woman 0, man 1\n",
    "* **Age**:  1:18-24 years, 2: 25-29, 3: 30-34,...,12: 75-79, 13: 80 or greater\n",
    "* **Education**: level of education, 1: no school, 2: primary school, 3: high school (not competed), 4: high school, 5: college, 6: gradutated\n",
    "* **Income**: income in 8 categories, 1: less than 10k dollars, 2: 10-15k, 3: 15-20k, 4: 20-25k, 5: 25-35k, 6: 25-50k, 7: 50-75k, 8: above 75k\n"
   ]
  },
  {
   "cell_type": "markdown",
   "metadata": {
    "id": "o365xzBqi6Qj"
   },
   "source": [
    "## Features exploration"
   ]
  },
  {
   "cell_type": "code",
   "execution_count": null,
   "metadata": {
    "colab": {
     "base_uri": "https://localhost:8080/",
     "height": 1000
    },
    "id": "mdPlxMIUUHWV",
    "outputId": "373c0bf0-1efa-4ed2-c216-d0b40218a6ea"
   },
   "outputs": [
    {
     "data": {
      "image/png": "[encoded data removed]",
      "text/plain": [
       "<Figure size 1800x1080 with 22 Axes>"
      ]
     },
     "metadata": {
      "needs_background": "light"
     },
     "output_type": "display_data"
    }
   ],
   "source": [
    "fig, ax = plt.subplots(5,5, figsize=(25, 15))\n",
    "ax =ax.flatten()\n",
    "\n",
    "columns_boxplot = ['BMI','MentHlth','PhysHlth'] \n",
    "for i, col in enumerate(df.columns):\n",
    "  if col in columns_boxplot:\n",
    "    chart = sns.boxplot(x=df[col],ax =ax[i],palette=\"Set2\")\n",
    "    chart.set_xlabel(col, fontsize=12 )\n",
    "    chart.set_ylabel('',fontsize=12 )\n",
    "    chart.tick_params(labelsize=10)\n",
    "  else:\n",
    "    chart = sns.countplot(x= df[col], ax =ax[i],palette=\"Set2\")\n",
    "    chart.set_xlabel(col, fontsize=12 )\n",
    "    chart.set_ylabel('Count',fontsize=12 )\n",
    "    chart.tick_params(labelsize=10)\n",
    "\n",
    "for ax in ax[22:]:\n",
    "  ax.remove()\n",
    "fig.tight_layout()"
   ]
  },
  {
   "cell_type": "markdown",
   "metadata": {
    "id": "XiVau1-ko1zw"
   },
   "source": [
    "Dataset is unblanced, 86% of values is 0 (no diabetes)"
   ]
  },
  {
   "cell_type": "code",
   "execution_count": null,
   "metadata": {
    "colab": {
     "base_uri": "https://localhost:8080/"
    },
    "id": "sBZgMuWZCHM9",
    "outputId": "58c21273-ba6b-4349-af29-b0bd28dc6175"
   },
   "outputs": [
    {
     "name": "stdout",
     "output_type": "stream",
     "text": [
      "classe 0: 0.8606669820245979 classe 1: 0.13933301797540207\n"
     ]
    }
   ],
   "source": [
    "print(f'classe 0: {(df.Diabetes_binary[df.Diabetes_binary==0].value_counts()/df.Diabetes_binary.size)[0]}', \n",
    "      f'classe 1: {(df.Diabetes_binary[df.Diabetes_binary==1].value_counts()/df.Diabetes_binary.size)[1]}')\n"
   ]
  },
  {
   "cell_type": "markdown",
   "metadata": {
    "id": "k-gTsuHihj-x"
   },
   "source": [
    "Check of target variables vs the other columns"
   ]
  },
  {
   "cell_type": "code",
   "execution_count": null,
   "metadata": {
    "colab": {
     "base_uri": "https://localhost:8080/",
     "height": 1000
    },
    "id": "IyA-wcYbhtXw",
    "outputId": "85a5be87-f637-45a9-8259-f19442d58916"
   },
   "outputs": [
    {
     "data": {
      "image/png": "[encoded data removed]",
      "text/plain": [
       "<Figure size 1800x1080 with 21 Axes>"
      ]
     },
     "metadata": {
      "needs_background": "light"
     },
     "output_type": "display_data"
    }
   ],
   "source": [
    "fig, ax = plt.subplots(5,5, figsize=(25, 15))\n",
    "ax =ax.flatten()\n",
    "\n",
    "columns_boxplot = ['BMI','MentHlth','PhysHlth'] \n",
    "for i, col in enumerate(df.columns[1:]):\n",
    "  if col in columns_boxplot:\n",
    "    chart = sns.boxplot(y=df[col], x='Diabetes_binary',ax =ax[i],palette=\"Set2\", data=df,hue='Diabetes_binary')\n",
    "    chart.set_xlabel(col, fontsize=12 )\n",
    "    chart.set_ylabel('Value',fontsize=12 )\n",
    "    chart.tick_params(labelsize=10)\n",
    "  else:\n",
    "    chart = sns.countplot(x= df[col], ax =ax[i],palette=\"Set2\",data=df,hue='Diabetes_binary')\n",
    "    chart.set_xlabel(col, fontsize=12 )\n",
    "    chart.set_ylabel('Count',fontsize=12 )\n",
    "    chart.tick_params(labelsize=10)\n",
    "\n",
    "for ax in ax[21:]:\n",
    "  ax.remove()\n",
    "fig.tight_layout()"
   ]
  },
  {
   "cell_type": "markdown",
   "metadata": {
    "id": "li8YrLntlzJi"
   },
   "source": [
    "Diabtes is more common if\n",
    "* the peson has high blood pressure /high cholesterol/stroke\n",
    "* the health condition is poor or there is difficulty to walk\n",
    "* the income is in the bottom range (low)\n"
   ]
  },
  {
   "cell_type": "markdown",
   "metadata": {
    "id": "oAlepgsOVvgo"
   },
   "source": [
    "# Preprocessing"
   ]
  },
  {
   "cell_type": "markdown",
   "metadata": {
    "id": "6gCsBvwP_-83"
   },
   "source": [
    "## Train and Test split"
   ]
  },
  {
   "cell_type": "code",
   "execution_count": null,
   "metadata": {
    "id": "YFlN6QUg18FE"
   },
   "outputs": [],
   "source": [
    "X = df.drop(['Diabetes_binary'], axis=1)\n",
    "y = df[['Diabetes_binary']]"
   ]
  },
  {
   "cell_type": "markdown",
   "metadata": {
    "id": "tcr7kzE7AS4Z"
   },
   "source": [
    "We use stratify to mantain the occurrence of diabetes in train and validation"
   ]
  },
  {
   "cell_type": "code",
   "execution_count": null,
   "metadata": {
    "id": "Zrr8wDmpACdV"
   },
   "outputs": [],
   "source": [
    "X_train, X_val_0, y_train, y_val_0 = train_test_split(X, y, test_size=0.2, random_state=101, stratify=y)"
   ]
  },
  {
   "cell_type": "code",
   "execution_count": null,
   "metadata": {
    "id": "1lhcz7QoAuuB"
   },
   "outputs": [],
   "source": [
    "X_val, X_test, y_val, y_test = train_test_split(X_val_0, y_val_0, test_size=0.15, random_state=101, stratify=y_val_0)"
   ]
  },
  {
   "cell_type": "code",
   "execution_count": null,
   "metadata": {
    "colab": {
     "base_uri": "https://localhost:8080/",
     "height": 250
    },
    "id": "LTQcoXleSK7n",
    "outputId": "d4e2fc62-d550-48fb-9ac2-c186d4400772"
   },
   "outputs": [
    {
     "data": {
      "text/html": [
       "\n",
       "  <div id=\"df-eb0b0c33-0192-4fdc-aed0-24f831156264\">\n",
       "    <div class=\"colab-df-container\">\n",
       "      <div>\n",
       "<style scoped>\n",
       "    .dataframe tbody tr th:only-of-type {\n",
       "        vertical-align: middle;\n",
       "    }\n",
       "\n",
       "    .dataframe tbody tr th {\n",
       "        vertical-align: top;\n",
       "    }\n",
       "\n",
       "    .dataframe thead th {\n",
       "        text-align: right;\n",
       "    }\n",
       "</style>\n",
       "<table border=\"1\" class=\"dataframe\">\n",
       "  <thead>\n",
       "    <tr style=\"text-align: right;\">\n",
       "      <th></th>\n",
       "      <th>HighBP</th>\n",
       "      <th>HighChol</th>\n",
       "      <th>CholCheck</th>\n",
       "      <th>BMI</th>\n",
       "      <th>Smoker</th>\n",
       "      <th>Stroke</th>\n",
       "      <th>HeartDiseaseorAttack</th>\n",
       "      <th>PhysActivity</th>\n",
       "      <th>Fruits</th>\n",
       "      <th>Veggies</th>\n",
       "      <th>HvyAlcoholConsump</th>\n",
       "      <th>AnyHealthcare</th>\n",
       "      <th>NoDocbcCost</th>\n",
       "      <th>GenHlth</th>\n",
       "      <th>MentHlth</th>\n",
       "      <th>PhysHlth</th>\n",
       "      <th>DiffWalk</th>\n",
       "      <th>Sex</th>\n",
       "      <th>Age</th>\n",
       "      <th>Education</th>\n",
       "      <th>Income</th>\n",
       "    </tr>\n",
       "  </thead>\n",
       "  <tbody>\n",
       "    <tr>\n",
       "      <th>45308</th>\n",
       "      <td>1.0</td>\n",
       "      <td>1.0</td>\n",
       "      <td>1.0</td>\n",
       "      <td>27.0</td>\n",
       "      <td>1.0</td>\n",
       "      <td>0.0</td>\n",
       "      <td>1.0</td>\n",
       "      <td>1.0</td>\n",
       "      <td>1.0</td>\n",
       "      <td>1.0</td>\n",
       "      <td>0.0</td>\n",
       "      <td>1.0</td>\n",
       "      <td>0.0</td>\n",
       "      <td>3.0</td>\n",
       "      <td>0.0</td>\n",
       "      <td>4.0</td>\n",
       "      <td>1.0</td>\n",
       "      <td>1.0</td>\n",
       "      <td>11.0</td>\n",
       "      <td>5.0</td>\n",
       "      <td>6.0</td>\n",
       "    </tr>\n",
       "    <tr>\n",
       "      <th>184820</th>\n",
       "      <td>0.0</td>\n",
       "      <td>1.0</td>\n",
       "      <td>1.0</td>\n",
       "      <td>27.0</td>\n",
       "      <td>0.0</td>\n",
       "      <td>0.0</td>\n",
       "      <td>0.0</td>\n",
       "      <td>1.0</td>\n",
       "      <td>0.0</td>\n",
       "      <td>1.0</td>\n",
       "      <td>0.0</td>\n",
       "      <td>1.0</td>\n",
       "      <td>0.0</td>\n",
       "      <td>3.0</td>\n",
       "      <td>0.0</td>\n",
       "      <td>0.0</td>\n",
       "      <td>0.0</td>\n",
       "      <td>1.0</td>\n",
       "      <td>7.0</td>\n",
       "      <td>6.0</td>\n",
       "      <td>8.0</td>\n",
       "    </tr>\n",
       "    <tr>\n",
       "      <th>122151</th>\n",
       "      <td>1.0</td>\n",
       "      <td>1.0</td>\n",
       "      <td>1.0</td>\n",
       "      <td>31.0</td>\n",
       "      <td>1.0</td>\n",
       "      <td>0.0</td>\n",
       "      <td>0.0</td>\n",
       "      <td>1.0</td>\n",
       "      <td>1.0</td>\n",
       "      <td>1.0</td>\n",
       "      <td>0.0</td>\n",
       "      <td>1.0</td>\n",
       "      <td>0.0</td>\n",
       "      <td>3.0</td>\n",
       "      <td>0.0</td>\n",
       "      <td>0.0</td>\n",
       "      <td>0.0</td>\n",
       "      <td>1.0</td>\n",
       "      <td>12.0</td>\n",
       "      <td>6.0</td>\n",
       "      <td>8.0</td>\n",
       "    </tr>\n",
       "    <tr>\n",
       "      <th>133070</th>\n",
       "      <td>0.0</td>\n",
       "      <td>1.0</td>\n",
       "      <td>1.0</td>\n",
       "      <td>26.0</td>\n",
       "      <td>0.0</td>\n",
       "      <td>0.0</td>\n",
       "      <td>1.0</td>\n",
       "      <td>1.0</td>\n",
       "      <td>0.0</td>\n",
       "      <td>0.0</td>\n",
       "      <td>0.0</td>\n",
       "      <td>1.0</td>\n",
       "      <td>0.0</td>\n",
       "      <td>2.0</td>\n",
       "      <td>0.0</td>\n",
       "      <td>0.0</td>\n",
       "      <td>0.0</td>\n",
       "      <td>1.0</td>\n",
       "      <td>11.0</td>\n",
       "      <td>5.0</td>\n",
       "      <td>8.0</td>\n",
       "    </tr>\n",
       "    <tr>\n",
       "      <th>239487</th>\n",
       "      <td>1.0</td>\n",
       "      <td>1.0</td>\n",
       "      <td>1.0</td>\n",
       "      <td>29.0</td>\n",
       "      <td>0.0</td>\n",
       "      <td>0.0</td>\n",
       "      <td>0.0</td>\n",
       "      <td>0.0</td>\n",
       "      <td>0.0</td>\n",
       "      <td>1.0</td>\n",
       "      <td>0.0</td>\n",
       "      <td>1.0</td>\n",
       "      <td>0.0</td>\n",
       "      <td>4.0</td>\n",
       "      <td>0.0</td>\n",
       "      <td>14.0</td>\n",
       "      <td>1.0</td>\n",
       "      <td>0.0</td>\n",
       "      <td>11.0</td>\n",
       "      <td>4.0</td>\n",
       "      <td>7.0</td>\n",
       "    </tr>\n",
       "  </tbody>\n",
       "</table>\n",
       "</div>\n",
       "      <button class=\"colab-df-convert\" onclick=\"convertToInteractive('df-eb0b0c33-0192-4fdc-aed0-24f831156264')\"\n",
       "              title=\"Convert this dataframe to an interactive table.\"\n",
       "              style=\"display:none;\">\n",
       "        \n",
       "  <svg xmlns=\"http://www.w3.org/2000/svg\" height=\"24px\"viewBox=\"0 0 24 24\"\n",
       "       width=\"24px\">\n",
       "    <path d=\"M0 0h24v24H0V0z\" fill=\"none\"/>\n",
       "    <path d=\"M18.56 5.44l.94 2.06.94-2.06 2.06-.94-2.06-.94-.94-2.06-.94 2.06-2.06.94zm-11 1L8.5 8.5l.94-2.06 2.06-.94-2.06-.94L8.5 2.5l-.94 2.06-2.06.94zm10 10l.94 2.06.94-2.06 2.06-.94-2.06-.94-.94-2.06-.94 2.06-2.06.94z\"/><path d=\"M17.41 7.96l-1.37-1.37c-.4-.4-.92-.59-1.43-.59-.52 0-1.04.2-1.43.59L10.3 9.45l-7.72 7.72c-.78.78-.78 2.05 0 2.83L4 21.41c.39.39.9.59 1.41.59.51 0 1.02-.2 1.41-.59l7.78-7.78 2.81-2.81c.8-.78.8-2.07 0-2.86zM5.41 20L4 18.59l7.72-7.72 1.47 1.35L5.41 20z\"/>\n",
       "  </svg>\n",
       "      </button>\n",
       "      \n",
       "  <style>\n",
       "    .colab-df-container {\n",
       "      display:flex;\n",
       "      flex-wrap:wrap;\n",
       "      gap: 12px;\n",
       "    }\n",
       "\n",
       "    .colab-df-convert {\n",
       "      background-color: #E8F0FE;\n",
       "      border: none;\n",
       "      border-radius: 50%;\n",
       "      cursor: pointer;\n",
       "      display: none;\n",
       "      fill: #1967D2;\n",
       "      height: 32px;\n",
       "      padding: 0 0 0 0;\n",
       "      width: 32px;\n",
       "    }\n",
       "\n",
       "    .colab-df-convert:hover {\n",
       "      background-color: #E2EBFA;\n",
       "      box-shadow: 0px 1px 2px rgba(60, 64, 67, 0.3), 0px 1px 3px 1px rgba(60, 64, 67, 0.15);\n",
       "      fill: #174EA6;\n",
       "    }\n",
       "\n",
       "    [theme=dark] .colab-df-convert {\n",
       "      background-color: #3B4455;\n",
       "      fill: #D2E3FC;\n",
       "    }\n",
       "\n",
       "    [theme=dark] .colab-df-convert:hover {\n",
       "      background-color: #434B5C;\n",
       "      box-shadow: 0px 1px 3px 1px rgba(0, 0, 0, 0.15);\n",
       "      filter: drop-shadow(0px 1px 2px rgba(0, 0, 0, 0.3));\n",
       "      fill: #FFFFFF;\n",
       "    }\n",
       "  </style>\n",
       "\n",
       "      <script>\n",
       "        const buttonEl =\n",
       "          document.querySelector('#df-eb0b0c33-0192-4fdc-aed0-24f831156264 button.colab-df-convert');\n",
       "        buttonEl.style.display =\n",
       "          google.colab.kernel.accessAllowed ? 'block' : 'none';\n",
       "\n",
       "        async function convertToInteractive(key) {\n",
       "          const element = document.querySelector('#df-eb0b0c33-0192-4fdc-aed0-24f831156264');\n",
       "          const dataTable =\n",
       "            await google.colab.kernel.invokeFunction('convertToInteractive',\n",
       "                                                     [key], {});\n",
       "          if (!dataTable) return;\n",
       "\n",
       "          const docLinkHtml = 'Like what you see? Visit the ' +\n",
       "            '<a target=\"_blank\" href=https://colab.research.google.com/notebooks/data_table.ipynb>data table notebook</a>'\n",
       "            + ' to learn more about interactive tables.';\n",
       "          element.innerHTML = '';\n",
       "          dataTable['output_type'] = 'display_data';\n",
       "          await google.colab.output.renderOutput(dataTable, element);\n",
       "          const docLink = document.createElement('div');\n",
       "          docLink.innerHTML = docLinkHtml;\n",
       "          element.appendChild(docLink);\n",
       "        }\n",
       "      </script>\n",
       "    </div>\n",
       "  </div>\n",
       "  "
      ],
      "text/plain": [
       "        HighBP  HighChol  CholCheck   BMI  ...  Sex   Age  Education  Income\n",
       "45308      1.0       1.0        1.0  27.0  ...  1.0  11.0        5.0     6.0\n",
       "184820     0.0       1.0        1.0  27.0  ...  1.0   7.0        6.0     8.0\n",
       "122151     1.0       1.0        1.0  31.0  ...  1.0  12.0        6.0     8.0\n",
       "133070     0.0       1.0        1.0  26.0  ...  1.0  11.0        5.0     8.0\n",
       "239487     1.0       1.0        1.0  29.0  ...  0.0  11.0        4.0     7.0\n",
       "\n",
       "[5 rows x 21 columns]"
      ]
     },
     "execution_count": 76,
     "metadata": {},
     "output_type": "execute_result"
    }
   ],
   "source": [
    "X_train.head()"
   ]
  },
  {
   "cell_type": "code",
   "execution_count": null,
   "metadata": {
    "colab": {
     "base_uri": "https://localhost:8080/",
     "height": 250
    },
    "id": "Bd9JjGN3SXnd",
    "outputId": "84d83e8e-9b7c-4b3b-b354-9429da4c51ee"
   },
   "outputs": [
    {
     "data": {
      "text/html": [
       "\n",
       "  <div id=\"df-903693ed-0122-4f70-8534-683cf14a408a\">\n",
       "    <div class=\"colab-df-container\">\n",
       "      <div>\n",
       "<style scoped>\n",
       "    .dataframe tbody tr th:only-of-type {\n",
       "        vertical-align: middle;\n",
       "    }\n",
       "\n",
       "    .dataframe tbody tr th {\n",
       "        vertical-align: top;\n",
       "    }\n",
       "\n",
       "    .dataframe thead th {\n",
       "        text-align: right;\n",
       "    }\n",
       "</style>\n",
       "<table border=\"1\" class=\"dataframe\">\n",
       "  <thead>\n",
       "    <tr style=\"text-align: right;\">\n",
       "      <th></th>\n",
       "      <th>HighBP</th>\n",
       "      <th>HighChol</th>\n",
       "      <th>CholCheck</th>\n",
       "      <th>BMI</th>\n",
       "      <th>Smoker</th>\n",
       "      <th>Stroke</th>\n",
       "      <th>HeartDiseaseorAttack</th>\n",
       "      <th>PhysActivity</th>\n",
       "      <th>Fruits</th>\n",
       "      <th>Veggies</th>\n",
       "      <th>HvyAlcoholConsump</th>\n",
       "      <th>AnyHealthcare</th>\n",
       "      <th>NoDocbcCost</th>\n",
       "      <th>GenHlth</th>\n",
       "      <th>MentHlth</th>\n",
       "      <th>PhysHlth</th>\n",
       "      <th>DiffWalk</th>\n",
       "      <th>Sex</th>\n",
       "      <th>Age</th>\n",
       "      <th>Education</th>\n",
       "      <th>Income</th>\n",
       "    </tr>\n",
       "  </thead>\n",
       "  <tbody>\n",
       "    <tr>\n",
       "      <th>238060</th>\n",
       "      <td>0.0</td>\n",
       "      <td>0.0</td>\n",
       "      <td>1.0</td>\n",
       "      <td>32.0</td>\n",
       "      <td>0.0</td>\n",
       "      <td>0.0</td>\n",
       "      <td>0.0</td>\n",
       "      <td>1.0</td>\n",
       "      <td>0.0</td>\n",
       "      <td>1.0</td>\n",
       "      <td>0.0</td>\n",
       "      <td>1.0</td>\n",
       "      <td>0.0</td>\n",
       "      <td>1.0</td>\n",
       "      <td>0.0</td>\n",
       "      <td>0.0</td>\n",
       "      <td>0.0</td>\n",
       "      <td>1.0</td>\n",
       "      <td>8.0</td>\n",
       "      <td>6.0</td>\n",
       "      <td>8.0</td>\n",
       "    </tr>\n",
       "    <tr>\n",
       "      <th>94160</th>\n",
       "      <td>0.0</td>\n",
       "      <td>0.0</td>\n",
       "      <td>1.0</td>\n",
       "      <td>24.0</td>\n",
       "      <td>1.0</td>\n",
       "      <td>0.0</td>\n",
       "      <td>0.0</td>\n",
       "      <td>1.0</td>\n",
       "      <td>1.0</td>\n",
       "      <td>0.0</td>\n",
       "      <td>0.0</td>\n",
       "      <td>1.0</td>\n",
       "      <td>0.0</td>\n",
       "      <td>2.0</td>\n",
       "      <td>0.0</td>\n",
       "      <td>0.0</td>\n",
       "      <td>1.0</td>\n",
       "      <td>1.0</td>\n",
       "      <td>10.0</td>\n",
       "      <td>5.0</td>\n",
       "      <td>7.0</td>\n",
       "    </tr>\n",
       "    <tr>\n",
       "      <th>49025</th>\n",
       "      <td>0.0</td>\n",
       "      <td>0.0</td>\n",
       "      <td>1.0</td>\n",
       "      <td>25.0</td>\n",
       "      <td>0.0</td>\n",
       "      <td>0.0</td>\n",
       "      <td>0.0</td>\n",
       "      <td>1.0</td>\n",
       "      <td>0.0</td>\n",
       "      <td>1.0</td>\n",
       "      <td>0.0</td>\n",
       "      <td>1.0</td>\n",
       "      <td>0.0</td>\n",
       "      <td>2.0</td>\n",
       "      <td>0.0</td>\n",
       "      <td>0.0</td>\n",
       "      <td>0.0</td>\n",
       "      <td>0.0</td>\n",
       "      <td>7.0</td>\n",
       "      <td>6.0</td>\n",
       "      <td>8.0</td>\n",
       "    </tr>\n",
       "    <tr>\n",
       "      <th>177925</th>\n",
       "      <td>1.0</td>\n",
       "      <td>1.0</td>\n",
       "      <td>1.0</td>\n",
       "      <td>26.0</td>\n",
       "      <td>0.0</td>\n",
       "      <td>0.0</td>\n",
       "      <td>0.0</td>\n",
       "      <td>1.0</td>\n",
       "      <td>1.0</td>\n",
       "      <td>0.0</td>\n",
       "      <td>0.0</td>\n",
       "      <td>1.0</td>\n",
       "      <td>0.0</td>\n",
       "      <td>3.0</td>\n",
       "      <td>0.0</td>\n",
       "      <td>0.0</td>\n",
       "      <td>0.0</td>\n",
       "      <td>0.0</td>\n",
       "      <td>11.0</td>\n",
       "      <td>6.0</td>\n",
       "      <td>8.0</td>\n",
       "    </tr>\n",
       "    <tr>\n",
       "      <th>192244</th>\n",
       "      <td>1.0</td>\n",
       "      <td>0.0</td>\n",
       "      <td>1.0</td>\n",
       "      <td>21.0</td>\n",
       "      <td>1.0</td>\n",
       "      <td>0.0</td>\n",
       "      <td>1.0</td>\n",
       "      <td>1.0</td>\n",
       "      <td>1.0</td>\n",
       "      <td>1.0</td>\n",
       "      <td>0.0</td>\n",
       "      <td>1.0</td>\n",
       "      <td>0.0</td>\n",
       "      <td>5.0</td>\n",
       "      <td>0.0</td>\n",
       "      <td>5.0</td>\n",
       "      <td>1.0</td>\n",
       "      <td>1.0</td>\n",
       "      <td>13.0</td>\n",
       "      <td>5.0</td>\n",
       "      <td>5.0</td>\n",
       "    </tr>\n",
       "  </tbody>\n",
       "</table>\n",
       "</div>\n",
       "      <button class=\"colab-df-convert\" onclick=\"convertToInteractive('df-903693ed-0122-4f70-8534-683cf14a408a')\"\n",
       "              title=\"Convert this dataframe to an interactive table.\"\n",
       "              style=\"display:none;\">\n",
       "        \n",
       "  <svg xmlns=\"http://www.w3.org/2000/svg\" height=\"24px\"viewBox=\"0 0 24 24\"\n",
       "       width=\"24px\">\n",
       "    <path d=\"M0 0h24v24H0V0z\" fill=\"none\"/>\n",
       "    <path d=\"M18.56 5.44l.94 2.06.94-2.06 2.06-.94-2.06-.94-.94-2.06-.94 2.06-2.06.94zm-11 1L8.5 8.5l.94-2.06 2.06-.94-2.06-.94L8.5 2.5l-.94 2.06-2.06.94zm10 10l.94 2.06.94-2.06 2.06-.94-2.06-.94-.94-2.06-.94 2.06-2.06.94z\"/><path d=\"M17.41 7.96l-1.37-1.37c-.4-.4-.92-.59-1.43-.59-.52 0-1.04.2-1.43.59L10.3 9.45l-7.72 7.72c-.78.78-.78 2.05 0 2.83L4 21.41c.39.39.9.59 1.41.59.51 0 1.02-.2 1.41-.59l7.78-7.78 2.81-2.81c.8-.78.8-2.07 0-2.86zM5.41 20L4 18.59l7.72-7.72 1.47 1.35L5.41 20z\"/>\n",
       "  </svg>\n",
       "      </button>\n",
       "      \n",
       "  <style>\n",
       "    .colab-df-container {\n",
       "      display:flex;\n",
       "      flex-wrap:wrap;\n",
       "      gap: 12px;\n",
       "    }\n",
       "\n",
       "    .colab-df-convert {\n",
       "      background-color: #E8F0FE;\n",
       "      border: none;\n",
       "      border-radius: 50%;\n",
       "      cursor: pointer;\n",
       "      display: none;\n",
       "      fill: #1967D2;\n",
       "      height: 32px;\n",
       "      padding: 0 0 0 0;\n",
       "      width: 32px;\n",
       "    }\n",
       "\n",
       "    .colab-df-convert:hover {\n",
       "      background-color: #E2EBFA;\n",
       "      box-shadow: 0px 1px 2px rgba(60, 64, 67, 0.3), 0px 1px 3px 1px rgba(60, 64, 67, 0.15);\n",
       "      fill: #174EA6;\n",
       "    }\n",
       "\n",
       "    [theme=dark] .colab-df-convert {\n",
       "      background-color: #3B4455;\n",
       "      fill: #D2E3FC;\n",
       "    }\n",
       "\n",
       "    [theme=dark] .colab-df-convert:hover {\n",
       "      background-color: #434B5C;\n",
       "      box-shadow: 0px 1px 3px 1px rgba(0, 0, 0, 0.15);\n",
       "      filter: drop-shadow(0px 1px 2px rgba(0, 0, 0, 0.3));\n",
       "      fill: #FFFFFF;\n",
       "    }\n",
       "  </style>\n",
       "\n",
       "      <script>\n",
       "        const buttonEl =\n",
       "          document.querySelector('#df-903693ed-0122-4f70-8534-683cf14a408a button.colab-df-convert');\n",
       "        buttonEl.style.display =\n",
       "          google.colab.kernel.accessAllowed ? 'block' : 'none';\n",
       "\n",
       "        async function convertToInteractive(key) {\n",
       "          const element = document.querySelector('#df-903693ed-0122-4f70-8534-683cf14a408a');\n",
       "          const dataTable =\n",
       "            await google.colab.kernel.invokeFunction('convertToInteractive',\n",
       "                                                     [key], {});\n",
       "          if (!dataTable) return;\n",
       "\n",
       "          const docLinkHtml = 'Like what you see? Visit the ' +\n",
       "            '<a target=\"_blank\" href=https://colab.research.google.com/notebooks/data_table.ipynb>data table notebook</a>'\n",
       "            + ' to learn more about interactive tables.';\n",
       "          element.innerHTML = '';\n",
       "          dataTable['output_type'] = 'display_data';\n",
       "          await google.colab.output.renderOutput(dataTable, element);\n",
       "          const docLink = document.createElement('div');\n",
       "          docLink.innerHTML = docLinkHtml;\n",
       "          element.appendChild(docLink);\n",
       "        }\n",
       "      </script>\n",
       "    </div>\n",
       "  </div>\n",
       "  "
      ],
      "text/plain": [
       "        HighBP  HighChol  CholCheck   BMI  ...  Sex   Age  Education  Income\n",
       "238060     0.0       0.0        1.0  32.0  ...  1.0   8.0        6.0     8.0\n",
       "94160      0.0       0.0        1.0  24.0  ...  1.0  10.0        5.0     7.0\n",
       "49025      0.0       0.0        1.0  25.0  ...  0.0   7.0        6.0     8.0\n",
       "177925     1.0       1.0        1.0  26.0  ...  0.0  11.0        6.0     8.0\n",
       "192244     1.0       0.0        1.0  21.0  ...  1.0  13.0        5.0     5.0\n",
       "\n",
       "[5 rows x 21 columns]"
      ]
     },
     "execution_count": 77,
     "metadata": {},
     "output_type": "execute_result"
    }
   ],
   "source": [
    "X_val.head()"
   ]
  },
  {
   "cell_type": "code",
   "execution_count": null,
   "metadata": {
    "colab": {
     "base_uri": "https://localhost:8080/",
     "height": 250
    },
    "id": "GQjVQeH5SYL6",
    "outputId": "75c476e2-cb00-4568-96b8-fff89f097aaa"
   },
   "outputs": [
    {
     "data": {
      "text/html": [
       "\n",
       "  <div id=\"df-de303095-aa42-4351-a54d-e34dfb3e7abe\">\n",
       "    <div class=\"colab-df-container\">\n",
       "      <div>\n",
       "<style scoped>\n",
       "    .dataframe tbody tr th:only-of-type {\n",
       "        vertical-align: middle;\n",
       "    }\n",
       "\n",
       "    .dataframe tbody tr th {\n",
       "        vertical-align: top;\n",
       "    }\n",
       "\n",
       "    .dataframe thead th {\n",
       "        text-align: right;\n",
       "    }\n",
       "</style>\n",
       "<table border=\"1\" class=\"dataframe\">\n",
       "  <thead>\n",
       "    <tr style=\"text-align: right;\">\n",
       "      <th></th>\n",
       "      <th>HighBP</th>\n",
       "      <th>HighChol</th>\n",
       "      <th>CholCheck</th>\n",
       "      <th>BMI</th>\n",
       "      <th>Smoker</th>\n",
       "      <th>Stroke</th>\n",
       "      <th>HeartDiseaseorAttack</th>\n",
       "      <th>PhysActivity</th>\n",
       "      <th>Fruits</th>\n",
       "      <th>Veggies</th>\n",
       "      <th>HvyAlcoholConsump</th>\n",
       "      <th>AnyHealthcare</th>\n",
       "      <th>NoDocbcCost</th>\n",
       "      <th>GenHlth</th>\n",
       "      <th>MentHlth</th>\n",
       "      <th>PhysHlth</th>\n",
       "      <th>DiffWalk</th>\n",
       "      <th>Sex</th>\n",
       "      <th>Age</th>\n",
       "      <th>Education</th>\n",
       "      <th>Income</th>\n",
       "    </tr>\n",
       "  </thead>\n",
       "  <tbody>\n",
       "    <tr>\n",
       "      <th>139689</th>\n",
       "      <td>0.0</td>\n",
       "      <td>0.0</td>\n",
       "      <td>1.0</td>\n",
       "      <td>46.0</td>\n",
       "      <td>1.0</td>\n",
       "      <td>0.0</td>\n",
       "      <td>0.0</td>\n",
       "      <td>1.0</td>\n",
       "      <td>1.0</td>\n",
       "      <td>0.0</td>\n",
       "      <td>0.0</td>\n",
       "      <td>0.0</td>\n",
       "      <td>1.0</td>\n",
       "      <td>3.0</td>\n",
       "      <td>0.0</td>\n",
       "      <td>1.0</td>\n",
       "      <td>0.0</td>\n",
       "      <td>1.0</td>\n",
       "      <td>5.0</td>\n",
       "      <td>5.0</td>\n",
       "      <td>6.0</td>\n",
       "    </tr>\n",
       "    <tr>\n",
       "      <th>135727</th>\n",
       "      <td>0.0</td>\n",
       "      <td>0.0</td>\n",
       "      <td>1.0</td>\n",
       "      <td>42.0</td>\n",
       "      <td>0.0</td>\n",
       "      <td>0.0</td>\n",
       "      <td>0.0</td>\n",
       "      <td>1.0</td>\n",
       "      <td>1.0</td>\n",
       "      <td>1.0</td>\n",
       "      <td>0.0</td>\n",
       "      <td>1.0</td>\n",
       "      <td>0.0</td>\n",
       "      <td>4.0</td>\n",
       "      <td>0.0</td>\n",
       "      <td>20.0</td>\n",
       "      <td>1.0</td>\n",
       "      <td>0.0</td>\n",
       "      <td>13.0</td>\n",
       "      <td>3.0</td>\n",
       "      <td>8.0</td>\n",
       "    </tr>\n",
       "    <tr>\n",
       "      <th>150855</th>\n",
       "      <td>1.0</td>\n",
       "      <td>1.0</td>\n",
       "      <td>1.0</td>\n",
       "      <td>33.0</td>\n",
       "      <td>1.0</td>\n",
       "      <td>0.0</td>\n",
       "      <td>0.0</td>\n",
       "      <td>1.0</td>\n",
       "      <td>1.0</td>\n",
       "      <td>1.0</td>\n",
       "      <td>0.0</td>\n",
       "      <td>1.0</td>\n",
       "      <td>0.0</td>\n",
       "      <td>3.0</td>\n",
       "      <td>0.0</td>\n",
       "      <td>1.0</td>\n",
       "      <td>0.0</td>\n",
       "      <td>0.0</td>\n",
       "      <td>13.0</td>\n",
       "      <td>5.0</td>\n",
       "      <td>4.0</td>\n",
       "    </tr>\n",
       "    <tr>\n",
       "      <th>62793</th>\n",
       "      <td>1.0</td>\n",
       "      <td>1.0</td>\n",
       "      <td>1.0</td>\n",
       "      <td>35.0</td>\n",
       "      <td>0.0</td>\n",
       "      <td>0.0</td>\n",
       "      <td>0.0</td>\n",
       "      <td>0.0</td>\n",
       "      <td>0.0</td>\n",
       "      <td>0.0</td>\n",
       "      <td>0.0</td>\n",
       "      <td>0.0</td>\n",
       "      <td>1.0</td>\n",
       "      <td>4.0</td>\n",
       "      <td>0.0</td>\n",
       "      <td>2.0</td>\n",
       "      <td>0.0</td>\n",
       "      <td>0.0</td>\n",
       "      <td>8.0</td>\n",
       "      <td>3.0</td>\n",
       "      <td>3.0</td>\n",
       "    </tr>\n",
       "    <tr>\n",
       "      <th>181747</th>\n",
       "      <td>0.0</td>\n",
       "      <td>0.0</td>\n",
       "      <td>1.0</td>\n",
       "      <td>36.0</td>\n",
       "      <td>0.0</td>\n",
       "      <td>0.0</td>\n",
       "      <td>0.0</td>\n",
       "      <td>1.0</td>\n",
       "      <td>0.0</td>\n",
       "      <td>1.0</td>\n",
       "      <td>0.0</td>\n",
       "      <td>1.0</td>\n",
       "      <td>0.0</td>\n",
       "      <td>3.0</td>\n",
       "      <td>0.0</td>\n",
       "      <td>0.0</td>\n",
       "      <td>0.0</td>\n",
       "      <td>0.0</td>\n",
       "      <td>10.0</td>\n",
       "      <td>5.0</td>\n",
       "      <td>7.0</td>\n",
       "    </tr>\n",
       "  </tbody>\n",
       "</table>\n",
       "</div>\n",
       "      <button class=\"colab-df-convert\" onclick=\"convertToInteractive('df-de303095-aa42-4351-a54d-e34dfb3e7abe')\"\n",
       "              title=\"Convert this dataframe to an interactive table.\"\n",
       "              style=\"display:none;\">\n",
       "        \n",
       "  <svg xmlns=\"http://www.w3.org/2000/svg\" height=\"24px\"viewBox=\"0 0 24 24\"\n",
       "       width=\"24px\">\n",
       "    <path d=\"M0 0h24v24H0V0z\" fill=\"none\"/>\n",
       "    <path d=\"M18.56 5.44l.94 2.06.94-2.06 2.06-.94-2.06-.94-.94-2.06-.94 2.06-2.06.94zm-11 1L8.5 8.5l.94-2.06 2.06-.94-2.06-.94L8.5 2.5l-.94 2.06-2.06.94zm10 10l.94 2.06.94-2.06 2.06-.94-2.06-.94-.94-2.06-.94 2.06-2.06.94z\"/><path d=\"M17.41 7.96l-1.37-1.37c-.4-.4-.92-.59-1.43-.59-.52 0-1.04.2-1.43.59L10.3 9.45l-7.72 7.72c-.78.78-.78 2.05 0 2.83L4 21.41c.39.39.9.59 1.41.59.51 0 1.02-.2 1.41-.59l7.78-7.78 2.81-2.81c.8-.78.8-2.07 0-2.86zM5.41 20L4 18.59l7.72-7.72 1.47 1.35L5.41 20z\"/>\n",
       "  </svg>\n",
       "      </button>\n",
       "      \n",
       "  <style>\n",
       "    .colab-df-container {\n",
       "      display:flex;\n",
       "      flex-wrap:wrap;\n",
       "      gap: 12px;\n",
       "    }\n",
       "\n",
       "    .colab-df-convert {\n",
       "      background-color: #E8F0FE;\n",
       "      border: none;\n",
       "      border-radius: 50%;\n",
       "      cursor: pointer;\n",
       "      display: none;\n",
       "      fill: #1967D2;\n",
       "      height: 32px;\n",
       "      padding: 0 0 0 0;\n",
       "      width: 32px;\n",
       "    }\n",
       "\n",
       "    .colab-df-convert:hover {\n",
       "      background-color: #E2EBFA;\n",
       "      box-shadow: 0px 1px 2px rgba(60, 64, 67, 0.3), 0px 1px 3px 1px rgba(60, 64, 67, 0.15);\n",
       "      fill: #174EA6;\n",
       "    }\n",
       "\n",
       "    [theme=dark] .colab-df-convert {\n",
       "      background-color: #3B4455;\n",
       "      fill: #D2E3FC;\n",
       "    }\n",
       "\n",
       "    [theme=dark] .colab-df-convert:hover {\n",
       "      background-color: #434B5C;\n",
       "      box-shadow: 0px 1px 3px 1px rgba(0, 0, 0, 0.15);\n",
       "      filter: drop-shadow(0px 1px 2px rgba(0, 0, 0, 0.3));\n",
       "      fill: #FFFFFF;\n",
       "    }\n",
       "  </style>\n",
       "\n",
       "      <script>\n",
       "        const buttonEl =\n",
       "          document.querySelector('#df-de303095-aa42-4351-a54d-e34dfb3e7abe button.colab-df-convert');\n",
       "        buttonEl.style.display =\n",
       "          google.colab.kernel.accessAllowed ? 'block' : 'none';\n",
       "\n",
       "        async function convertToInteractive(key) {\n",
       "          const element = document.querySelector('#df-de303095-aa42-4351-a54d-e34dfb3e7abe');\n",
       "          const dataTable =\n",
       "            await google.colab.kernel.invokeFunction('convertToInteractive',\n",
       "                                                     [key], {});\n",
       "          if (!dataTable) return;\n",
       "\n",
       "          const docLinkHtml = 'Like what you see? Visit the ' +\n",
       "            '<a target=\"_blank\" href=https://colab.research.google.com/notebooks/data_table.ipynb>data table notebook</a>'\n",
       "            + ' to learn more about interactive tables.';\n",
       "          element.innerHTML = '';\n",
       "          dataTable['output_type'] = 'display_data';\n",
       "          await google.colab.output.renderOutput(dataTable, element);\n",
       "          const docLink = document.createElement('div');\n",
       "          docLink.innerHTML = docLinkHtml;\n",
       "          element.appendChild(docLink);\n",
       "        }\n",
       "      </script>\n",
       "    </div>\n",
       "  </div>\n",
       "  "
      ],
      "text/plain": [
       "        HighBP  HighChol  CholCheck   BMI  ...  Sex   Age  Education  Income\n",
       "139689     0.0       0.0        1.0  46.0  ...  1.0   5.0        5.0     6.0\n",
       "135727     0.0       0.0        1.0  42.0  ...  0.0  13.0        3.0     8.0\n",
       "150855     1.0       1.0        1.0  33.0  ...  0.0  13.0        5.0     4.0\n",
       "62793      1.0       1.0        1.0  35.0  ...  0.0   8.0        3.0     3.0\n",
       "181747     0.0       0.0        1.0  36.0  ...  0.0  10.0        5.0     7.0\n",
       "\n",
       "[5 rows x 21 columns]"
      ]
     },
     "execution_count": 78,
     "metadata": {},
     "output_type": "execute_result"
    }
   ],
   "source": [
    "X_test.head()"
   ]
  },
  {
   "cell_type": "markdown",
   "metadata": {
    "id": "xzjyN_MW1nFr"
   },
   "source": [
    "## Encoding of categorical variables"
   ]
  },
  {
   "cell_type": "code",
   "execution_count": null,
   "metadata": {
    "id": "gyLzN7gR699e"
   },
   "outputs": [],
   "source": [
    "X_columns= X_train.columns\n",
    "X_not_to_encode = ['BMI','MentHlth','PhysHlth'] \n",
    "\n",
    "X_to_encode = list(set(X_columns) - set(X_not_to_encode))"
   ]
  },
  {
   "cell_type": "markdown",
   "metadata": {
    "id": "hhjT5-3LNY-5"
   },
   "source": [
    "Fit the LabelEncoder on the training set"
   ]
  },
  {
   "cell_type": "code",
   "execution_count": null,
   "metadata": {
    "colab": {
     "base_uri": "https://localhost:8080/"
    },
    "id": "T4u3J1Vy7isp",
    "outputId": "71296646-fc30-42ed-9f13-a93352b1d242"
   },
   "outputs": [
    {
     "data": {
      "text/plain": [
       "LabelEncoder()"
      ]
     },
     "execution_count": 80,
     "metadata": {},
     "output_type": "execute_result"
    }
   ],
   "source": [
    "label_encoder =LabelEncoder()\n",
    "label_encoder.fit(X_train[X_to_encode].values.flatten())"
   ]
  },
  {
   "cell_type": "code",
   "execution_count": null,
   "metadata": {
    "id": "Cw0VgKIkFPSj"
   },
   "outputs": [],
   "source": [
    "X_train[X_to_encode] = X_train[X_to_encode].apply(label_encoder.transform)\n",
    "X_val[X_to_encode] = X_val[X_to_encode].apply(label_encoder.transform)\n",
    "X_test[X_to_encode] = X_test[X_to_encode].apply(label_encoder.transform)"
   ]
  },
  {
   "cell_type": "code",
   "execution_count": null,
   "metadata": {
    "colab": {
     "base_uri": "https://localhost:8080/",
     "height": 250
    },
    "id": "7EujA_a9OF27",
    "outputId": "d998cd9e-4ae2-462f-800a-30af140a0b2d"
   },
   "outputs": [
    {
     "data": {
      "text/html": [
       "\n",
       "  <div id=\"df-82250aaf-8b0a-4a71-9909-73320976bd1d\">\n",
       "    <div class=\"colab-df-container\">\n",
       "      <div>\n",
       "<style scoped>\n",
       "    .dataframe tbody tr th:only-of-type {\n",
       "        vertical-align: middle;\n",
       "    }\n",
       "\n",
       "    .dataframe tbody tr th {\n",
       "        vertical-align: top;\n",
       "    }\n",
       "\n",
       "    .dataframe thead th {\n",
       "        text-align: right;\n",
       "    }\n",
       "</style>\n",
       "<table border=\"1\" class=\"dataframe\">\n",
       "  <thead>\n",
       "    <tr style=\"text-align: right;\">\n",
       "      <th></th>\n",
       "      <th>HighBP</th>\n",
       "      <th>HighChol</th>\n",
       "      <th>CholCheck</th>\n",
       "      <th>BMI</th>\n",
       "      <th>Smoker</th>\n",
       "      <th>Stroke</th>\n",
       "      <th>HeartDiseaseorAttack</th>\n",
       "      <th>PhysActivity</th>\n",
       "      <th>Fruits</th>\n",
       "      <th>Veggies</th>\n",
       "      <th>HvyAlcoholConsump</th>\n",
       "      <th>AnyHealthcare</th>\n",
       "      <th>NoDocbcCost</th>\n",
       "      <th>GenHlth</th>\n",
       "      <th>MentHlth</th>\n",
       "      <th>PhysHlth</th>\n",
       "      <th>DiffWalk</th>\n",
       "      <th>Sex</th>\n",
       "      <th>Age</th>\n",
       "      <th>Education</th>\n",
       "      <th>Income</th>\n",
       "    </tr>\n",
       "  </thead>\n",
       "  <tbody>\n",
       "    <tr>\n",
       "      <th>45308</th>\n",
       "      <td>1</td>\n",
       "      <td>1</td>\n",
       "      <td>1</td>\n",
       "      <td>27.0</td>\n",
       "      <td>1</td>\n",
       "      <td>0</td>\n",
       "      <td>1</td>\n",
       "      <td>1</td>\n",
       "      <td>1</td>\n",
       "      <td>1</td>\n",
       "      <td>0</td>\n",
       "      <td>1</td>\n",
       "      <td>0</td>\n",
       "      <td>3</td>\n",
       "      <td>0.0</td>\n",
       "      <td>4.0</td>\n",
       "      <td>1</td>\n",
       "      <td>1</td>\n",
       "      <td>11</td>\n",
       "      <td>5</td>\n",
       "      <td>6</td>\n",
       "    </tr>\n",
       "    <tr>\n",
       "      <th>184820</th>\n",
       "      <td>0</td>\n",
       "      <td>1</td>\n",
       "      <td>1</td>\n",
       "      <td>27.0</td>\n",
       "      <td>0</td>\n",
       "      <td>0</td>\n",
       "      <td>0</td>\n",
       "      <td>1</td>\n",
       "      <td>0</td>\n",
       "      <td>1</td>\n",
       "      <td>0</td>\n",
       "      <td>1</td>\n",
       "      <td>0</td>\n",
       "      <td>3</td>\n",
       "      <td>0.0</td>\n",
       "      <td>0.0</td>\n",
       "      <td>0</td>\n",
       "      <td>1</td>\n",
       "      <td>7</td>\n",
       "      <td>6</td>\n",
       "      <td>8</td>\n",
       "    </tr>\n",
       "    <tr>\n",
       "      <th>122151</th>\n",
       "      <td>1</td>\n",
       "      <td>1</td>\n",
       "      <td>1</td>\n",
       "      <td>31.0</td>\n",
       "      <td>1</td>\n",
       "      <td>0</td>\n",
       "      <td>0</td>\n",
       "      <td>1</td>\n",
       "      <td>1</td>\n",
       "      <td>1</td>\n",
       "      <td>0</td>\n",
       "      <td>1</td>\n",
       "      <td>0</td>\n",
       "      <td>3</td>\n",
       "      <td>0.0</td>\n",
       "      <td>0.0</td>\n",
       "      <td>0</td>\n",
       "      <td>1</td>\n",
       "      <td>12</td>\n",
       "      <td>6</td>\n",
       "      <td>8</td>\n",
       "    </tr>\n",
       "    <tr>\n",
       "      <th>133070</th>\n",
       "      <td>0</td>\n",
       "      <td>1</td>\n",
       "      <td>1</td>\n",
       "      <td>26.0</td>\n",
       "      <td>0</td>\n",
       "      <td>0</td>\n",
       "      <td>1</td>\n",
       "      <td>1</td>\n",
       "      <td>0</td>\n",
       "      <td>0</td>\n",
       "      <td>0</td>\n",
       "      <td>1</td>\n",
       "      <td>0</td>\n",
       "      <td>2</td>\n",
       "      <td>0.0</td>\n",
       "      <td>0.0</td>\n",
       "      <td>0</td>\n",
       "      <td>1</td>\n",
       "      <td>11</td>\n",
       "      <td>5</td>\n",
       "      <td>8</td>\n",
       "    </tr>\n",
       "    <tr>\n",
       "      <th>239487</th>\n",
       "      <td>1</td>\n",
       "      <td>1</td>\n",
       "      <td>1</td>\n",
       "      <td>29.0</td>\n",
       "      <td>0</td>\n",
       "      <td>0</td>\n",
       "      <td>0</td>\n",
       "      <td>0</td>\n",
       "      <td>0</td>\n",
       "      <td>1</td>\n",
       "      <td>0</td>\n",
       "      <td>1</td>\n",
       "      <td>0</td>\n",
       "      <td>4</td>\n",
       "      <td>0.0</td>\n",
       "      <td>14.0</td>\n",
       "      <td>1</td>\n",
       "      <td>0</td>\n",
       "      <td>11</td>\n",
       "      <td>4</td>\n",
       "      <td>7</td>\n",
       "    </tr>\n",
       "  </tbody>\n",
       "</table>\n",
       "</div>\n",
       "      <button class=\"colab-df-convert\" onclick=\"convertToInteractive('df-82250aaf-8b0a-4a71-9909-73320976bd1d')\"\n",
       "              title=\"Convert this dataframe to an interactive table.\"\n",
       "              style=\"display:none;\">\n",
       "        \n",
       "  <svg xmlns=\"http://www.w3.org/2000/svg\" height=\"24px\"viewBox=\"0 0 24 24\"\n",
       "       width=\"24px\">\n",
       "    <path d=\"M0 0h24v24H0V0z\" fill=\"none\"/>\n",
       "    <path d=\"M18.56 5.44l.94 2.06.94-2.06 2.06-.94-2.06-.94-.94-2.06-.94 2.06-2.06.94zm-11 1L8.5 8.5l.94-2.06 2.06-.94-2.06-.94L8.5 2.5l-.94 2.06-2.06.94zm10 10l.94 2.06.94-2.06 2.06-.94-2.06-.94-.94-2.06-.94 2.06-2.06.94z\"/><path d=\"M17.41 7.96l-1.37-1.37c-.4-.4-.92-.59-1.43-.59-.52 0-1.04.2-1.43.59L10.3 9.45l-7.72 7.72c-.78.78-.78 2.05 0 2.83L4 21.41c.39.39.9.59 1.41.59.51 0 1.02-.2 1.41-.59l7.78-7.78 2.81-2.81c.8-.78.8-2.07 0-2.86zM5.41 20L4 18.59l7.72-7.72 1.47 1.35L5.41 20z\"/>\n",
       "  </svg>\n",
       "      </button>\n",
       "      \n",
       "  <style>\n",
       "    .colab-df-container {\n",
       "      display:flex;\n",
       "      flex-wrap:wrap;\n",
       "      gap: 12px;\n",
       "    }\n",
       "\n",
       "    .colab-df-convert {\n",
       "      background-color: #E8F0FE;\n",
       "      border: none;\n",
       "      border-radius: 50%;\n",
       "      cursor: pointer;\n",
       "      display: none;\n",
       "      fill: #1967D2;\n",
       "      height: 32px;\n",
       "      padding: 0 0 0 0;\n",
       "      width: 32px;\n",
       "    }\n",
       "\n",
       "    .colab-df-convert:hover {\n",
       "      background-color: #E2EBFA;\n",
       "      box-shadow: 0px 1px 2px rgba(60, 64, 67, 0.3), 0px 1px 3px 1px rgba(60, 64, 67, 0.15);\n",
       "      fill: #174EA6;\n",
       "    }\n",
       "\n",
       "    [theme=dark] .colab-df-convert {\n",
       "      background-color: #3B4455;\n",
       "      fill: #D2E3FC;\n",
       "    }\n",
       "\n",
       "    [theme=dark] .colab-df-convert:hover {\n",
       "      background-color: #434B5C;\n",
       "      box-shadow: 0px 1px 3px 1px rgba(0, 0, 0, 0.15);\n",
       "      filter: drop-shadow(0px 1px 2px rgba(0, 0, 0, 0.3));\n",
       "      fill: #FFFFFF;\n",
       "    }\n",
       "  </style>\n",
       "\n",
       "      <script>\n",
       "        const buttonEl =\n",
       "          document.querySelector('#df-82250aaf-8b0a-4a71-9909-73320976bd1d button.colab-df-convert');\n",
       "        buttonEl.style.display =\n",
       "          google.colab.kernel.accessAllowed ? 'block' : 'none';\n",
       "\n",
       "        async function convertToInteractive(key) {\n",
       "          const element = document.querySelector('#df-82250aaf-8b0a-4a71-9909-73320976bd1d');\n",
       "          const dataTable =\n",
       "            await google.colab.kernel.invokeFunction('convertToInteractive',\n",
       "                                                     [key], {});\n",
       "          if (!dataTable) return;\n",
       "\n",
       "          const docLinkHtml = 'Like what you see? Visit the ' +\n",
       "            '<a target=\"_blank\" href=https://colab.research.google.com/notebooks/data_table.ipynb>data table notebook</a>'\n",
       "            + ' to learn more about interactive tables.';\n",
       "          element.innerHTML = '';\n",
       "          dataTable['output_type'] = 'display_data';\n",
       "          await google.colab.output.renderOutput(dataTable, element);\n",
       "          const docLink = document.createElement('div');\n",
       "          docLink.innerHTML = docLinkHtml;\n",
       "          element.appendChild(docLink);\n",
       "        }\n",
       "      </script>\n",
       "    </div>\n",
       "  </div>\n",
       "  "
      ],
      "text/plain": [
       "        HighBP  HighChol  CholCheck   BMI  ...  Sex  Age  Education  Income\n",
       "45308        1         1          1  27.0  ...    1   11          5       6\n",
       "184820       0         1          1  27.0  ...    1    7          6       8\n",
       "122151       1         1          1  31.0  ...    1   12          6       8\n",
       "133070       0         1          1  26.0  ...    1   11          5       8\n",
       "239487       1         1          1  29.0  ...    0   11          4       7\n",
       "\n",
       "[5 rows x 21 columns]"
      ]
     },
     "execution_count": 82,
     "metadata": {},
     "output_type": "execute_result"
    }
   ],
   "source": [
    "X_train.head()"
   ]
  },
  {
   "cell_type": "markdown",
   "metadata": {
    "id": "HldZUpEdU2se"
   },
   "source": [
    "## Scaling"
   ]
  },
  {
   "cell_type": "markdown",
   "metadata": {
    "id": "6sYO98h1S-Nv"
   },
   "source": [
    "Scaling of the numerical variables with MinMax Scaler"
   ]
  },
  {
   "cell_type": "code",
   "execution_count": null,
   "metadata": {
    "colab": {
     "base_uri": "https://localhost:8080/"
    },
    "id": "OCtpZTnSJ_Nn",
    "outputId": "cb50aae1-7b80-4f38-e532-7281d30abd40"
   },
   "outputs": [
    {
     "data": {
      "text/plain": [
       "MinMaxScaler()"
      ]
     },
     "execution_count": 83,
     "metadata": {},
     "output_type": "execute_result"
    }
   ],
   "source": [
    "scaler_x = MinMaxScaler()\n",
    "scaler_x.fit(X_train)"
   ]
  },
  {
   "cell_type": "code",
   "execution_count": null,
   "metadata": {
    "id": "YyGByrpoOzFk"
   },
   "outputs": [],
   "source": [
    "X_train=pd.DataFrame(scaler_x.transform(X_train), index = X_train.index, columns = X_train.columns) \n",
    "X_test=pd.DataFrame(scaler_x.transform(X_test), index = X_test.index, columns = X_test.columns)\n",
    "X_val=pd.DataFrame(scaler_x.transform(X_val), index = X_val.index, columns = X_val.columns)"
   ]
  },
  {
   "cell_type": "code",
   "execution_count": null,
   "metadata": {
    "colab": {
     "base_uri": "https://localhost:8080/",
     "height": 270
    },
    "id": "rIejQx6YPWEV",
    "outputId": "7e407994-184a-450b-c9ef-c9a71cbc0bdd"
   },
   "outputs": [
    {
     "data": {
      "text/html": [
       "\n",
       "  <div id=\"df-7f319cd0-4e8e-4002-95fc-f3ebbf198058\">\n",
       "    <div class=\"colab-df-container\">\n",
       "      <div>\n",
       "<style scoped>\n",
       "    .dataframe tbody tr th:only-of-type {\n",
       "        vertical-align: middle;\n",
       "    }\n",
       "\n",
       "    .dataframe tbody tr th {\n",
       "        vertical-align: top;\n",
       "    }\n",
       "\n",
       "    .dataframe thead th {\n",
       "        text-align: right;\n",
       "    }\n",
       "</style>\n",
       "<table border=\"1\" class=\"dataframe\">\n",
       "  <thead>\n",
       "    <tr style=\"text-align: right;\">\n",
       "      <th></th>\n",
       "      <th>HighBP</th>\n",
       "      <th>HighChol</th>\n",
       "      <th>CholCheck</th>\n",
       "      <th>BMI</th>\n",
       "      <th>Smoker</th>\n",
       "      <th>Stroke</th>\n",
       "      <th>HeartDiseaseorAttack</th>\n",
       "      <th>PhysActivity</th>\n",
       "      <th>Fruits</th>\n",
       "      <th>Veggies</th>\n",
       "      <th>HvyAlcoholConsump</th>\n",
       "      <th>AnyHealthcare</th>\n",
       "      <th>NoDocbcCost</th>\n",
       "      <th>GenHlth</th>\n",
       "      <th>MentHlth</th>\n",
       "      <th>PhysHlth</th>\n",
       "      <th>DiffWalk</th>\n",
       "      <th>Sex</th>\n",
       "      <th>Age</th>\n",
       "      <th>Education</th>\n",
       "      <th>Income</th>\n",
       "    </tr>\n",
       "  </thead>\n",
       "  <tbody>\n",
       "    <tr>\n",
       "      <th>45308</th>\n",
       "      <td>1.0</td>\n",
       "      <td>1.0</td>\n",
       "      <td>1.0</td>\n",
       "      <td>0.174419</td>\n",
       "      <td>1.0</td>\n",
       "      <td>0.0</td>\n",
       "      <td>1.0</td>\n",
       "      <td>1.0</td>\n",
       "      <td>1.0</td>\n",
       "      <td>1.0</td>\n",
       "      <td>0.0</td>\n",
       "      <td>1.0</td>\n",
       "      <td>0.0</td>\n",
       "      <td>0.50</td>\n",
       "      <td>0.0</td>\n",
       "      <td>0.133333</td>\n",
       "      <td>1.0</td>\n",
       "      <td>1.0</td>\n",
       "      <td>0.833333</td>\n",
       "      <td>0.8</td>\n",
       "      <td>0.714286</td>\n",
       "    </tr>\n",
       "    <tr>\n",
       "      <th>184820</th>\n",
       "      <td>0.0</td>\n",
       "      <td>1.0</td>\n",
       "      <td>1.0</td>\n",
       "      <td>0.174419</td>\n",
       "      <td>0.0</td>\n",
       "      <td>0.0</td>\n",
       "      <td>0.0</td>\n",
       "      <td>1.0</td>\n",
       "      <td>0.0</td>\n",
       "      <td>1.0</td>\n",
       "      <td>0.0</td>\n",
       "      <td>1.0</td>\n",
       "      <td>0.0</td>\n",
       "      <td>0.50</td>\n",
       "      <td>0.0</td>\n",
       "      <td>0.000000</td>\n",
       "      <td>0.0</td>\n",
       "      <td>1.0</td>\n",
       "      <td>0.500000</td>\n",
       "      <td>1.0</td>\n",
       "      <td>1.000000</td>\n",
       "    </tr>\n",
       "    <tr>\n",
       "      <th>122151</th>\n",
       "      <td>1.0</td>\n",
       "      <td>1.0</td>\n",
       "      <td>1.0</td>\n",
       "      <td>0.220930</td>\n",
       "      <td>1.0</td>\n",
       "      <td>0.0</td>\n",
       "      <td>0.0</td>\n",
       "      <td>1.0</td>\n",
       "      <td>1.0</td>\n",
       "      <td>1.0</td>\n",
       "      <td>0.0</td>\n",
       "      <td>1.0</td>\n",
       "      <td>0.0</td>\n",
       "      <td>0.50</td>\n",
       "      <td>0.0</td>\n",
       "      <td>0.000000</td>\n",
       "      <td>0.0</td>\n",
       "      <td>1.0</td>\n",
       "      <td>0.916667</td>\n",
       "      <td>1.0</td>\n",
       "      <td>1.000000</td>\n",
       "    </tr>\n",
       "    <tr>\n",
       "      <th>133070</th>\n",
       "      <td>0.0</td>\n",
       "      <td>1.0</td>\n",
       "      <td>1.0</td>\n",
       "      <td>0.162791</td>\n",
       "      <td>0.0</td>\n",
       "      <td>0.0</td>\n",
       "      <td>1.0</td>\n",
       "      <td>1.0</td>\n",
       "      <td>0.0</td>\n",
       "      <td>0.0</td>\n",
       "      <td>0.0</td>\n",
       "      <td>1.0</td>\n",
       "      <td>0.0</td>\n",
       "      <td>0.25</td>\n",
       "      <td>0.0</td>\n",
       "      <td>0.000000</td>\n",
       "      <td>0.0</td>\n",
       "      <td>1.0</td>\n",
       "      <td>0.833333</td>\n",
       "      <td>0.8</td>\n",
       "      <td>1.000000</td>\n",
       "    </tr>\n",
       "    <tr>\n",
       "      <th>239487</th>\n",
       "      <td>1.0</td>\n",
       "      <td>1.0</td>\n",
       "      <td>1.0</td>\n",
       "      <td>0.197674</td>\n",
       "      <td>0.0</td>\n",
       "      <td>0.0</td>\n",
       "      <td>0.0</td>\n",
       "      <td>0.0</td>\n",
       "      <td>0.0</td>\n",
       "      <td>1.0</td>\n",
       "      <td>0.0</td>\n",
       "      <td>1.0</td>\n",
       "      <td>0.0</td>\n",
       "      <td>0.75</td>\n",
       "      <td>0.0</td>\n",
       "      <td>0.466667</td>\n",
       "      <td>1.0</td>\n",
       "      <td>0.0</td>\n",
       "      <td>0.833333</td>\n",
       "      <td>0.6</td>\n",
       "      <td>0.857143</td>\n",
       "    </tr>\n",
       "  </tbody>\n",
       "</table>\n",
       "</div>\n",
       "      <button class=\"colab-df-convert\" onclick=\"convertToInteractive('df-7f319cd0-4e8e-4002-95fc-f3ebbf198058')\"\n",
       "              title=\"Convert this dataframe to an interactive table.\"\n",
       "              style=\"display:none;\">\n",
       "        \n",
       "  <svg xmlns=\"http://www.w3.org/2000/svg\" height=\"24px\"viewBox=\"0 0 24 24\"\n",
       "       width=\"24px\">\n",
       "    <path d=\"M0 0h24v24H0V0z\" fill=\"none\"/>\n",
       "    <path d=\"M18.56 5.44l.94 2.06.94-2.06 2.06-.94-2.06-.94-.94-2.06-.94 2.06-2.06.94zm-11 1L8.5 8.5l.94-2.06 2.06-.94-2.06-.94L8.5 2.5l-.94 2.06-2.06.94zm10 10l.94 2.06.94-2.06 2.06-.94-2.06-.94-.94-2.06-.94 2.06-2.06.94z\"/><path d=\"M17.41 7.96l-1.37-1.37c-.4-.4-.92-.59-1.43-.59-.52 0-1.04.2-1.43.59L10.3 9.45l-7.72 7.72c-.78.78-.78 2.05 0 2.83L4 21.41c.39.39.9.59 1.41.59.51 0 1.02-.2 1.41-.59l7.78-7.78 2.81-2.81c.8-.78.8-2.07 0-2.86zM5.41 20L4 18.59l7.72-7.72 1.47 1.35L5.41 20z\"/>\n",
       "  </svg>\n",
       "      </button>\n",
       "      \n",
       "  <style>\n",
       "    .colab-df-container {\n",
       "      display:flex;\n",
       "      flex-wrap:wrap;\n",
       "      gap: 12px;\n",
       "    }\n",
       "\n",
       "    .colab-df-convert {\n",
       "      background-color: #E8F0FE;\n",
       "      border: none;\n",
       "      border-radius: 50%;\n",
       "      cursor: pointer;\n",
       "      display: none;\n",
       "      fill: #1967D2;\n",
       "      height: 32px;\n",
       "      padding: 0 0 0 0;\n",
       "      width: 32px;\n",
       "    }\n",
       "\n",
       "    .colab-df-convert:hover {\n",
       "      background-color: #E2EBFA;\n",
       "      box-shadow: 0px 1px 2px rgba(60, 64, 67, 0.3), 0px 1px 3px 1px rgba(60, 64, 67, 0.15);\n",
       "      fill: #174EA6;\n",
       "    }\n",
       "\n",
       "    [theme=dark] .colab-df-convert {\n",
       "      background-color: #3B4455;\n",
       "      fill: #D2E3FC;\n",
       "    }\n",
       "\n",
       "    [theme=dark] .colab-df-convert:hover {\n",
       "      background-color: #434B5C;\n",
       "      box-shadow: 0px 1px 3px 1px rgba(0, 0, 0, 0.15);\n",
       "      filter: drop-shadow(0px 1px 2px rgba(0, 0, 0, 0.3));\n",
       "      fill: #FFFFFF;\n",
       "    }\n",
       "  </style>\n",
       "\n",
       "      <script>\n",
       "        const buttonEl =\n",
       "          document.querySelector('#df-7f319cd0-4e8e-4002-95fc-f3ebbf198058 button.colab-df-convert');\n",
       "        buttonEl.style.display =\n",
       "          google.colab.kernel.accessAllowed ? 'block' : 'none';\n",
       "\n",
       "        async function convertToInteractive(key) {\n",
       "          const element = document.querySelector('#df-7f319cd0-4e8e-4002-95fc-f3ebbf198058');\n",
       "          const dataTable =\n",
       "            await google.colab.kernel.invokeFunction('convertToInteractive',\n",
       "                                                     [key], {});\n",
       "          if (!dataTable) return;\n",
       "\n",
       "          const docLinkHtml = 'Like what you see? Visit the ' +\n",
       "            '<a target=\"_blank\" href=https://colab.research.google.com/notebooks/data_table.ipynb>data table notebook</a>'\n",
       "            + ' to learn more about interactive tables.';\n",
       "          element.innerHTML = '';\n",
       "          dataTable['output_type'] = 'display_data';\n",
       "          await google.colab.output.renderOutput(dataTable, element);\n",
       "          const docLink = document.createElement('div');\n",
       "          docLink.innerHTML = docLinkHtml;\n",
       "          element.appendChild(docLink);\n",
       "        }\n",
       "      </script>\n",
       "    </div>\n",
       "  </div>\n",
       "  "
      ],
      "text/plain": [
       "        HighBP  HighChol  CholCheck  ...       Age  Education    Income\n",
       "45308      1.0       1.0        1.0  ...  0.833333        0.8  0.714286\n",
       "184820     0.0       1.0        1.0  ...  0.500000        1.0  1.000000\n",
       "122151     1.0       1.0        1.0  ...  0.916667        1.0  1.000000\n",
       "133070     0.0       1.0        1.0  ...  0.833333        0.8  1.000000\n",
       "239487     1.0       1.0        1.0  ...  0.833333        0.6  0.857143\n",
       "\n",
       "[5 rows x 21 columns]"
      ]
     },
     "execution_count": 85,
     "metadata": {},
     "output_type": "execute_result"
    }
   ],
   "source": [
    "X_train.head()"
   ]
  },
  {
   "cell_type": "code",
   "execution_count": null,
   "metadata": {
    "colab": {
     "base_uri": "https://localhost:8080/",
     "height": 270
    },
    "id": "I8_PW8sjRx3H",
    "outputId": "2b911743-b683-4b05-f7b5-4e5f616b9cd1"
   },
   "outputs": [
    {
     "data": {
      "text/html": [
       "\n",
       "  <div id=\"df-bea7da66-1607-464f-aded-b933cfa797b2\">\n",
       "    <div class=\"colab-df-container\">\n",
       "      <div>\n",
       "<style scoped>\n",
       "    .dataframe tbody tr th:only-of-type {\n",
       "        vertical-align: middle;\n",
       "    }\n",
       "\n",
       "    .dataframe tbody tr th {\n",
       "        vertical-align: top;\n",
       "    }\n",
       "\n",
       "    .dataframe thead th {\n",
       "        text-align: right;\n",
       "    }\n",
       "</style>\n",
       "<table border=\"1\" class=\"dataframe\">\n",
       "  <thead>\n",
       "    <tr style=\"text-align: right;\">\n",
       "      <th></th>\n",
       "      <th>HighBP</th>\n",
       "      <th>HighChol</th>\n",
       "      <th>CholCheck</th>\n",
       "      <th>BMI</th>\n",
       "      <th>Smoker</th>\n",
       "      <th>Stroke</th>\n",
       "      <th>HeartDiseaseorAttack</th>\n",
       "      <th>PhysActivity</th>\n",
       "      <th>Fruits</th>\n",
       "      <th>Veggies</th>\n",
       "      <th>HvyAlcoholConsump</th>\n",
       "      <th>AnyHealthcare</th>\n",
       "      <th>NoDocbcCost</th>\n",
       "      <th>GenHlth</th>\n",
       "      <th>MentHlth</th>\n",
       "      <th>PhysHlth</th>\n",
       "      <th>DiffWalk</th>\n",
       "      <th>Sex</th>\n",
       "      <th>Age</th>\n",
       "      <th>Education</th>\n",
       "      <th>Income</th>\n",
       "    </tr>\n",
       "  </thead>\n",
       "  <tbody>\n",
       "    <tr>\n",
       "      <th>139689</th>\n",
       "      <td>0.0</td>\n",
       "      <td>0.0</td>\n",
       "      <td>1.0</td>\n",
       "      <td>0.395349</td>\n",
       "      <td>1.0</td>\n",
       "      <td>0.0</td>\n",
       "      <td>0.0</td>\n",
       "      <td>1.0</td>\n",
       "      <td>1.0</td>\n",
       "      <td>0.0</td>\n",
       "      <td>0.0</td>\n",
       "      <td>0.0</td>\n",
       "      <td>1.0</td>\n",
       "      <td>0.50</td>\n",
       "      <td>0.0</td>\n",
       "      <td>0.033333</td>\n",
       "      <td>0.0</td>\n",
       "      <td>1.0</td>\n",
       "      <td>0.333333</td>\n",
       "      <td>0.8</td>\n",
       "      <td>0.714286</td>\n",
       "    </tr>\n",
       "    <tr>\n",
       "      <th>135727</th>\n",
       "      <td>0.0</td>\n",
       "      <td>0.0</td>\n",
       "      <td>1.0</td>\n",
       "      <td>0.348837</td>\n",
       "      <td>0.0</td>\n",
       "      <td>0.0</td>\n",
       "      <td>0.0</td>\n",
       "      <td>1.0</td>\n",
       "      <td>1.0</td>\n",
       "      <td>1.0</td>\n",
       "      <td>0.0</td>\n",
       "      <td>1.0</td>\n",
       "      <td>0.0</td>\n",
       "      <td>0.75</td>\n",
       "      <td>0.0</td>\n",
       "      <td>0.666667</td>\n",
       "      <td>1.0</td>\n",
       "      <td>0.0</td>\n",
       "      <td>1.000000</td>\n",
       "      <td>0.4</td>\n",
       "      <td>1.000000</td>\n",
       "    </tr>\n",
       "    <tr>\n",
       "      <th>150855</th>\n",
       "      <td>1.0</td>\n",
       "      <td>1.0</td>\n",
       "      <td>1.0</td>\n",
       "      <td>0.244186</td>\n",
       "      <td>1.0</td>\n",
       "      <td>0.0</td>\n",
       "      <td>0.0</td>\n",
       "      <td>1.0</td>\n",
       "      <td>1.0</td>\n",
       "      <td>1.0</td>\n",
       "      <td>0.0</td>\n",
       "      <td>1.0</td>\n",
       "      <td>0.0</td>\n",
       "      <td>0.50</td>\n",
       "      <td>0.0</td>\n",
       "      <td>0.033333</td>\n",
       "      <td>0.0</td>\n",
       "      <td>0.0</td>\n",
       "      <td>1.000000</td>\n",
       "      <td>0.8</td>\n",
       "      <td>0.428571</td>\n",
       "    </tr>\n",
       "    <tr>\n",
       "      <th>62793</th>\n",
       "      <td>1.0</td>\n",
       "      <td>1.0</td>\n",
       "      <td>1.0</td>\n",
       "      <td>0.267442</td>\n",
       "      <td>0.0</td>\n",
       "      <td>0.0</td>\n",
       "      <td>0.0</td>\n",
       "      <td>0.0</td>\n",
       "      <td>0.0</td>\n",
       "      <td>0.0</td>\n",
       "      <td>0.0</td>\n",
       "      <td>0.0</td>\n",
       "      <td>1.0</td>\n",
       "      <td>0.75</td>\n",
       "      <td>0.0</td>\n",
       "      <td>0.066667</td>\n",
       "      <td>0.0</td>\n",
       "      <td>0.0</td>\n",
       "      <td>0.583333</td>\n",
       "      <td>0.4</td>\n",
       "      <td>0.285714</td>\n",
       "    </tr>\n",
       "    <tr>\n",
       "      <th>181747</th>\n",
       "      <td>0.0</td>\n",
       "      <td>0.0</td>\n",
       "      <td>1.0</td>\n",
       "      <td>0.279070</td>\n",
       "      <td>0.0</td>\n",
       "      <td>0.0</td>\n",
       "      <td>0.0</td>\n",
       "      <td>1.0</td>\n",
       "      <td>0.0</td>\n",
       "      <td>1.0</td>\n",
       "      <td>0.0</td>\n",
       "      <td>1.0</td>\n",
       "      <td>0.0</td>\n",
       "      <td>0.50</td>\n",
       "      <td>0.0</td>\n",
       "      <td>0.000000</td>\n",
       "      <td>0.0</td>\n",
       "      <td>0.0</td>\n",
       "      <td>0.750000</td>\n",
       "      <td>0.8</td>\n",
       "      <td>0.857143</td>\n",
       "    </tr>\n",
       "  </tbody>\n",
       "</table>\n",
       "</div>\n",
       "      <button class=\"colab-df-convert\" onclick=\"convertToInteractive('df-bea7da66-1607-464f-aded-b933cfa797b2')\"\n",
       "              title=\"Convert this dataframe to an interactive table.\"\n",
       "              style=\"display:none;\">\n",
       "        \n",
       "  <svg xmlns=\"http://www.w3.org/2000/svg\" height=\"24px\"viewBox=\"0 0 24 24\"\n",
       "       width=\"24px\">\n",
       "    <path d=\"M0 0h24v24H0V0z\" fill=\"none\"/>\n",
       "    <path d=\"M18.56 5.44l.94 2.06.94-2.06 2.06-.94-2.06-.94-.94-2.06-.94 2.06-2.06.94zm-11 1L8.5 8.5l.94-2.06 2.06-.94-2.06-.94L8.5 2.5l-.94 2.06-2.06.94zm10 10l.94 2.06.94-2.06 2.06-.94-2.06-.94-.94-2.06-.94 2.06-2.06.94z\"/><path d=\"M17.41 7.96l-1.37-1.37c-.4-.4-.92-.59-1.43-.59-.52 0-1.04.2-1.43.59L10.3 9.45l-7.72 7.72c-.78.78-.78 2.05 0 2.83L4 21.41c.39.39.9.59 1.41.59.51 0 1.02-.2 1.41-.59l7.78-7.78 2.81-2.81c.8-.78.8-2.07 0-2.86zM5.41 20L4 18.59l7.72-7.72 1.47 1.35L5.41 20z\"/>\n",
       "  </svg>\n",
       "      </button>\n",
       "      \n",
       "  <style>\n",
       "    .colab-df-container {\n",
       "      display:flex;\n",
       "      flex-wrap:wrap;\n",
       "      gap: 12px;\n",
       "    }\n",
       "\n",
       "    .colab-df-convert {\n",
       "      background-color: #E8F0FE;\n",
       "      border: none;\n",
       "      border-radius: 50%;\n",
       "      cursor: pointer;\n",
       "      display: none;\n",
       "      fill: #1967D2;\n",
       "      height: 32px;\n",
       "      padding: 0 0 0 0;\n",
       "      width: 32px;\n",
       "    }\n",
       "\n",
       "    .colab-df-convert:hover {\n",
       "      background-color: #E2EBFA;\n",
       "      box-shadow: 0px 1px 2px rgba(60, 64, 67, 0.3), 0px 1px 3px 1px rgba(60, 64, 67, 0.15);\n",
       "      fill: #174EA6;\n",
       "    }\n",
       "\n",
       "    [theme=dark] .colab-df-convert {\n",
       "      background-color: #3B4455;\n",
       "      fill: #D2E3FC;\n",
       "    }\n",
       "\n",
       "    [theme=dark] .colab-df-convert:hover {\n",
       "      background-color: #434B5C;\n",
       "      box-shadow: 0px 1px 3px 1px rgba(0, 0, 0, 0.15);\n",
       "      filter: drop-shadow(0px 1px 2px rgba(0, 0, 0, 0.3));\n",
       "      fill: #FFFFFF;\n",
       "    }\n",
       "  </style>\n",
       "\n",
       "      <script>\n",
       "        const buttonEl =\n",
       "          document.querySelector('#df-bea7da66-1607-464f-aded-b933cfa797b2 button.colab-df-convert');\n",
       "        buttonEl.style.display =\n",
       "          google.colab.kernel.accessAllowed ? 'block' : 'none';\n",
       "\n",
       "        async function convertToInteractive(key) {\n",
       "          const element = document.querySelector('#df-bea7da66-1607-464f-aded-b933cfa797b2');\n",
       "          const dataTable =\n",
       "            await google.colab.kernel.invokeFunction('convertToInteractive',\n",
       "                                                     [key], {});\n",
       "          if (!dataTable) return;\n",
       "\n",
       "          const docLinkHtml = 'Like what you see? Visit the ' +\n",
       "            '<a target=\"_blank\" href=https://colab.research.google.com/notebooks/data_table.ipynb>data table notebook</a>'\n",
       "            + ' to learn more about interactive tables.';\n",
       "          element.innerHTML = '';\n",
       "          dataTable['output_type'] = 'display_data';\n",
       "          await google.colab.output.renderOutput(dataTable, element);\n",
       "          const docLink = document.createElement('div');\n",
       "          docLink.innerHTML = docLinkHtml;\n",
       "          element.appendChild(docLink);\n",
       "        }\n",
       "      </script>\n",
       "    </div>\n",
       "  </div>\n",
       "  "
      ],
      "text/plain": [
       "        HighBP  HighChol  CholCheck  ...       Age  Education    Income\n",
       "139689     0.0       0.0        1.0  ...  0.333333        0.8  0.714286\n",
       "135727     0.0       0.0        1.0  ...  1.000000        0.4  1.000000\n",
       "150855     1.0       1.0        1.0  ...  1.000000        0.8  0.428571\n",
       "62793      1.0       1.0        1.0  ...  0.583333        0.4  0.285714\n",
       "181747     0.0       0.0        1.0  ...  0.750000        0.8  0.857143\n",
       "\n",
       "[5 rows x 21 columns]"
      ]
     },
     "execution_count": 86,
     "metadata": {},
     "output_type": "execute_result"
    }
   ],
   "source": [
    "X_test.head()"
   ]
  },
  {
   "cell_type": "code",
   "execution_count": null,
   "metadata": {
    "colab": {
     "base_uri": "https://localhost:8080/",
     "height": 270
    },
    "id": "0M1DlQRGTD2g",
    "outputId": "150feff4-2b69-4c93-95ae-95df9bd30f2c"
   },
   "outputs": [
    {
     "data": {
      "text/html": [
       "\n",
       "  <div id=\"df-0bb4ef61-63f2-4746-9960-ab1446a9b6bc\">\n",
       "    <div class=\"colab-df-container\">\n",
       "      <div>\n",
       "<style scoped>\n",
       "    .dataframe tbody tr th:only-of-type {\n",
       "        vertical-align: middle;\n",
       "    }\n",
       "\n",
       "    .dataframe tbody tr th {\n",
       "        vertical-align: top;\n",
       "    }\n",
       "\n",
       "    .dataframe thead th {\n",
       "        text-align: right;\n",
       "    }\n",
       "</style>\n",
       "<table border=\"1\" class=\"dataframe\">\n",
       "  <thead>\n",
       "    <tr style=\"text-align: right;\">\n",
       "      <th></th>\n",
       "      <th>HighBP</th>\n",
       "      <th>HighChol</th>\n",
       "      <th>CholCheck</th>\n",
       "      <th>BMI</th>\n",
       "      <th>Smoker</th>\n",
       "      <th>Stroke</th>\n",
       "      <th>HeartDiseaseorAttack</th>\n",
       "      <th>PhysActivity</th>\n",
       "      <th>Fruits</th>\n",
       "      <th>Veggies</th>\n",
       "      <th>HvyAlcoholConsump</th>\n",
       "      <th>AnyHealthcare</th>\n",
       "      <th>NoDocbcCost</th>\n",
       "      <th>GenHlth</th>\n",
       "      <th>MentHlth</th>\n",
       "      <th>PhysHlth</th>\n",
       "      <th>DiffWalk</th>\n",
       "      <th>Sex</th>\n",
       "      <th>Age</th>\n",
       "      <th>Education</th>\n",
       "      <th>Income</th>\n",
       "    </tr>\n",
       "  </thead>\n",
       "  <tbody>\n",
       "    <tr>\n",
       "      <th>238060</th>\n",
       "      <td>0.0</td>\n",
       "      <td>0.0</td>\n",
       "      <td>1.0</td>\n",
       "      <td>0.232558</td>\n",
       "      <td>0.0</td>\n",
       "      <td>0.0</td>\n",
       "      <td>0.0</td>\n",
       "      <td>1.0</td>\n",
       "      <td>0.0</td>\n",
       "      <td>1.0</td>\n",
       "      <td>0.0</td>\n",
       "      <td>1.0</td>\n",
       "      <td>0.0</td>\n",
       "      <td>0.00</td>\n",
       "      <td>0.0</td>\n",
       "      <td>0.000000</td>\n",
       "      <td>0.0</td>\n",
       "      <td>1.0</td>\n",
       "      <td>0.583333</td>\n",
       "      <td>1.0</td>\n",
       "      <td>1.000000</td>\n",
       "    </tr>\n",
       "    <tr>\n",
       "      <th>94160</th>\n",
       "      <td>0.0</td>\n",
       "      <td>0.0</td>\n",
       "      <td>1.0</td>\n",
       "      <td>0.139535</td>\n",
       "      <td>1.0</td>\n",
       "      <td>0.0</td>\n",
       "      <td>0.0</td>\n",
       "      <td>1.0</td>\n",
       "      <td>1.0</td>\n",
       "      <td>0.0</td>\n",
       "      <td>0.0</td>\n",
       "      <td>1.0</td>\n",
       "      <td>0.0</td>\n",
       "      <td>0.25</td>\n",
       "      <td>0.0</td>\n",
       "      <td>0.000000</td>\n",
       "      <td>1.0</td>\n",
       "      <td>1.0</td>\n",
       "      <td>0.750000</td>\n",
       "      <td>0.8</td>\n",
       "      <td>0.857143</td>\n",
       "    </tr>\n",
       "    <tr>\n",
       "      <th>49025</th>\n",
       "      <td>0.0</td>\n",
       "      <td>0.0</td>\n",
       "      <td>1.0</td>\n",
       "      <td>0.151163</td>\n",
       "      <td>0.0</td>\n",
       "      <td>0.0</td>\n",
       "      <td>0.0</td>\n",
       "      <td>1.0</td>\n",
       "      <td>0.0</td>\n",
       "      <td>1.0</td>\n",
       "      <td>0.0</td>\n",
       "      <td>1.0</td>\n",
       "      <td>0.0</td>\n",
       "      <td>0.25</td>\n",
       "      <td>0.0</td>\n",
       "      <td>0.000000</td>\n",
       "      <td>0.0</td>\n",
       "      <td>0.0</td>\n",
       "      <td>0.500000</td>\n",
       "      <td>1.0</td>\n",
       "      <td>1.000000</td>\n",
       "    </tr>\n",
       "    <tr>\n",
       "      <th>177925</th>\n",
       "      <td>1.0</td>\n",
       "      <td>1.0</td>\n",
       "      <td>1.0</td>\n",
       "      <td>0.162791</td>\n",
       "      <td>0.0</td>\n",
       "      <td>0.0</td>\n",
       "      <td>0.0</td>\n",
       "      <td>1.0</td>\n",
       "      <td>1.0</td>\n",
       "      <td>0.0</td>\n",
       "      <td>0.0</td>\n",
       "      <td>1.0</td>\n",
       "      <td>0.0</td>\n",
       "      <td>0.50</td>\n",
       "      <td>0.0</td>\n",
       "      <td>0.000000</td>\n",
       "      <td>0.0</td>\n",
       "      <td>0.0</td>\n",
       "      <td>0.833333</td>\n",
       "      <td>1.0</td>\n",
       "      <td>1.000000</td>\n",
       "    </tr>\n",
       "    <tr>\n",
       "      <th>192244</th>\n",
       "      <td>1.0</td>\n",
       "      <td>0.0</td>\n",
       "      <td>1.0</td>\n",
       "      <td>0.104651</td>\n",
       "      <td>1.0</td>\n",
       "      <td>0.0</td>\n",
       "      <td>1.0</td>\n",
       "      <td>1.0</td>\n",
       "      <td>1.0</td>\n",
       "      <td>1.0</td>\n",
       "      <td>0.0</td>\n",
       "      <td>1.0</td>\n",
       "      <td>0.0</td>\n",
       "      <td>1.00</td>\n",
       "      <td>0.0</td>\n",
       "      <td>0.166667</td>\n",
       "      <td>1.0</td>\n",
       "      <td>1.0</td>\n",
       "      <td>1.000000</td>\n",
       "      <td>0.8</td>\n",
       "      <td>0.571429</td>\n",
       "    </tr>\n",
       "  </tbody>\n",
       "</table>\n",
       "</div>\n",
       "      <button class=\"colab-df-convert\" onclick=\"convertToInteractive('df-0bb4ef61-63f2-4746-9960-ab1446a9b6bc')\"\n",
       "              title=\"Convert this dataframe to an interactive table.\"\n",
       "              style=\"display:none;\">\n",
       "        \n",
       "  <svg xmlns=\"http://www.w3.org/2000/svg\" height=\"24px\"viewBox=\"0 0 24 24\"\n",
       "       width=\"24px\">\n",
       "    <path d=\"M0 0h24v24H0V0z\" fill=\"none\"/>\n",
       "    <path d=\"M18.56 5.44l.94 2.06.94-2.06 2.06-.94-2.06-.94-.94-2.06-.94 2.06-2.06.94zm-11 1L8.5 8.5l.94-2.06 2.06-.94-2.06-.94L8.5 2.5l-.94 2.06-2.06.94zm10 10l.94 2.06.94-2.06 2.06-.94-2.06-.94-.94-2.06-.94 2.06-2.06.94z\"/><path d=\"M17.41 7.96l-1.37-1.37c-.4-.4-.92-.59-1.43-.59-.52 0-1.04.2-1.43.59L10.3 9.45l-7.72 7.72c-.78.78-.78 2.05 0 2.83L4 21.41c.39.39.9.59 1.41.59.51 0 1.02-.2 1.41-.59l7.78-7.78 2.81-2.81c.8-.78.8-2.07 0-2.86zM5.41 20L4 18.59l7.72-7.72 1.47 1.35L5.41 20z\"/>\n",
       "  </svg>\n",
       "      </button>\n",
       "      \n",
       "  <style>\n",
       "    .colab-df-container {\n",
       "      display:flex;\n",
       "      flex-wrap:wrap;\n",
       "      gap: 12px;\n",
       "    }\n",
       "\n",
       "    .colab-df-convert {\n",
       "      background-color: #E8F0FE;\n",
       "      border: none;\n",
       "      border-radius: 50%;\n",
       "      cursor: pointer;\n",
       "      display: none;\n",
       "      fill: #1967D2;\n",
       "      height: 32px;\n",
       "      padding: 0 0 0 0;\n",
       "      width: 32px;\n",
       "    }\n",
       "\n",
       "    .colab-df-convert:hover {\n",
       "      background-color: #E2EBFA;\n",
       "      box-shadow: 0px 1px 2px rgba(60, 64, 67, 0.3), 0px 1px 3px 1px rgba(60, 64, 67, 0.15);\n",
       "      fill: #174EA6;\n",
       "    }\n",
       "\n",
       "    [theme=dark] .colab-df-convert {\n",
       "      background-color: #3B4455;\n",
       "      fill: #D2E3FC;\n",
       "    }\n",
       "\n",
       "    [theme=dark] .colab-df-convert:hover {\n",
       "      background-color: #434B5C;\n",
       "      box-shadow: 0px 1px 3px 1px rgba(0, 0, 0, 0.15);\n",
       "      filter: drop-shadow(0px 1px 2px rgba(0, 0, 0, 0.3));\n",
       "      fill: #FFFFFF;\n",
       "    }\n",
       "  </style>\n",
       "\n",
       "      <script>\n",
       "        const buttonEl =\n",
       "          document.querySelector('#df-0bb4ef61-63f2-4746-9960-ab1446a9b6bc button.colab-df-convert');\n",
       "        buttonEl.style.display =\n",
       "          google.colab.kernel.accessAllowed ? 'block' : 'none';\n",
       "\n",
       "        async function convertToInteractive(key) {\n",
       "          const element = document.querySelector('#df-0bb4ef61-63f2-4746-9960-ab1446a9b6bc');\n",
       "          const dataTable =\n",
       "            await google.colab.kernel.invokeFunction('convertToInteractive',\n",
       "                                                     [key], {});\n",
       "          if (!dataTable) return;\n",
       "\n",
       "          const docLinkHtml = 'Like what you see? Visit the ' +\n",
       "            '<a target=\"_blank\" href=https://colab.research.google.com/notebooks/data_table.ipynb>data table notebook</a>'\n",
       "            + ' to learn more about interactive tables.';\n",
       "          element.innerHTML = '';\n",
       "          dataTable['output_type'] = 'display_data';\n",
       "          await google.colab.output.renderOutput(dataTable, element);\n",
       "          const docLink = document.createElement('div');\n",
       "          docLink.innerHTML = docLinkHtml;\n",
       "          element.appendChild(docLink);\n",
       "        }\n",
       "      </script>\n",
       "    </div>\n",
       "  </div>\n",
       "  "
      ],
      "text/plain": [
       "        HighBP  HighChol  CholCheck  ...       Age  Education    Income\n",
       "238060     0.0       0.0        1.0  ...  0.583333        1.0  1.000000\n",
       "94160      0.0       0.0        1.0  ...  0.750000        0.8  0.857143\n",
       "49025      0.0       0.0        1.0  ...  0.500000        1.0  1.000000\n",
       "177925     1.0       1.0        1.0  ...  0.833333        1.0  1.000000\n",
       "192244     1.0       0.0        1.0  ...  1.000000        0.8  0.571429\n",
       "\n",
       "[5 rows x 21 columns]"
      ]
     },
     "execution_count": 87,
     "metadata": {},
     "output_type": "execute_result"
    }
   ],
   "source": [
    "X_val.head()"
   ]
  },
  {
   "cell_type": "markdown",
   "metadata": {
    "id": "y1R4bsJuWZcr"
   },
   "source": [
    "## Balancing the training set"
   ]
  },
  {
   "cell_type": "markdown",
   "metadata": {
    "id": "7lcH3kty5PDh"
   },
   "source": [
    "We will try to train the neural network with both the training set balanced and unbalanced\n",
    "\n",
    "We create a new training set where we over-sample the value=1 for the Diabetes_binary target"
   ]
  },
  {
   "cell_type": "code",
   "execution_count": null,
   "metadata": {
    "colab": {
     "base_uri": "https://localhost:8080/"
    },
    "id": "J-NoiCmGwAtg",
    "outputId": "e9e25837-fb68-4e8a-ef2e-36e2648f8362"
   },
   "outputs": [
    {
     "name": "stdout",
     "output_type": "stream",
     "text": [
      "classe 0: 174667 classe 1: 28277\n"
     ]
    }
   ],
   "source": [
    "print(f'classe 0: {y_train.Diabetes_binary[y_train.Diabetes_binary==0].value_counts()[0]}', \n",
    "      f'classe 1: {y_train.Diabetes_binary[y_train.Diabetes_binary==1].value_counts()[1]}')"
   ]
  },
  {
   "cell_type": "code",
   "execution_count": null,
   "metadata": {
    "id": "29518oi6wAnc"
   },
   "outputs": [],
   "source": [
    "strategy = {0: len(y_train.Diabetes_binary[y_train.Diabetes_binary==0]), \n",
    "            1: 4*len(y_train.Diabetes_binary[y_train.Diabetes_binary==1])}\n"
   ]
  },
  {
   "cell_type": "code",
   "execution_count": null,
   "metadata": {
    "id": "GpEDfcnD4XdY"
   },
   "outputs": [],
   "source": [
    "oversample = SMOTE(sampling_strategy=strategy,random_state=101)"
   ]
  },
  {
   "cell_type": "code",
   "execution_count": null,
   "metadata": {
    "id": "WKLA8OYY1BPX"
   },
   "outputs": [],
   "source": [
    "X_train_oversampled, y_train_oversampled = oversample.fit_resample(X_train, y_train)"
   ]
  },
  {
   "cell_type": "markdown",
   "metadata": {
    "id": "S4gnLRnh7BVO"
   },
   "source": [
    "Now class 0 represents 61%, classe 1  39% (before 86%, 14%)"
   ]
  },
  {
   "cell_type": "code",
   "execution_count": null,
   "metadata": {
    "colab": {
     "base_uri": "https://localhost:8080/"
    },
    "id": "4a71KWLt2Rg8",
    "outputId": "e443e8af-6cc2-48b4-a4a4-cd60b0504d10"
   },
   "outputs": [
    {
     "name": "stdout",
     "output_type": "stream",
     "text": [
      "classe 0: 174667 classe 1: 113108\n"
     ]
    }
   ],
   "source": [
    "print(f'classe 0: {y_train_oversampled.Diabetes_binary[y_train_oversampled.Diabetes_binary==0].value_counts()[0]}', \n",
    "      f'classe 1: {y_train_oversampled.Diabetes_binary[y_train_oversampled.Diabetes_binary==1].value_counts()[1]}')"
   ]
  },
  {
   "cell_type": "code",
   "execution_count": null,
   "metadata": {
    "colab": {
     "base_uri": "https://localhost:8080/"
    },
    "id": "rw_x04if2G7X",
    "outputId": "50f54c38-974b-4d2b-e882-25ba3756d09a"
   },
   "outputs": [
    {
     "data": {
      "text/plain": [
       "0.39304317609243333"
      ]
     },
     "execution_count": 93,
     "metadata": {},
     "output_type": "execute_result"
    }
   ],
   "source": [
    "strategy[1]/sum(strategy.values())"
   ]
  },
  {
   "cell_type": "markdown",
   "metadata": {
    "id": "pcnvq4Ml9qah"
   },
   "source": [
    "## Array for target and features"
   ]
  },
  {
   "cell_type": "code",
   "execution_count": null,
   "metadata": {
    "colab": {
     "base_uri": "https://localhost:8080/"
    },
    "id": "L9DBENOUp_XN",
    "outputId": "1cc4a58b-f838-48f1-c531-0be313f094a1"
   },
   "outputs": [
    {
     "name": "stdout",
     "output_type": "stream",
     "text": [
      "train_labels: 202944, train_oversampled_labels: 287775, test_labels: 7611, val_labels: 43125\n"
     ]
    }
   ],
   "source": [
    "train_labels=np.array(y_train)\n",
    "train_oversampled_labels=np.array(y_train_oversampled)\n",
    "test_labels=np.array(y_test)\n",
    "val_labels=np.array(y_val)\n",
    "\n",
    "print(f'train_labels: {len(train_labels)}, train_oversampled_labels: {len(train_oversampled_labels)}, test_labels: {len(test_labels)}, val_labels: {len(val_labels)}')"
   ]
  },
  {
   "cell_type": "code",
   "execution_count": null,
   "metadata": {
    "id": "qZSOzmwqr0cv"
   },
   "outputs": [],
   "source": [
    "train_features = np.array(X_train)\n",
    "train_oversampled_features = np.array(X_train_oversampled)\n",
    "test_features = np.array(X_test)\n",
    "val_features=np.array(X_val)\n"
   ]
  },
  {
   "cell_type": "markdown",
   "metadata": {
    "id": "z_00pUT-Zs5C"
   },
   "source": [
    "# Building the network"
   ]
  },
  {
   "cell_type": "markdown",
   "metadata": {
    "id": "pE18ohh0J2HW"
   },
   "source": [
    "Loss fucntion is the BinaryCrossEntropy"
   ]
  },
  {
   "cell_type": "code",
   "execution_count": null,
   "metadata": {
    "id": "SKZmuqPpEz7Q"
   },
   "outputs": [],
   "source": [
    "def MyModel(n_feature, metrics_info,output_bias=None):\n",
    "  if output_bias is not None:\n",
    "    output_bias = keras.initializers.Constant(output_bias)\n",
    "\n",
    "  inputs = keras.layers.Input(shape=(n_feature,))\n",
    "  hidden1 = keras.layers.Dense(32, activation=\"relu\",\n",
    "                               kernel_regularizer=keras.regularizers.l2(1e-5))(inputs)\n",
    "  drop1 = keras.layers.Dropout(0.2)(hidden1)\n",
    "  hidden2 = keras.layers.Dense(64, activation=\"relu\",\n",
    "                              kernel_regularizer=keras.regularizers.l2(1e-5))(drop1)\n",
    "  drop2 = keras.layers.Dropout(0.4)(hidden2)\n",
    "  out = keras.layers.Dense(1, activation='sigmoid',bias_initializer=output_bias)(drop2)\n",
    "  model = keras.Model(inputs=inputs, outputs=out)\n",
    "  \n",
    "  lr_schedule = keras.optimizers.schedules.ExponentialDecay(\n",
    "      initial_learning_rate=1e-4,\n",
    "      decay_steps=10000,\n",
    "      decay_rate=0.9)\n",
    "\n",
    "  model.compile(\n",
    "      optimizer=keras.optimizers.Adamax(learning_rate=lr_schedule),\n",
    "      loss=keras.losses.BinaryCrossentropy(),\n",
    "      metrics=metrics_info)\n",
    "\n",
    "  return model\n"
   ]
  },
  {
   "cell_type": "markdown",
   "metadata": {
    "id": "aA7eLdYKKXsW"
   },
   "source": [
    "Metrics that will be used for the validation"
   ]
  },
  {
   "cell_type": "code",
   "execution_count": null,
   "metadata": {
    "id": "sVMtLdUbRuYS"
   },
   "outputs": [],
   "source": [
    "metrics_list = [\n",
    "      keras.metrics.BinaryAccuracy(name='binary_accuracy'),\n",
    "      keras.metrics.TruePositives(name='tp'),\n",
    "      keras.metrics.FalsePositives(name='fp'),\n",
    "      keras.metrics.TrueNegatives(name='tn'),\n",
    "      keras.metrics.FalseNegatives(name='fn'), \n",
    "      keras.metrics.Precision(name='precision'),\n",
    "      keras.metrics.Recall(name='recall'),\n",
    "      keras.metrics.AUC(name='auc'),\n",
    "      keras.metrics.AUC(name='prc', curve='PR'),\n",
    "]\n",
    "\n",
    "EPOCHS = 80\n",
    "BATCH_SIZE = 200\n",
    "\n",
    "early_stopping = keras.callbacks.EarlyStopping(\n",
    "    monitor='val_prc', \n",
    "    mode='max',\n",
    "    patience=5,\n",
    "    restore_best_weights=True)"
   ]
  },
  {
   "cell_type": "markdown",
   "metadata": {
    "id": "8L4knMOGhQDX"
   },
   "source": [
    "Some plots we will used later"
   ]
  },
  {
   "cell_type": "code",
   "execution_count": null,
   "metadata": {
    "id": "PmpJ3W-ZhPMi"
   },
   "outputs": [],
   "source": [
    "#confronto metriche\n",
    "def plot_metrics(history):\n",
    "  metrics = ['loss', 'prc', 'precision', 'recall']\n",
    "  fig, ax = plt.subplots(2,2, figsize=(15, 15))\n",
    "  ax =ax.flatten()\n",
    "  for n, metric in enumerate(metrics):\n",
    "    name = metric.replace(\"_\",\" \").capitalize()\n",
    "    ax[n].plot(history.epoch, history.history[metric], color='royalblue', label='Train')\n",
    "    ax[n].plot(history.epoch, history.history['val_'+metric],\n",
    "             color='royalblue', linestyle=\"--\", label='Val')\n",
    "    ax[n].set_xlabel('Epoch')\n",
    "    ax[n].set_title(name)\n",
    "    ax[n].legend()"
   ]
  },
  {
   "cell_type": "code",
   "execution_count": null,
   "metadata": {
    "id": "0L_eIdVhJhPx"
   },
   "outputs": [],
   "source": [
    "# curva roc\n",
    "def plot_roc(name, labels, predictions, y_min=-0.5, x_max=100, **kwargs):\n",
    "  fp, tp, _ = sklearn.metrics.roc_curve(labels, predictions)\n",
    "\n",
    "  plt.plot(100*fp, 100*tp, label=name, linewidth=2, **kwargs)\n",
    "  plt.xlabel('False positives [%]')\n",
    "  plt.ylabel('True positives [%]')\n",
    "  plt.ylim([y_min,100])\n",
    "  plt.xlim([0,x_max])\n",
    "  plt.grid(True)\n",
    "  ax = plt.gca()\n",
    "  ax.set_aspect('equal')"
   ]
  },
  {
   "cell_type": "code",
   "execution_count": null,
   "metadata": {
    "id": "PW3_RgjeJnlN"
   },
   "outputs": [],
   "source": [
    "#confusion matrix\n",
    "def plot_cm(labels, predictions, p=0.5):\n",
    "  cm = confusion_matrix(labels,predictions )\n",
    "  plt.figure(figsize=(5,5))\n",
    "  sns.heatmap(cm, annot=True, fmt=\"d\")\n",
    "  plt.title('Confusion matrix @{:.2f}'.format(p))\n",
    "  plt.ylabel('Actual label')\n",
    "  plt.xlabel('Predicted label')\n"
   ]
  },
  {
   "cell_type": "markdown",
   "metadata": {
    "id": "KvVQVDzohac_"
   },
   "source": [
    "## Training of the unbalanced training set"
   ]
  },
  {
   "cell_type": "code",
   "execution_count": null,
   "metadata": {
    "colab": {
     "base_uri": "https://localhost:8080/"
    },
    "id": "laLo9FgFSfCW",
    "outputId": "88a124ae-8ff7-4415-e14e-29063d88eb04"
   },
   "outputs": [
    {
     "name": "stdout",
     "output_type": "stream",
     "text": [
      "Model: \"model_2\"\n",
      "_________________________________________________________________\n",
      " Layer (type)                Output Shape              Param #   \n",
      "=================================================================\n",
      " input_3 (InputLayer)        [(None, 21)]              0         \n",
      "                                                                 \n",
      " dense_6 (Dense)             (None, 32)                704       \n",
      "                                                                 \n",
      " dropout_4 (Dropout)         (None, 32)                0         \n",
      "                                                                 \n",
      " dense_7 (Dense)             (None, 64)                2112      \n",
      "                                                                 \n",
      " dropout_5 (Dropout)         (None, 64)                0         \n",
      "                                                                 \n",
      " dense_8 (Dense)             (None, 1)                 65        \n",
      "                                                                 \n",
      "=================================================================\n",
      "Total params: 2,881\n",
      "Trainable params: 2,881\n",
      "Non-trainable params: 0\n",
      "_________________________________________________________________\n"
     ]
    }
   ],
   "source": [
    "model_unbalanced = MyModel(X_train.shape[-1],metrics_list,output_bias=-1.8)\n",
    "model_unbalanced.summary()\n"
   ]
  },
  {
   "cell_type": "code",
   "execution_count": null,
   "metadata": {
    "colab": {
     "base_uri": "https://localhost:8080/"
    },
    "id": "9vpk5OE0Tod-",
    "outputId": "b34767d8-3500-4645-a8c3-a36f61aa9dfe"
   },
   "outputs": [
    {
     "name": "stdout",
     "output_type": "stream",
     "text": [
      "Epoch 1/80\n",
      "1015/1015 [==============================] - 5s 3ms/step - loss: 0.3926 - binary_accuracy: 0.8606 - tp: 17.0000 - fp: 30.0000 - tn: 174637.0000 - fn: 28260.0000 - precision: 0.3617 - recall: 6.0120e-04 - auc: 0.6212 - prc: 0.2156 - val_loss: 0.3707 - val_binary_accuracy: 0.8607 - val_tp: 0.0000e+00 - val_fp: 0.0000e+00 - val_tn: 37116.0000 - val_fn: 6009.0000 - val_precision: 0.0000e+00 - val_recall: 0.0000e+00 - val_auc: 0.7481 - val_prc: 0.3169\n",
      "Epoch 2/80\n",
      "1015/1015 [==============================] - 2s 2ms/step - loss: 0.3698 - binary_accuracy: 0.8602 - tp: 418.0000 - fp: 510.0000 - tn: 174157.0000 - fn: 27859.0000 - precision: 0.4504 - recall: 0.0148 - auc: 0.7179 - prc: 0.2872 - val_loss: 0.3517 - val_binary_accuracy: 0.8606 - val_tp: 1.0000 - val_fp: 2.0000 - val_tn: 37114.0000 - val_fn: 6008.0000 - val_precision: 0.3333 - val_recall: 1.6642e-04 - val_auc: 0.7739 - val_prc: 0.3405\n",
      "Epoch 3/80\n",
      "1015/1015 [==============================] - 2s 2ms/step - loss: 0.3571 - binary_accuracy: 0.8596 - tp: 1175.0000 - fp: 1388.0000 - tn: 173279.0000 - fn: 27102.0000 - precision: 0.4584 - recall: 0.0416 - auc: 0.7513 - prc: 0.3152 - val_loss: 0.3437 - val_binary_accuracy: 0.8609 - val_tp: 94.0000 - val_fp: 82.0000 - val_tn: 37034.0000 - val_fn: 5915.0000 - val_precision: 0.5341 - val_recall: 0.0156 - val_auc: 0.7836 - val_prc: 0.3503\n",
      "Epoch 4/80\n",
      "1015/1015 [==============================] - 2s 2ms/step - loss: 0.3519 - binary_accuracy: 0.8597 - tp: 1528.0000 - fp: 1727.0000 - tn: 172940.0000 - fn: 26749.0000 - precision: 0.4694 - recall: 0.0540 - auc: 0.7624 - prc: 0.3256 - val_loss: 0.3401 - val_binary_accuracy: 0.8611 - val_tp: 150.0000 - val_fp: 133.0000 - val_tn: 36983.0000 - val_fn: 5859.0000 - val_precision: 0.5300 - val_recall: 0.0250 - val_auc: 0.7884 - val_prc: 0.3552\n",
      "Epoch 5/80\n",
      "1015/1015 [==============================] - 2s 2ms/step - loss: 0.3485 - binary_accuracy: 0.8596 - tp: 1690.0000 - fp: 1904.0000 - tn: 172763.0000 - fn: 26587.0000 - precision: 0.4702 - recall: 0.0598 - auc: 0.7694 - prc: 0.3325 - val_loss: 0.3380 - val_binary_accuracy: 0.8613 - val_tp: 166.0000 - val_fp: 140.0000 - val_tn: 36976.0000 - val_fn: 5843.0000 - val_precision: 0.5425 - val_recall: 0.0276 - val_auc: 0.7913 - val_prc: 0.3578\n",
      "Epoch 6/80\n",
      "1015/1015 [==============================] - 2s 2ms/step - loss: 0.3463 - binary_accuracy: 0.8596 - tp: 1723.0000 - fp: 1948.0000 - tn: 172719.0000 - fn: 26554.0000 - precision: 0.4694 - recall: 0.0609 - auc: 0.7736 - prc: 0.3371 - val_loss: 0.3366 - val_binary_accuracy: 0.8612 - val_tp: 161.0000 - val_fp: 136.0000 - val_tn: 36980.0000 - val_fn: 5848.0000 - val_precision: 0.5421 - val_recall: 0.0268 - val_auc: 0.7935 - val_prc: 0.3600\n",
      "Epoch 7/80\n",
      "1015/1015 [==============================] - 2s 2ms/step - loss: 0.3441 - binary_accuracy: 0.8601 - tp: 1709.0000 - fp: 1825.0000 - tn: 172842.0000 - fn: 26568.0000 - precision: 0.4836 - recall: 0.0604 - auc: 0.7778 - prc: 0.3404 - val_loss: 0.3354 - val_binary_accuracy: 0.8612 - val_tp: 165.0000 - val_fp: 141.0000 - val_tn: 36975.0000 - val_fn: 5844.0000 - val_precision: 0.5392 - val_recall: 0.0275 - val_auc: 0.7952 - val_prc: 0.3615\n",
      "Epoch 8/80\n",
      "1015/1015 [==============================] - 2s 2ms/step - loss: 0.3424 - binary_accuracy: 0.8600 - tp: 1799.0000 - fp: 1925.0000 - tn: 172742.0000 - fn: 26478.0000 - precision: 0.4831 - recall: 0.0636 - auc: 0.7812 - prc: 0.3437 - val_loss: 0.3344 - val_binary_accuracy: 0.8613 - val_tp: 163.0000 - val_fp: 137.0000 - val_tn: 36979.0000 - val_fn: 5846.0000 - val_precision: 0.5433 - val_recall: 0.0271 - val_auc: 0.7968 - val_prc: 0.3630\n",
      "Epoch 9/80\n",
      "1015/1015 [==============================] - 2s 2ms/step - loss: 0.3418 - binary_accuracy: 0.8600 - tp: 1675.0000 - fp: 1815.0000 - tn: 172852.0000 - fn: 26602.0000 - precision: 0.4799 - recall: 0.0592 - auc: 0.7823 - prc: 0.3438 - val_loss: 0.3337 - val_binary_accuracy: 0.8613 - val_tp: 158.0000 - val_fp: 131.0000 - val_tn: 36985.0000 - val_fn: 5851.0000 - val_precision: 0.5467 - val_recall: 0.0263 - val_auc: 0.7979 - val_prc: 0.3642\n",
      "Epoch 10/80\n",
      "1015/1015 [==============================] - 2s 2ms/step - loss: 0.3410 - binary_accuracy: 0.8598 - tp: 1591.0000 - fp: 1772.0000 - tn: 172895.0000 - fn: 26686.0000 - precision: 0.4731 - recall: 0.0563 - auc: 0.7840 - prc: 0.3432 - val_loss: 0.3331 - val_binary_accuracy: 0.8614 - val_tp: 157.0000 - val_fp: 125.0000 - val_tn: 36991.0000 - val_fn: 5852.0000 - val_precision: 0.5567 - val_recall: 0.0261 - val_auc: 0.7988 - val_prc: 0.3651\n",
      "Epoch 11/80\n",
      "1015/1015 [==============================] - 2s 2ms/step - loss: 0.3398 - binary_accuracy: 0.8604 - tp: 1632.0000 - fp: 1696.0000 - tn: 172971.0000 - fn: 26645.0000 - precision: 0.4904 - recall: 0.0577 - auc: 0.7860 - prc: 0.3471 - val_loss: 0.3325 - val_binary_accuracy: 0.8614 - val_tp: 156.0000 - val_fp: 124.0000 - val_tn: 36992.0000 - val_fn: 5853.0000 - val_precision: 0.5571 - val_recall: 0.0260 - val_auc: 0.7995 - val_prc: 0.3661\n",
      "Epoch 12/80\n",
      "1015/1015 [==============================] - 2s 2ms/step - loss: 0.3391 - binary_accuracy: 0.8604 - tp: 1700.0000 - fp: 1753.0000 - tn: 172914.0000 - fn: 26577.0000 - precision: 0.4923 - recall: 0.0601 - auc: 0.7871 - prc: 0.3499 - val_loss: 0.3320 - val_binary_accuracy: 0.8613 - val_tp: 150.0000 - val_fp: 123.0000 - val_tn: 36993.0000 - val_fn: 5859.0000 - val_precision: 0.5495 - val_recall: 0.0250 - val_auc: 0.8005 - val_prc: 0.3672\n",
      "Epoch 13/80\n",
      "1015/1015 [==============================] - 2s 2ms/step - loss: 0.3384 - binary_accuracy: 0.8600 - tp: 1629.0000 - fp: 1761.0000 - tn: 172906.0000 - fn: 26648.0000 - precision: 0.4805 - recall: 0.0576 - auc: 0.7886 - prc: 0.3485 - val_loss: 0.3315 - val_binary_accuracy: 0.8613 - val_tp: 139.0000 - val_fp: 112.0000 - val_tn: 37004.0000 - val_fn: 5870.0000 - val_precision: 0.5538 - val_recall: 0.0231 - val_auc: 0.8013 - val_prc: 0.3682\n",
      "Epoch 14/80\n",
      "1015/1015 [==============================] - 2s 2ms/step - loss: 0.3379 - binary_accuracy: 0.8601 - tp: 1582.0000 - fp: 1703.0000 - tn: 172964.0000 - fn: 26695.0000 - precision: 0.4816 - recall: 0.0559 - auc: 0.7893 - prc: 0.3513 - val_loss: 0.3311 - val_binary_accuracy: 0.8612 - val_tp: 142.0000 - val_fp: 117.0000 - val_tn: 36999.0000 - val_fn: 5867.0000 - val_precision: 0.5483 - val_recall: 0.0236 - val_auc: 0.8019 - val_prc: 0.3693\n",
      "Epoch 15/80\n",
      "1015/1015 [==============================] - 2s 2ms/step - loss: 0.3370 - binary_accuracy: 0.8609 - tp: 1714.0000 - fp: 1671.0000 - tn: 172996.0000 - fn: 26563.0000 - precision: 0.5064 - recall: 0.0606 - auc: 0.7907 - prc: 0.3537 - val_loss: 0.3308 - val_binary_accuracy: 0.8614 - val_tp: 132.0000 - val_fp: 102.0000 - val_tn: 37014.0000 - val_fn: 5877.0000 - val_precision: 0.5641 - val_recall: 0.0220 - val_auc: 0.8025 - val_prc: 0.3699\n",
      "Epoch 16/80\n",
      "1015/1015 [==============================] - 2s 2ms/step - loss: 0.3363 - binary_accuracy: 0.8607 - tp: 1664.0000 - fp: 1650.0000 - tn: 173017.0000 - fn: 26613.0000 - precision: 0.5021 - recall: 0.0588 - auc: 0.7921 - prc: 0.3556 - val_loss: 0.3303 - val_binary_accuracy: 0.8613 - val_tp: 135.0000 - val_fp: 109.0000 - val_tn: 37007.0000 - val_fn: 5874.0000 - val_precision: 0.5533 - val_recall: 0.0225 - val_auc: 0.8031 - val_prc: 0.3708\n",
      "Epoch 17/80\n",
      "1015/1015 [==============================] - 2s 2ms/step - loss: 0.3363 - binary_accuracy: 0.8611 - tp: 1714.0000 - fp: 1635.0000 - tn: 173032.0000 - fn: 26563.0000 - precision: 0.5118 - recall: 0.0606 - auc: 0.7920 - prc: 0.3561 - val_loss: 0.3300 - val_binary_accuracy: 0.8613 - val_tp: 137.0000 - val_fp: 110.0000 - val_tn: 37006.0000 - val_fn: 5872.0000 - val_precision: 0.5547 - val_recall: 0.0228 - val_auc: 0.8037 - val_prc: 0.3719\n",
      "Epoch 18/80\n",
      "1015/1015 [==============================] - 2s 2ms/step - loss: 0.3360 - binary_accuracy: 0.8608 - tp: 1682.0000 - fp: 1645.0000 - tn: 173022.0000 - fn: 26595.0000 - precision: 0.5056 - recall: 0.0595 - auc: 0.7926 - prc: 0.3559 - val_loss: 0.3297 - val_binary_accuracy: 0.8613 - val_tp: 142.0000 - val_fp: 114.0000 - val_tn: 37002.0000 - val_fn: 5867.0000 - val_precision: 0.5547 - val_recall: 0.0236 - val_auc: 0.8044 - val_prc: 0.3727\n",
      "Epoch 19/80\n",
      "1015/1015 [==============================] - 2s 2ms/step - loss: 0.3353 - binary_accuracy: 0.8607 - tp: 1649.0000 - fp: 1638.0000 - tn: 173029.0000 - fn: 26628.0000 - precision: 0.5017 - recall: 0.0583 - auc: 0.7940 - prc: 0.3570 - val_loss: 0.3294 - val_binary_accuracy: 0.8614 - val_tp: 133.0000 - val_fp: 100.0000 - val_tn: 37016.0000 - val_fn: 5876.0000 - val_precision: 0.5708 - val_recall: 0.0221 - val_auc: 0.8047 - val_prc: 0.3736\n",
      "Epoch 20/80\n",
      "1015/1015 [==============================] - 2s 2ms/step - loss: 0.3350 - binary_accuracy: 0.8606 - tp: 1705.0000 - fp: 1715.0000 - tn: 172952.0000 - fn: 26572.0000 - precision: 0.4985 - recall: 0.0603 - auc: 0.7946 - prc: 0.3573 - val_loss: 0.3292 - val_binary_accuracy: 0.8614 - val_tp: 127.0000 - val_fp: 94.0000 - val_tn: 37022.0000 - val_fn: 5882.0000 - val_precision: 0.5747 - val_recall: 0.0211 - val_auc: 0.8051 - val_prc: 0.3743\n",
      "Epoch 21/80\n",
      "1015/1015 [==============================] - 2s 2ms/step - loss: 0.3347 - binary_accuracy: 0.8608 - tp: 1681.0000 - fp: 1653.0000 - tn: 173014.0000 - fn: 26596.0000 - precision: 0.5042 - recall: 0.0594 - auc: 0.7949 - prc: 0.3579 - val_loss: 0.3288 - val_binary_accuracy: 0.8614 - val_tp: 147.0000 - val_fp: 114.0000 - val_tn: 37002.0000 - val_fn: 5862.0000 - val_precision: 0.5632 - val_recall: 0.0245 - val_auc: 0.8056 - val_prc: 0.3752\n",
      "Epoch 22/80\n",
      "1015/1015 [==============================] - 2s 2ms/step - loss: 0.3343 - binary_accuracy: 0.8610 - tp: 1745.0000 - fp: 1679.0000 - tn: 172988.0000 - fn: 26532.0000 - precision: 0.5096 - recall: 0.0617 - auc: 0.7957 - prc: 0.3605 - val_loss: 0.3286 - val_binary_accuracy: 0.8616 - val_tp: 153.0000 - val_fp: 111.0000 - val_tn: 37005.0000 - val_fn: 5856.0000 - val_precision: 0.5795 - val_recall: 0.0255 - val_auc: 0.8060 - val_prc: 0.3758\n",
      "Epoch 23/80\n",
      "1015/1015 [==============================] - 2s 2ms/step - loss: 0.3337 - binary_accuracy: 0.8609 - tp: 1760.0000 - fp: 1719.0000 - tn: 172948.0000 - fn: 26517.0000 - precision: 0.5059 - recall: 0.0622 - auc: 0.7964 - prc: 0.3627 - val_loss: 0.3284 - val_binary_accuracy: 0.8616 - val_tp: 150.0000 - val_fp: 110.0000 - val_tn: 37006.0000 - val_fn: 5859.0000 - val_precision: 0.5769 - val_recall: 0.0250 - val_auc: 0.8063 - val_prc: 0.3764\n",
      "Epoch 24/80\n",
      "1015/1015 [==============================] - 2s 2ms/step - loss: 0.3334 - binary_accuracy: 0.8607 - tp: 1760.0000 - fp: 1744.0000 - tn: 172923.0000 - fn: 26517.0000 - precision: 0.5023 - recall: 0.0622 - auc: 0.7974 - prc: 0.3614 - val_loss: 0.3282 - val_binary_accuracy: 0.8615 - val_tp: 137.0000 - val_fp: 100.0000 - val_tn: 37016.0000 - val_fn: 5872.0000 - val_precision: 0.5781 - val_recall: 0.0228 - val_auc: 0.8069 - val_prc: 0.3773\n",
      "Epoch 25/80\n",
      "1015/1015 [==============================] - 2s 2ms/step - loss: 0.3333 - binary_accuracy: 0.8608 - tp: 1725.0000 - fp: 1696.0000 - tn: 172971.0000 - fn: 26552.0000 - precision: 0.5042 - recall: 0.0610 - auc: 0.7974 - prc: 0.3606 - val_loss: 0.3280 - val_binary_accuracy: 0.8615 - val_tp: 136.0000 - val_fp: 99.0000 - val_tn: 37017.0000 - val_fn: 5873.0000 - val_precision: 0.5787 - val_recall: 0.0226 - val_auc: 0.8071 - val_prc: 0.3777\n",
      "Epoch 26/80\n",
      "1015/1015 [==============================] - 2s 2ms/step - loss: 0.3330 - binary_accuracy: 0.8607 - tp: 1734.0000 - fp: 1730.0000 - tn: 172937.0000 - fn: 26543.0000 - precision: 0.5006 - recall: 0.0613 - auc: 0.7982 - prc: 0.3636 - val_loss: 0.3277 - val_binary_accuracy: 0.8616 - val_tp: 157.0000 - val_fp: 117.0000 - val_tn: 36999.0000 - val_fn: 5852.0000 - val_precision: 0.5730 - val_recall: 0.0261 - val_auc: 0.8075 - val_prc: 0.3782\n",
      "Epoch 27/80\n",
      "1015/1015 [==============================] - 2s 2ms/step - loss: 0.3327 - binary_accuracy: 0.8613 - tp: 1810.0000 - fp: 1680.0000 - tn: 172987.0000 - fn: 26467.0000 - precision: 0.5186 - recall: 0.0640 - auc: 0.7985 - prc: 0.3639 - val_loss: 0.3275 - val_binary_accuracy: 0.8616 - val_tp: 156.0000 - val_fp: 115.0000 - val_tn: 37001.0000 - val_fn: 5853.0000 - val_precision: 0.5756 - val_recall: 0.0260 - val_auc: 0.8078 - val_prc: 0.3788\n",
      "Epoch 28/80\n",
      "1015/1015 [==============================] - 2s 2ms/step - loss: 0.3323 - binary_accuracy: 0.8614 - tp: 1830.0000 - fp: 1671.0000 - tn: 172996.0000 - fn: 26447.0000 - precision: 0.5227 - recall: 0.0647 - auc: 0.7991 - prc: 0.3662 - val_loss: 0.3272 - val_binary_accuracy: 0.8616 - val_tp: 177.0000 - val_fp: 135.0000 - val_tn: 36981.0000 - val_fn: 5832.0000 - val_precision: 0.5673 - val_recall: 0.0295 - val_auc: 0.8082 - val_prc: 0.3794\n",
      "Epoch 29/80\n",
      "1015/1015 [==============================] - 2s 2ms/step - loss: 0.3319 - binary_accuracy: 0.8613 - tp: 1886.0000 - fp: 1754.0000 - tn: 172913.0000 - fn: 26391.0000 - precision: 0.5181 - recall: 0.0667 - auc: 0.8000 - prc: 0.3660 - val_loss: 0.3271 - val_binary_accuracy: 0.8618 - val_tp: 167.0000 - val_fp: 119.0000 - val_tn: 36997.0000 - val_fn: 5842.0000 - val_precision: 0.5839 - val_recall: 0.0278 - val_auc: 0.8084 - val_prc: 0.3800\n",
      "Epoch 30/80\n",
      "1015/1015 [==============================] - 2s 2ms/step - loss: 0.3319 - binary_accuracy: 0.8614 - tp: 1894.0000 - fp: 1739.0000 - tn: 172928.0000 - fn: 26383.0000 - precision: 0.5213 - recall: 0.0670 - auc: 0.7997 - prc: 0.3661 - val_loss: 0.3269 - val_binary_accuracy: 0.8618 - val_tp: 165.0000 - val_fp: 114.0000 - val_tn: 37002.0000 - val_fn: 5844.0000 - val_precision: 0.5914 - val_recall: 0.0275 - val_auc: 0.8087 - val_prc: 0.3805\n",
      "Epoch 31/80\n",
      "1015/1015 [==============================] - 2s 2ms/step - loss: 0.3318 - binary_accuracy: 0.8613 - tp: 1890.0000 - fp: 1754.0000 - tn: 172913.0000 - fn: 26387.0000 - precision: 0.5187 - recall: 0.0668 - auc: 0.7999 - prc: 0.3666 - val_loss: 0.3268 - val_binary_accuracy: 0.8619 - val_tp: 163.0000 - val_fp: 111.0000 - val_tn: 37005.0000 - val_fn: 5846.0000 - val_precision: 0.5949 - val_recall: 0.0271 - val_auc: 0.8090 - val_prc: 0.3809\n",
      "Epoch 32/80\n",
      "1015/1015 [==============================] - 2s 2ms/step - loss: 0.3314 - binary_accuracy: 0.8609 - tp: 1823.0000 - fp: 1784.0000 - tn: 172883.0000 - fn: 26454.0000 - precision: 0.5054 - recall: 0.0645 - auc: 0.8011 - prc: 0.3657 - val_loss: 0.3265 - val_binary_accuracy: 0.8619 - val_tp: 175.0000 - val_fp: 123.0000 - val_tn: 36993.0000 - val_fn: 5834.0000 - val_precision: 0.5872 - val_recall: 0.0291 - val_auc: 0.8093 - val_prc: 0.3815\n",
      "Epoch 33/80\n",
      "1015/1015 [==============================] - 2s 2ms/step - loss: 0.3311 - binary_accuracy: 0.8613 - tp: 1926.0000 - fp: 1802.0000 - tn: 172865.0000 - fn: 26351.0000 - precision: 0.5166 - recall: 0.0681 - auc: 0.8011 - prc: 0.3686 - val_loss: 0.3265 - val_binary_accuracy: 0.8618 - val_tp: 158.0000 - val_fp: 107.0000 - val_tn: 37009.0000 - val_fn: 5851.0000 - val_precision: 0.5962 - val_recall: 0.0263 - val_auc: 0.8095 - val_prc: 0.3819\n",
      "Epoch 34/80\n",
      "1015/1015 [==============================] - 2s 2ms/step - loss: 0.3310 - binary_accuracy: 0.8616 - tp: 1930.0000 - fp: 1740.0000 - tn: 172927.0000 - fn: 26347.0000 - precision: 0.5259 - recall: 0.0683 - auc: 0.8014 - prc: 0.3694 - val_loss: 0.3263 - val_binary_accuracy: 0.8619 - val_tp: 167.0000 - val_fp: 115.0000 - val_tn: 37001.0000 - val_fn: 5842.0000 - val_precision: 0.5922 - val_recall: 0.0278 - val_auc: 0.8098 - val_prc: 0.3826\n",
      "Epoch 35/80\n",
      "1015/1015 [==============================] - 2s 2ms/step - loss: 0.3305 - binary_accuracy: 0.8613 - tp: 1914.0000 - fp: 1784.0000 - tn: 172883.0000 - fn: 26363.0000 - precision: 0.5176 - recall: 0.0677 - auc: 0.8022 - prc: 0.3701 - val_loss: 0.3261 - val_binary_accuracy: 0.8618 - val_tp: 172.0000 - val_fp: 122.0000 - val_tn: 36994.0000 - val_fn: 5837.0000 - val_precision: 0.5850 - val_recall: 0.0286 - val_auc: 0.8101 - val_prc: 0.3829\n",
      "Epoch 36/80\n",
      "1015/1015 [==============================] - 2s 2ms/step - loss: 0.3307 - binary_accuracy: 0.8615 - tp: 1939.0000 - fp: 1777.0000 - tn: 172890.0000 - fn: 26338.0000 - precision: 0.5218 - recall: 0.0686 - auc: 0.8020 - prc: 0.3687 - val_loss: 0.3260 - val_binary_accuracy: 0.8619 - val_tp: 163.0000 - val_fp: 110.0000 - val_tn: 37006.0000 - val_fn: 5846.0000 - val_precision: 0.5971 - val_recall: 0.0271 - val_auc: 0.8104 - val_prc: 0.3837\n",
      "Epoch 37/80\n",
      "1015/1015 [==============================] - 2s 2ms/step - loss: 0.3304 - binary_accuracy: 0.8615 - tp: 1917.0000 - fp: 1739.0000 - tn: 172928.0000 - fn: 26360.0000 - precision: 0.5243 - recall: 0.0678 - auc: 0.8026 - prc: 0.3691 - val_loss: 0.3258 - val_binary_accuracy: 0.8620 - val_tp: 181.0000 - val_fp: 125.0000 - val_tn: 36991.0000 - val_fn: 5828.0000 - val_precision: 0.5915 - val_recall: 0.0301 - val_auc: 0.8106 - val_prc: 0.3837\n",
      "Epoch 38/80\n",
      "1015/1015 [==============================] - 2s 2ms/step - loss: 0.3303 - binary_accuracy: 0.8611 - tp: 1938.0000 - fp: 1844.0000 - tn: 172823.0000 - fn: 26339.0000 - precision: 0.5124 - recall: 0.0685 - auc: 0.8029 - prc: 0.3691 - val_loss: 0.3257 - val_binary_accuracy: 0.8618 - val_tp: 169.0000 - val_fp: 118.0000 - val_tn: 36998.0000 - val_fn: 5840.0000 - val_precision: 0.5889 - val_recall: 0.0281 - val_auc: 0.8108 - val_prc: 0.3842\n",
      "Epoch 39/80\n",
      "1015/1015 [==============================] - 2s 2ms/step - loss: 0.3300 - binary_accuracy: 0.8616 - tp: 1980.0000 - fp: 1790.0000 - tn: 172877.0000 - fn: 26297.0000 - precision: 0.5252 - recall: 0.0700 - auc: 0.8029 - prc: 0.3720 - val_loss: 0.3256 - val_binary_accuracy: 0.8619 - val_tp: 169.0000 - val_fp: 116.0000 - val_tn: 37000.0000 - val_fn: 5840.0000 - val_precision: 0.5930 - val_recall: 0.0281 - val_auc: 0.8110 - val_prc: 0.3847\n",
      "Epoch 40/80\n",
      "1015/1015 [==============================] - 2s 2ms/step - loss: 0.3297 - binary_accuracy: 0.8614 - tp: 1989.0000 - fp: 1835.0000 - tn: 172832.0000 - fn: 26288.0000 - precision: 0.5201 - recall: 0.0703 - auc: 0.8036 - prc: 0.3719 - val_loss: 0.3254 - val_binary_accuracy: 0.8620 - val_tp: 190.0000 - val_fp: 131.0000 - val_tn: 36985.0000 - val_fn: 5819.0000 - val_precision: 0.5919 - val_recall: 0.0316 - val_auc: 0.8112 - val_prc: 0.3851\n",
      "Epoch 41/80\n",
      "1015/1015 [==============================] - 2s 2ms/step - loss: 0.3297 - binary_accuracy: 0.8612 - tp: 1949.0000 - fp: 1845.0000 - tn: 172822.0000 - fn: 26328.0000 - precision: 0.5137 - recall: 0.0689 - auc: 0.8039 - prc: 0.3705 - val_loss: 0.3253 - val_binary_accuracy: 0.8620 - val_tp: 176.0000 - val_fp: 118.0000 - val_tn: 36998.0000 - val_fn: 5833.0000 - val_precision: 0.5986 - val_recall: 0.0293 - val_auc: 0.8113 - val_prc: 0.3856\n",
      "Epoch 42/80\n",
      "1015/1015 [==============================] - 2s 2ms/step - loss: 0.3292 - binary_accuracy: 0.8619 - tp: 2058.0000 - fp: 1800.0000 - tn: 172867.0000 - fn: 26219.0000 - precision: 0.5334 - recall: 0.0728 - auc: 0.8045 - prc: 0.3747 - val_loss: 0.3251 - val_binary_accuracy: 0.8621 - val_tp: 190.0000 - val_fp: 129.0000 - val_tn: 36987.0000 - val_fn: 5819.0000 - val_precision: 0.5956 - val_recall: 0.0316 - val_auc: 0.8117 - val_prc: 0.3860\n",
      "Epoch 43/80\n",
      "1015/1015 [==============================] - 2s 2ms/step - loss: 0.3288 - binary_accuracy: 0.8617 - tp: 2088.0000 - fp: 1883.0000 - tn: 172784.0000 - fn: 26189.0000 - precision: 0.5258 - recall: 0.0738 - auc: 0.8049 - prc: 0.3754 - val_loss: 0.3251 - val_binary_accuracy: 0.8621 - val_tp: 181.0000 - val_fp: 118.0000 - val_tn: 36998.0000 - val_fn: 5828.0000 - val_precision: 0.6054 - val_recall: 0.0301 - val_auc: 0.8117 - val_prc: 0.3865\n",
      "Epoch 44/80\n",
      "1015/1015 [==============================] - 2s 2ms/step - loss: 0.3289 - binary_accuracy: 0.8615 - tp: 2008.0000 - fp: 1837.0000 - tn: 172830.0000 - fn: 26269.0000 - precision: 0.5222 - recall: 0.0710 - auc: 0.8050 - prc: 0.3749 - val_loss: 0.3249 - val_binary_accuracy: 0.8621 - val_tp: 204.0000 - val_fp: 140.0000 - val_tn: 36976.0000 - val_fn: 5805.0000 - val_precision: 0.5930 - val_recall: 0.0339 - val_auc: 0.8120 - val_prc: 0.3869\n",
      "Epoch 45/80\n",
      "1015/1015 [==============================] - 2s 2ms/step - loss: 0.3293 - binary_accuracy: 0.8615 - tp: 2062.0000 - fp: 1893.0000 - tn: 172774.0000 - fn: 26215.0000 - precision: 0.5214 - recall: 0.0729 - auc: 0.8043 - prc: 0.3729 - val_loss: 0.3249 - val_binary_accuracy: 0.8623 - val_tp: 187.0000 - val_fp: 118.0000 - val_tn: 36998.0000 - val_fn: 5822.0000 - val_precision: 0.6131 - val_recall: 0.0311 - val_auc: 0.8122 - val_prc: 0.3872\n",
      "Epoch 46/80\n",
      "1015/1015 [==============================] - 2s 2ms/step - loss: 0.3289 - binary_accuracy: 0.8615 - tp: 2049.0000 - fp: 1887.0000 - tn: 172780.0000 - fn: 26228.0000 - precision: 0.5206 - recall: 0.0725 - auc: 0.8052 - prc: 0.3733 - val_loss: 0.3247 - val_binary_accuracy: 0.8622 - val_tp: 188.0000 - val_fp: 122.0000 - val_tn: 36994.0000 - val_fn: 5821.0000 - val_precision: 0.6065 - val_recall: 0.0313 - val_auc: 0.8124 - val_prc: 0.3875\n",
      "Epoch 47/80\n",
      "1015/1015 [==============================] - 2s 2ms/step - loss: 0.3290 - binary_accuracy: 0.8613 - tp: 2051.0000 - fp: 1926.0000 - tn: 172741.0000 - fn: 26226.0000 - precision: 0.5157 - recall: 0.0725 - auc: 0.8051 - prc: 0.3733 - val_loss: 0.3246 - val_binary_accuracy: 0.8623 - val_tp: 188.0000 - val_fp: 118.0000 - val_tn: 36998.0000 - val_fn: 5821.0000 - val_precision: 0.6144 - val_recall: 0.0313 - val_auc: 0.8126 - val_prc: 0.3878\n",
      "Epoch 48/80\n",
      "1015/1015 [==============================] - 2s 2ms/step - loss: 0.3288 - binary_accuracy: 0.8616 - tp: 2014.0000 - fp: 1824.0000 - tn: 172843.0000 - fn: 26263.0000 - precision: 0.5248 - recall: 0.0712 - auc: 0.8052 - prc: 0.3733 - val_loss: 0.3245 - val_binary_accuracy: 0.8623 - val_tp: 193.0000 - val_fp: 123.0000 - val_tn: 36993.0000 - val_fn: 5816.0000 - val_precision: 0.6108 - val_recall: 0.0321 - val_auc: 0.8127 - val_prc: 0.3884\n",
      "Epoch 49/80\n",
      "1015/1015 [==============================] - 2s 2ms/step - loss: 0.3284 - binary_accuracy: 0.8619 - tp: 2176.0000 - fp: 1930.0000 - tn: 172737.0000 - fn: 26101.0000 - precision: 0.5300 - recall: 0.0770 - auc: 0.8059 - prc: 0.3771 - val_loss: 0.3244 - val_binary_accuracy: 0.8624 - val_tp: 189.0000 - val_fp: 115.0000 - val_tn: 37001.0000 - val_fn: 5820.0000 - val_precision: 0.6217 - val_recall: 0.0315 - val_auc: 0.8128 - val_prc: 0.3887\n",
      "Epoch 50/80\n",
      "1015/1015 [==============================] - 2s 2ms/step - loss: 0.3289 - binary_accuracy: 0.8614 - tp: 2076.0000 - fp: 1920.0000 - tn: 172747.0000 - fn: 26201.0000 - precision: 0.5195 - recall: 0.0734 - auc: 0.8053 - prc: 0.3733 - val_loss: 0.3244 - val_binary_accuracy: 0.8624 - val_tp: 187.0000 - val_fp: 114.0000 - val_tn: 37002.0000 - val_fn: 5822.0000 - val_precision: 0.6213 - val_recall: 0.0311 - val_auc: 0.8130 - val_prc: 0.3889\n",
      "Epoch 51/80\n",
      "1015/1015 [==============================] - 2s 2ms/step - loss: 0.3280 - binary_accuracy: 0.8612 - tp: 2039.0000 - fp: 1938.0000 - tn: 172729.0000 - fn: 26238.0000 - precision: 0.5127 - recall: 0.0721 - auc: 0.8068 - prc: 0.3753 - val_loss: 0.3242 - val_binary_accuracy: 0.8624 - val_tp: 196.0000 - val_fp: 123.0000 - val_tn: 36993.0000 - val_fn: 5813.0000 - val_precision: 0.6144 - val_recall: 0.0326 - val_auc: 0.8131 - val_prc: 0.3893\n",
      "Epoch 52/80\n",
      "1015/1015 [==============================] - 2s 2ms/step - loss: 0.3282 - binary_accuracy: 0.8616 - tp: 2124.0000 - fp: 1927.0000 - tn: 172740.0000 - fn: 26153.0000 - precision: 0.5243 - recall: 0.0751 - auc: 0.8061 - prc: 0.3756 - val_loss: 0.3242 - val_binary_accuracy: 0.8624 - val_tp: 196.0000 - val_fp: 121.0000 - val_tn: 36995.0000 - val_fn: 5813.0000 - val_precision: 0.6183 - val_recall: 0.0326 - val_auc: 0.8133 - val_prc: 0.3896\n",
      "Epoch 53/80\n",
      "1015/1015 [==============================] - 2s 2ms/step - loss: 0.3284 - binary_accuracy: 0.8615 - tp: 2066.0000 - fp: 1899.0000 - tn: 172768.0000 - fn: 26211.0000 - precision: 0.5211 - recall: 0.0731 - auc: 0.8060 - prc: 0.3741 - val_loss: 0.3242 - val_binary_accuracy: 0.8623 - val_tp: 180.0000 - val_fp: 108.0000 - val_tn: 37008.0000 - val_fn: 5829.0000 - val_precision: 0.6250 - val_recall: 0.0300 - val_auc: 0.8133 - val_prc: 0.3899\n",
      "Epoch 54/80\n",
      "1015/1015 [==============================] - 2s 2ms/step - loss: 0.3278 - binary_accuracy: 0.8614 - tp: 2068.0000 - fp: 1924.0000 - tn: 172743.0000 - fn: 26209.0000 - precision: 0.5180 - recall: 0.0731 - auc: 0.8071 - prc: 0.3764 - val_loss: 0.3240 - val_binary_accuracy: 0.8624 - val_tp: 194.0000 - val_fp: 119.0000 - val_tn: 36997.0000 - val_fn: 5815.0000 - val_precision: 0.6198 - val_recall: 0.0323 - val_auc: 0.8135 - val_prc: 0.3901\n",
      "Epoch 55/80\n",
      "1015/1015 [==============================] - 2s 2ms/step - loss: 0.3275 - binary_accuracy: 0.8616 - tp: 2118.0000 - fp: 1928.0000 - tn: 172739.0000 - fn: 26159.0000 - precision: 0.5235 - recall: 0.0749 - auc: 0.8073 - prc: 0.3788 - val_loss: 0.3238 - val_binary_accuracy: 0.8626 - val_tp: 209.0000 - val_fp: 127.0000 - val_tn: 36989.0000 - val_fn: 5800.0000 - val_precision: 0.6220 - val_recall: 0.0348 - val_auc: 0.8138 - val_prc: 0.3904\n",
      "Epoch 56/80\n",
      "1015/1015 [==============================] - 2s 2ms/step - loss: 0.3280 - binary_accuracy: 0.8615 - tp: 2123.0000 - fp: 1958.0000 - tn: 172709.0000 - fn: 26154.0000 - precision: 0.5202 - recall: 0.0751 - auc: 0.8065 - prc: 0.3769 - val_loss: 0.3238 - val_binary_accuracy: 0.8624 - val_tp: 200.0000 - val_fp: 123.0000 - val_tn: 36993.0000 - val_fn: 5809.0000 - val_precision: 0.6192 - val_recall: 0.0333 - val_auc: 0.8139 - val_prc: 0.3909\n",
      "Epoch 57/80\n",
      "1015/1015 [==============================] - 2s 2ms/step - loss: 0.3281 - binary_accuracy: 0.8618 - tp: 2184.0000 - fp: 1961.0000 - tn: 172706.0000 - fn: 26093.0000 - precision: 0.5269 - recall: 0.0772 - auc: 0.8065 - prc: 0.3759 - val_loss: 0.3238 - val_binary_accuracy: 0.8624 - val_tp: 183.0000 - val_fp: 107.0000 - val_tn: 37009.0000 - val_fn: 5826.0000 - val_precision: 0.6310 - val_recall: 0.0305 - val_auc: 0.8140 - val_prc: 0.3910\n",
      "Epoch 58/80\n",
      "1015/1015 [==============================] - 2s 2ms/step - loss: 0.3276 - binary_accuracy: 0.8620 - tp: 2171.0000 - fp: 1904.0000 - tn: 172763.0000 - fn: 26106.0000 - precision: 0.5328 - recall: 0.0768 - auc: 0.8071 - prc: 0.3793 - val_loss: 0.3237 - val_binary_accuracy: 0.8625 - val_tp: 202.0000 - val_fp: 124.0000 - val_tn: 36992.0000 - val_fn: 5807.0000 - val_precision: 0.6196 - val_recall: 0.0336 - val_auc: 0.8142 - val_prc: 0.3913\n",
      "Epoch 59/80\n",
      "1015/1015 [==============================] - 2s 2ms/step - loss: 0.3273 - binary_accuracy: 0.8618 - tp: 2210.0000 - fp: 1970.0000 - tn: 172697.0000 - fn: 26067.0000 - precision: 0.5287 - recall: 0.0782 - auc: 0.8076 - prc: 0.3792 - val_loss: 0.3236 - val_binary_accuracy: 0.8625 - val_tp: 201.0000 - val_fp: 123.0000 - val_tn: 36993.0000 - val_fn: 5808.0000 - val_precision: 0.6204 - val_recall: 0.0334 - val_auc: 0.8143 - val_prc: 0.3915\n",
      "Epoch 60/80\n",
      "1015/1015 [==============================] - 2s 2ms/step - loss: 0.3266 - binary_accuracy: 0.8622 - tp: 2271.0000 - fp: 1965.0000 - tn: 172702.0000 - fn: 26006.0000 - precision: 0.5361 - recall: 0.0803 - auc: 0.8087 - prc: 0.3826 - val_loss: 0.3235 - val_binary_accuracy: 0.8625 - val_tp: 199.0000 - val_fp: 119.0000 - val_tn: 36997.0000 - val_fn: 5810.0000 - val_precision: 0.6258 - val_recall: 0.0331 - val_auc: 0.8142 - val_prc: 0.3915\n",
      "Epoch 61/80\n",
      "1015/1015 [==============================] - 2s 2ms/step - loss: 0.3271 - binary_accuracy: 0.8620 - tp: 2218.0000 - fp: 1943.0000 - tn: 172724.0000 - fn: 26059.0000 - precision: 0.5330 - recall: 0.0784 - auc: 0.8080 - prc: 0.3821 - val_loss: 0.3234 - val_binary_accuracy: 0.8626 - val_tp: 217.0000 - val_fp: 135.0000 - val_tn: 36981.0000 - val_fn: 5792.0000 - val_precision: 0.6165 - val_recall: 0.0361 - val_auc: 0.8144 - val_prc: 0.3919\n",
      "Epoch 62/80\n",
      "1015/1015 [==============================] - 2s 2ms/step - loss: 0.3275 - binary_accuracy: 0.8617 - tp: 2148.0000 - fp: 1947.0000 - tn: 172720.0000 - fn: 26129.0000 - precision: 0.5245 - recall: 0.0760 - auc: 0.8076 - prc: 0.3770 - val_loss: 0.3234 - val_binary_accuracy: 0.8626 - val_tp: 203.0000 - val_fp: 121.0000 - val_tn: 36995.0000 - val_fn: 5806.0000 - val_precision: 0.6265 - val_recall: 0.0338 - val_auc: 0.8145 - val_prc: 0.3923\n",
      "Epoch 63/80\n",
      "1015/1015 [==============================] - 2s 2ms/step - loss: 0.3272 - binary_accuracy: 0.8616 - tp: 2210.0000 - fp: 2018.0000 - tn: 172649.0000 - fn: 26067.0000 - precision: 0.5227 - recall: 0.0782 - auc: 0.8081 - prc: 0.3782 - val_loss: 0.3234 - val_binary_accuracy: 0.8625 - val_tp: 197.0000 - val_fp: 116.0000 - val_tn: 37000.0000 - val_fn: 5812.0000 - val_precision: 0.6294 - val_recall: 0.0328 - val_auc: 0.8146 - val_prc: 0.3924\n",
      "Epoch 64/80\n",
      "1015/1015 [==============================] - 2s 2ms/step - loss: 0.3269 - binary_accuracy: 0.8617 - tp: 2156.0000 - fp: 1949.0000 - tn: 172718.0000 - fn: 26121.0000 - precision: 0.5252 - recall: 0.0762 - auc: 0.8086 - prc: 0.3783 - val_loss: 0.3232 - val_binary_accuracy: 0.8625 - val_tp: 213.0000 - val_fp: 134.0000 - val_tn: 36982.0000 - val_fn: 5796.0000 - val_precision: 0.6138 - val_recall: 0.0354 - val_auc: 0.8148 - val_prc: 0.3926\n",
      "Epoch 65/80\n",
      "1015/1015 [==============================] - 2s 2ms/step - loss: 0.3266 - binary_accuracy: 0.8617 - tp: 2209.0000 - fp: 2003.0000 - tn: 172664.0000 - fn: 26068.0000 - precision: 0.5245 - recall: 0.0781 - auc: 0.8089 - prc: 0.3799 - val_loss: 0.3231 - val_binary_accuracy: 0.8625 - val_tp: 209.0000 - val_fp: 129.0000 - val_tn: 36987.0000 - val_fn: 5800.0000 - val_precision: 0.6183 - val_recall: 0.0348 - val_auc: 0.8149 - val_prc: 0.3928\n",
      "Epoch 66/80\n",
      "1015/1015 [==============================] - 2s 2ms/step - loss: 0.3267 - binary_accuracy: 0.8618 - tp: 2171.0000 - fp: 1941.0000 - tn: 172726.0000 - fn: 26106.0000 - precision: 0.5280 - recall: 0.0768 - auc: 0.8089 - prc: 0.3802 - val_loss: 0.3230 - val_binary_accuracy: 0.8626 - val_tp: 221.0000 - val_fp: 138.0000 - val_tn: 36978.0000 - val_fn: 5788.0000 - val_precision: 0.6156 - val_recall: 0.0368 - val_auc: 0.8149 - val_prc: 0.3930\n",
      "Epoch 67/80\n",
      "1015/1015 [==============================] - 2s 2ms/step - loss: 0.3265 - binary_accuracy: 0.8621 - tp: 2285.0000 - fp: 1999.0000 - tn: 172668.0000 - fn: 25992.0000 - precision: 0.5334 - recall: 0.0808 - auc: 0.8092 - prc: 0.3805 - val_loss: 0.3230 - val_binary_accuracy: 0.8626 - val_tp: 214.0000 - val_fp: 132.0000 - val_tn: 36984.0000 - val_fn: 5795.0000 - val_precision: 0.6185 - val_recall: 0.0356 - val_auc: 0.8151 - val_prc: 0.3933\n",
      "Epoch 68/80\n",
      "1015/1015 [==============================] - 2s 2ms/step - loss: 0.3268 - binary_accuracy: 0.8622 - tp: 2303.0000 - fp: 2001.0000 - tn: 172666.0000 - fn: 25974.0000 - precision: 0.5351 - recall: 0.0814 - auc: 0.8085 - prc: 0.3820 - val_loss: 0.3229 - val_binary_accuracy: 0.8627 - val_tp: 219.0000 - val_fp: 133.0000 - val_tn: 36983.0000 - val_fn: 5790.0000 - val_precision: 0.6222 - val_recall: 0.0364 - val_auc: 0.8152 - val_prc: 0.3935\n",
      "Epoch 69/80\n",
      "1015/1015 [==============================] - 2s 2ms/step - loss: 0.3267 - binary_accuracy: 0.8621 - tp: 2281.0000 - fp: 1992.0000 - tn: 172675.0000 - fn: 25996.0000 - precision: 0.5338 - recall: 0.0807 - auc: 0.8089 - prc: 0.3810 - val_loss: 0.3229 - val_binary_accuracy: 0.8625 - val_tp: 204.0000 - val_fp: 123.0000 - val_tn: 36993.0000 - val_fn: 5805.0000 - val_precision: 0.6239 - val_recall: 0.0339 - val_auc: 0.8153 - val_prc: 0.3937\n",
      "Epoch 70/80\n",
      "1015/1015 [==============================] - 2s 2ms/step - loss: 0.3273 - binary_accuracy: 0.8620 - tp: 2181.0000 - fp: 1904.0000 - tn: 172763.0000 - fn: 26096.0000 - precision: 0.5339 - recall: 0.0771 - auc: 0.8079 - prc: 0.3783 - val_loss: 0.3228 - val_binary_accuracy: 0.8626 - val_tp: 216.0000 - val_fp: 133.0000 - val_tn: 36983.0000 - val_fn: 5793.0000 - val_precision: 0.6189 - val_recall: 0.0359 - val_auc: 0.8154 - val_prc: 0.3939\n",
      "Epoch 71/80\n",
      "1015/1015 [==============================] - 2s 2ms/step - loss: 0.3264 - binary_accuracy: 0.8619 - tp: 2295.0000 - fp: 2039.0000 - tn: 172628.0000 - fn: 25982.0000 - precision: 0.5295 - recall: 0.0812 - auc: 0.8093 - prc: 0.3811 - val_loss: 0.3228 - val_binary_accuracy: 0.8626 - val_tp: 213.0000 - val_fp: 128.0000 - val_tn: 36988.0000 - val_fn: 5796.0000 - val_precision: 0.6246 - val_recall: 0.0354 - val_auc: 0.8154 - val_prc: 0.3940\n",
      "Epoch 72/80\n",
      "1015/1015 [==============================] - 2s 2ms/step - loss: 0.3265 - binary_accuracy: 0.8620 - tp: 2244.0000 - fp: 1972.0000 - tn: 172695.0000 - fn: 26033.0000 - precision: 0.5323 - recall: 0.0794 - auc: 0.8089 - prc: 0.3820 - val_loss: 0.3228 - val_binary_accuracy: 0.8627 - val_tp: 214.0000 - val_fp: 126.0000 - val_tn: 36990.0000 - val_fn: 5795.0000 - val_precision: 0.6294 - val_recall: 0.0356 - val_auc: 0.8156 - val_prc: 0.3943\n",
      "Epoch 73/80\n",
      "1015/1015 [==============================] - 2s 2ms/step - loss: 0.3265 - binary_accuracy: 0.8619 - tp: 2287.0000 - fp: 2035.0000 - tn: 172632.0000 - fn: 25990.0000 - precision: 0.5292 - recall: 0.0809 - auc: 0.8092 - prc: 0.3818 - val_loss: 0.3227 - val_binary_accuracy: 0.8627 - val_tp: 222.0000 - val_fp: 136.0000 - val_tn: 36980.0000 - val_fn: 5787.0000 - val_precision: 0.6201 - val_recall: 0.0369 - val_auc: 0.8156 - val_prc: 0.3942\n",
      "Epoch 74/80\n",
      "1015/1015 [==============================] - 2s 2ms/step - loss: 0.3263 - binary_accuracy: 0.8622 - tp: 2283.0000 - fp: 1978.0000 - tn: 172689.0000 - fn: 25994.0000 - precision: 0.5358 - recall: 0.0807 - auc: 0.8093 - prc: 0.3820 - val_loss: 0.3226 - val_binary_accuracy: 0.8627 - val_tp: 229.0000 - val_fp: 141.0000 - val_tn: 36975.0000 - val_fn: 5780.0000 - val_precision: 0.6189 - val_recall: 0.0381 - val_auc: 0.8157 - val_prc: 0.3944\n",
      "Epoch 75/80\n",
      "1015/1015 [==============================] - 2s 2ms/step - loss: 0.3261 - binary_accuracy: 0.8623 - tp: 2281.0000 - fp: 1953.0000 - tn: 172714.0000 - fn: 25996.0000 - precision: 0.5387 - recall: 0.0807 - auc: 0.8098 - prc: 0.3828 - val_loss: 0.3225 - val_binary_accuracy: 0.8630 - val_tp: 249.0000 - val_fp: 149.0000 - val_tn: 36967.0000 - val_fn: 5760.0000 - val_precision: 0.6256 - val_recall: 0.0414 - val_auc: 0.8159 - val_prc: 0.3947\n",
      "Epoch 76/80\n",
      "1015/1015 [==============================] - 2s 2ms/step - loss: 0.3263 - binary_accuracy: 0.8618 - tp: 2335.0000 - fp: 2095.0000 - tn: 172572.0000 - fn: 25942.0000 - precision: 0.5271 - recall: 0.0826 - auc: 0.8096 - prc: 0.3819 - val_loss: 0.3226 - val_binary_accuracy: 0.8628 - val_tp: 224.0000 - val_fp: 132.0000 - val_tn: 36984.0000 - val_fn: 5785.0000 - val_precision: 0.6292 - val_recall: 0.0373 - val_auc: 0.8159 - val_prc: 0.3950\n",
      "Epoch 77/80\n",
      "1015/1015 [==============================] - 2s 2ms/step - loss: 0.3264 - binary_accuracy: 0.8622 - tp: 2325.0000 - fp: 2014.0000 - tn: 172653.0000 - fn: 25952.0000 - precision: 0.5358 - recall: 0.0822 - auc: 0.8093 - prc: 0.3827 - val_loss: 0.3225 - val_binary_accuracy: 0.8627 - val_tp: 228.0000 - val_fp: 139.0000 - val_tn: 36977.0000 - val_fn: 5781.0000 - val_precision: 0.6213 - val_recall: 0.0379 - val_auc: 0.8160 - val_prc: 0.3951\n",
      "Epoch 78/80\n",
      "1015/1015 [==============================] - 2s 2ms/step - loss: 0.3263 - binary_accuracy: 0.8622 - tp: 2257.0000 - fp: 1951.0000 - tn: 172716.0000 - fn: 26020.0000 - precision: 0.5364 - recall: 0.0798 - auc: 0.8096 - prc: 0.3821 - val_loss: 0.3225 - val_binary_accuracy: 0.8627 - val_tp: 223.0000 - val_fp: 133.0000 - val_tn: 36983.0000 - val_fn: 5786.0000 - val_precision: 0.6264 - val_recall: 0.0371 - val_auc: 0.8160 - val_prc: 0.3953\n",
      "Epoch 79/80\n",
      "1015/1015 [==============================] - 2s 2ms/step - loss: 0.3255 - binary_accuracy: 0.8624 - tp: 2375.0000 - fp: 2015.0000 - tn: 172652.0000 - fn: 25902.0000 - precision: 0.5410 - recall: 0.0840 - auc: 0.8105 - prc: 0.3860 - val_loss: 0.3223 - val_binary_accuracy: 0.8627 - val_tp: 230.0000 - val_fp: 142.0000 - val_tn: 36974.0000 - val_fn: 5779.0000 - val_precision: 0.6183 - val_recall: 0.0383 - val_auc: 0.8162 - val_prc: 0.3954\n",
      "Epoch 80/80\n",
      "1015/1015 [==============================] - 2s 2ms/step - loss: 0.3255 - binary_accuracy: 0.8624 - tp: 2325.0000 - fp: 1967.0000 - tn: 172700.0000 - fn: 25952.0000 - precision: 0.5417 - recall: 0.0822 - auc: 0.8107 - prc: 0.3858 - val_loss: 0.3222 - val_binary_accuracy: 0.8627 - val_tp: 242.0000 - val_fp: 152.0000 - val_tn: 36964.0000 - val_fn: 5767.0000 - val_precision: 0.6142 - val_recall: 0.0403 - val_auc: 0.8163 - val_prc: 0.3955\n"
     ]
    }
   ],
   "source": [
    "history_unbalanced =  model_unbalanced.fit(train_features, train_labels, batch_size=BATCH_SIZE, epochs=EPOCHS, validation_data=(val_features, val_labels),callbacks=[early_stopping])\n"
   ]
  },
  {
   "cell_type": "code",
   "execution_count": null,
   "metadata": {
    "colab": {
     "base_uri": "https://localhost:8080/",
     "height": 893
    },
    "id": "W8nLnmD8YBHX",
    "outputId": "b0a23296-a775-480e-b5f7-a24f007b7884"
   },
   "outputs": [
    {
     "data": {
      "image/png": "[encoded data removed]",
      "text/plain": [
       "<Figure size 1080x1080 with 4 Axes>"
      ]
     },
     "metadata": {
      "needs_background": "light"
     },
     "output_type": "display_data"
    }
   ],
   "source": [
    "plot_metrics(history_unbalanced)\n"
   ]
  },
  {
   "cell_type": "code",
   "execution_count": null,
   "metadata": {
    "id": "qC1VE5GQh7dE"
   },
   "outputs": [],
   "source": [
    "test_predictions = model_unbalanced.predict(test_features, batch_size=BATCH_SIZE)\n",
    "train_predictions = model_unbalanced.predict(train_features, batch_size=BATCH_SIZE)"
   ]
  },
  {
   "cell_type": "markdown",
   "metadata": {
    "id": "C7tUWtq4rI9M"
   },
   "source": [
    "When valus is greater than 0.5 then 1, otherwise 0"
   ]
  },
  {
   "cell_type": "code",
   "execution_count": null,
   "metadata": {
    "id": "uo_igYTj-4M8"
   },
   "outputs": [],
   "source": [
    "test_predictions=np.where(test_predictions >= 0.5, 1,0)\n",
    "train_predictions=np.where(train_predictions >= 0.5, 1,0)"
   ]
  },
  {
   "cell_type": "code",
   "execution_count": null,
   "metadata": {
    "colab": {
     "base_uri": "https://localhost:8080/"
    },
    "id": "JZa9-8Ejongt",
    "outputId": "074555b9-b8c0-4af2-eb5c-d44e46ea9035"
   },
   "outputs": [
    {
     "name": "stdout",
     "output_type": "stream",
     "text": [
      "[[6527   24]\n",
      " [1014   46]]\n"
     ]
    }
   ],
   "source": [
    "print(sklearn.metrics.confusion_matrix(test_labels, test_predictions))"
   ]
  },
  {
   "cell_type": "markdown",
   "metadata": {
    "id": "KmCGWGJDrWvQ"
   },
   "source": [
    "Confusion Matrix"
   ]
  },
  {
   "cell_type": "code",
   "execution_count": null,
   "metadata": {
    "colab": {
     "base_uri": "https://localhost:8080/",
     "height": 350
    },
    "id": "teygTLe7q-Ho",
    "outputId": "2814b83c-a551-4f0c-cdf0-9ce587c8f2b0"
   },
   "outputs": [
    {
     "data": {
      "image/png": "[encoded data removed]",
      "text/plain": [
       "<Figure size 360x360 with 2 Axes>"
      ]
     },
     "metadata": {
      "needs_background": "light"
     },
     "output_type": "display_data"
    }
   ],
   "source": [
    "plot_cm(test_labels, test_predictions)"
   ]
  },
  {
   "cell_type": "code",
   "execution_count": null,
   "metadata": {
    "colab": {
     "base_uri": "https://localhost:8080/"
    },
    "id": "ZBPtabilvglZ",
    "outputId": "e6daa57f-8d81-40da-b033-920a54f0ed95"
   },
   "outputs": [
    {
     "name": "stdout",
     "output_type": "stream",
     "text": [
      "loss :  0.32375025749206543\n",
      "binary_accuracy :  0.8636184334754944\n",
      "tp :  46.0\n",
      "fp :  24.0\n",
      "tn :  6527.0\n",
      "fn :  1014.0\n",
      "precision :  0.6571428775787354\n",
      "recall :  0.043396227061748505\n",
      "auc :  0.8138353824615479\n",
      "prc :  0.40565288066864014\n",
      "\n"
     ]
    }
   ],
   "source": [
    "test_results = model_unbalanced.evaluate(test_features, test_labels,\n",
    "                                  batch_size=BATCH_SIZE, verbose=0)\n",
    "for name, value in zip(model_unbalanced.metrics_names, test_results):\n",
    "  print(name, ': ', value)\n",
    "print()\n"
   ]
  },
  {
   "cell_type": "markdown",
   "metadata": {
    "id": "v0AN2D7or9ZA"
   },
   "source": [
    "## Training of the balanced training set"
   ]
  },
  {
   "cell_type": "code",
   "execution_count": null,
   "metadata": {
    "colab": {
     "base_uri": "https://localhost:8080/"
    },
    "id": "9iZnG5fqsQmE",
    "outputId": "8ab91d9a-ec66-4c27-dc46-95f9db977f0a"
   },
   "outputs": [
    {
     "name": "stdout",
     "output_type": "stream",
     "text": [
      "Model: \"model_3\"\n",
      "_________________________________________________________________\n",
      " Layer (type)                Output Shape              Param #   \n",
      "=================================================================\n",
      " input_4 (InputLayer)        [(None, 21)]              0         \n",
      "                                                                 \n",
      " dense_9 (Dense)             (None, 32)                704       \n",
      "                                                                 \n",
      " dropout_6 (Dropout)         (None, 32)                0         \n",
      "                                                                 \n",
      " dense_10 (Dense)            (None, 64)                2112      \n",
      "                                                                 \n",
      " dropout_7 (Dropout)         (None, 64)                0         \n",
      "                                                                 \n",
      " dense_11 (Dense)            (None, 1)                 65        \n",
      "                                                                 \n",
      "=================================================================\n",
      "Total params: 2,881\n",
      "Trainable params: 2,881\n",
      "Non-trainable params: 0\n",
      "_________________________________________________________________\n"
     ]
    }
   ],
   "source": [
    "model_balanced = MyModel(X_train_oversampled.shape[-1],metrics_list,output_bias=-0.2)\n",
    "model_balanced.summary()"
   ]
  },
  {
   "cell_type": "code",
   "execution_count": null,
   "metadata": {
    "colab": {
     "base_uri": "https://localhost:8080/"
    },
    "id": "xeUmwn9yselo",
    "outputId": "3ae74f50-4d70-46e5-8e60-16104362f24f"
   },
   "outputs": [
    {
     "name": "stdout",
     "output_type": "stream",
     "text": [
      "Epoch 1/80\n",
      "1439/1439 [==============================] - 6s 3ms/step - loss: 0.6395 - binary_accuracy: 0.6429 - tp: 38714.0000 - fp: 30015.0000 - tn: 151203.0000 - fn: 75454.0000 - precision: 0.5633 - recall: 0.3391 - auc: 0.6557 - prc: 0.5348 - val_loss: 0.5080 - val_binary_accuracy: 0.7878 - val_tp: 3065.0000 - val_fp: 6209.0000 - val_tn: 30907.0000 - val_fn: 2944.0000 - val_precision: 0.3305 - val_recall: 0.5101 - val_auc: 0.7685 - val_prc: 0.3375\n",
      "Epoch 2/80\n",
      "1439/1439 [==============================] - 3s 2ms/step - loss: 0.5807 - binary_accuracy: 0.6962 - tp: 59543.0000 - fp: 33859.0000 - tn: 140808.0000 - fn: 53565.0000 - precision: 0.6375 - recall: 0.5264 - auc: 0.7469 - prc: 0.6311 - val_loss: 0.4834 - val_binary_accuracy: 0.7615 - val_tp: 3795.0000 - val_fp: 8070.0000 - val_tn: 29046.0000 - val_fn: 2214.0000 - val_precision: 0.3198 - val_recall: 0.6316 - val_auc: 0.7856 - val_prc: 0.3546\n",
      "Epoch 3/80\n",
      "1439/1439 [==============================] - 3s 2ms/step - loss: 0.5600 - binary_accuracy: 0.7105 - tp: 66090.0000 - fp: 36303.0000 - tn: 138364.0000 - fn: 47018.0000 - precision: 0.6455 - recall: 0.5843 - auc: 0.7693 - prc: 0.6508 - val_loss: 0.4704 - val_binary_accuracy: 0.7526 - val_tp: 4005.0000 - val_fp: 8663.0000 - val_tn: 28453.0000 - val_fn: 2004.0000 - val_precision: 0.3162 - val_recall: 0.6665 - val_auc: 0.7926 - val_prc: 0.3606\n",
      "Epoch 4/80\n",
      "1439/1439 [==============================] - 3s 2ms/step - loss: 0.5507 - binary_accuracy: 0.7159 - tp: 68817.0000 - fp: 37459.0000 - tn: 137208.0000 - fn: 44291.0000 - precision: 0.6475 - recall: 0.6084 - auc: 0.7780 - prc: 0.6585 - val_loss: 0.4650 - val_binary_accuracy: 0.7484 - val_tp: 4107.0000 - val_fp: 8950.0000 - val_tn: 28166.0000 - val_fn: 1902.0000 - val_precision: 0.3145 - val_recall: 0.6835 - val_auc: 0.7965 - val_prc: 0.3635\n",
      "Epoch 5/80\n",
      "1439/1439 [==============================] - 3s 2ms/step - loss: 0.5445 - binary_accuracy: 0.7191 - tp: 70710.0000 - fp: 38434.0000 - tn: 136233.0000 - fn: 42398.0000 - precision: 0.6479 - recall: 0.6252 - auc: 0.7836 - prc: 0.6640 - val_loss: 0.4575 - val_binary_accuracy: 0.7511 - val_tp: 4113.0000 - val_fp: 8839.0000 - val_tn: 28277.0000 - val_fn: 1896.0000 - val_precision: 0.3176 - val_recall: 0.6845 - val_auc: 0.7992 - val_prc: 0.3661\n",
      "Epoch 6/80\n",
      "1439/1439 [==============================] - 3s 2ms/step - loss: 0.5400 - binary_accuracy: 0.7223 - tp: 71969.0000 - fp: 38790.0000 - tn: 135877.0000 - fn: 41139.0000 - precision: 0.6498 - recall: 0.6363 - auc: 0.7878 - prc: 0.6683 - val_loss: 0.4562 - val_binary_accuracy: 0.7494 - val_tp: 4147.0000 - val_fp: 8947.0000 - val_tn: 28169.0000 - val_fn: 1862.0000 - val_precision: 0.3167 - val_recall: 0.6901 - val_auc: 0.8017 - val_prc: 0.3682\n",
      "Epoch 7/80\n",
      "1439/1439 [==============================] - 3s 2ms/step - loss: 0.5357 - binary_accuracy: 0.7243 - tp: 72692.0000 - fp: 38913.0000 - tn: 135754.0000 - fn: 40416.0000 - precision: 0.6513 - recall: 0.6427 - auc: 0.7914 - prc: 0.6720 - val_loss: 0.4511 - val_binary_accuracy: 0.7530 - val_tp: 4126.0000 - val_fp: 8767.0000 - val_tn: 28349.0000 - val_fn: 1883.0000 - val_precision: 0.3200 - val_recall: 0.6866 - val_auc: 0.8035 - val_prc: 0.3702\n",
      "Epoch 8/80\n",
      "1439/1439 [==============================] - 3s 2ms/step - loss: 0.5321 - binary_accuracy: 0.7263 - tp: 73329.0000 - fp: 38985.0000 - tn: 135682.0000 - fn: 39779.0000 - precision: 0.6529 - recall: 0.6483 - auc: 0.7945 - prc: 0.6755 - val_loss: 0.4539 - val_binary_accuracy: 0.7490 - val_tp: 4195.0000 - val_fp: 9009.0000 - val_tn: 28107.0000 - val_fn: 1814.0000 - val_precision: 0.3177 - val_recall: 0.6981 - val_auc: 0.8050 - val_prc: 0.3715\n",
      "Epoch 9/80\n",
      "1439/1439 [==============================] - 3s 2ms/step - loss: 0.5297 - binary_accuracy: 0.7284 - tp: 74339.0000 - fp: 39383.0000 - tn: 135284.0000 - fn: 38769.0000 - precision: 0.6537 - recall: 0.6572 - auc: 0.7966 - prc: 0.6767 - val_loss: 0.4505 - val_binary_accuracy: 0.7519 - val_tp: 4179.0000 - val_fp: 8869.0000 - val_tn: 28247.0000 - val_fn: 1830.0000 - val_precision: 0.3203 - val_recall: 0.6955 - val_auc: 0.8061 - val_prc: 0.3727\n",
      "Epoch 10/80\n",
      "1439/1439 [==============================] - 3s 2ms/step - loss: 0.5276 - binary_accuracy: 0.7293 - tp: 74292.0000 - fp: 39073.0000 - tn: 135594.0000 - fn: 38816.0000 - precision: 0.6553 - recall: 0.6568 - auc: 0.7984 - prc: 0.6789 - val_loss: 0.4482 - val_binary_accuracy: 0.7534 - val_tp: 4181.0000 - val_fp: 8807.0000 - val_tn: 28309.0000 - val_fn: 1828.0000 - val_precision: 0.3219 - val_recall: 0.6958 - val_auc: 0.8072 - val_prc: 0.3743\n",
      "Epoch 11/80\n",
      "1439/1439 [==============================] - 3s 2ms/step - loss: 0.5255 - binary_accuracy: 0.7312 - tp: 74952.0000 - fp: 39188.0000 - tn: 135479.0000 - fn: 38156.0000 - precision: 0.6567 - recall: 0.6627 - auc: 0.8002 - prc: 0.6811 - val_loss: 0.4467 - val_binary_accuracy: 0.7543 - val_tp: 4166.0000 - val_fp: 8754.0000 - val_tn: 28362.0000 - val_fn: 1843.0000 - val_precision: 0.3224 - val_recall: 0.6933 - val_auc: 0.8081 - val_prc: 0.3754\n",
      "Epoch 12/80\n",
      "1439/1439 [==============================] - 3s 2ms/step - loss: 0.5239 - binary_accuracy: 0.7313 - tp: 75004.0000 - fp: 39223.0000 - tn: 135444.0000 - fn: 38104.0000 - precision: 0.6566 - recall: 0.6631 - auc: 0.8016 - prc: 0.6824 - val_loss: 0.4447 - val_binary_accuracy: 0.7557 - val_tp: 4166.0000 - val_fp: 8694.0000 - val_tn: 28422.0000 - val_fn: 1843.0000 - val_precision: 0.3240 - val_recall: 0.6933 - val_auc: 0.8088 - val_prc: 0.3767\n",
      "Epoch 13/80\n",
      "1439/1439 [==============================] - 3s 2ms/step - loss: 0.5218 - binary_accuracy: 0.7326 - tp: 75417.0000 - fp: 39246.0000 - tn: 135421.0000 - fn: 37691.0000 - precision: 0.6577 - recall: 0.6668 - auc: 0.8034 - prc: 0.6845 - val_loss: 0.4486 - val_binary_accuracy: 0.7523 - val_tp: 4220.0000 - val_fp: 8893.0000 - val_tn: 28223.0000 - val_fn: 1789.0000 - val_precision: 0.3218 - val_recall: 0.7023 - val_auc: 0.8095 - val_prc: 0.3779\n",
      "Epoch 14/80\n",
      "1439/1439 [==============================] - 3s 2ms/step - loss: 0.5206 - binary_accuracy: 0.7331 - tp: 75501.0000 - fp: 39204.0000 - tn: 135463.0000 - fn: 37607.0000 - precision: 0.6582 - recall: 0.6675 - auc: 0.8042 - prc: 0.6837 - val_loss: 0.4432 - val_binary_accuracy: 0.7571 - val_tp: 4151.0000 - val_fp: 8615.0000 - val_tn: 28501.0000 - val_fn: 1858.0000 - val_precision: 0.3252 - val_recall: 0.6908 - val_auc: 0.8101 - val_prc: 0.3792\n",
      "Epoch 15/80\n",
      "1439/1439 [==============================] - 3s 2ms/step - loss: 0.5198 - binary_accuracy: 0.7337 - tp: 75654.0000 - fp: 39168.0000 - tn: 135499.0000 - fn: 37454.0000 - precision: 0.6589 - recall: 0.6689 - auc: 0.8049 - prc: 0.6860 - val_loss: 0.4424 - val_binary_accuracy: 0.7584 - val_tp: 4149.0000 - val_fp: 8559.0000 - val_tn: 28557.0000 - val_fn: 1860.0000 - val_precision: 0.3265 - val_recall: 0.6905 - val_auc: 0.8106 - val_prc: 0.3802\n",
      "Epoch 16/80\n",
      "1439/1439 [==============================] - 3s 2ms/step - loss: 0.5182 - binary_accuracy: 0.7340 - tp: 75876.0000 - fp: 39317.0000 - tn: 135350.0000 - fn: 37232.0000 - precision: 0.6587 - recall: 0.6708 - auc: 0.8062 - prc: 0.6887 - val_loss: 0.4386 - val_binary_accuracy: 0.7617 - val_tp: 4097.0000 - val_fp: 8363.0000 - val_tn: 28753.0000 - val_fn: 1912.0000 - val_precision: 0.3288 - val_recall: 0.6818 - val_auc: 0.8110 - val_prc: 0.3813\n",
      "Epoch 17/80\n",
      "1439/1439 [==============================] - 3s 2ms/step - loss: 0.5170 - binary_accuracy: 0.7353 - tp: 75934.0000 - fp: 38994.0000 - tn: 135673.0000 - fn: 37174.0000 - precision: 0.6607 - recall: 0.6713 - auc: 0.8072 - prc: 0.6904 - val_loss: 0.4388 - val_binary_accuracy: 0.7618 - val_tp: 4120.0000 - val_fp: 8384.0000 - val_tn: 28732.0000 - val_fn: 1889.0000 - val_precision: 0.3295 - val_recall: 0.6856 - val_auc: 0.8115 - val_prc: 0.3824\n",
      "Epoch 18/80\n",
      "1439/1439 [==============================] - 3s 2ms/step - loss: 0.5161 - binary_accuracy: 0.7358 - tp: 76075.0000 - fp: 38986.0000 - tn: 135681.0000 - fn: 37033.0000 - precision: 0.6612 - recall: 0.6726 - auc: 0.8082 - prc: 0.6903 - val_loss: 0.4376 - val_binary_accuracy: 0.7623 - val_tp: 4108.0000 - val_fp: 8348.0000 - val_tn: 28768.0000 - val_fn: 1901.0000 - val_precision: 0.3298 - val_recall: 0.6836 - val_auc: 0.8118 - val_prc: 0.3831\n",
      "Epoch 19/80\n",
      "1439/1439 [==============================] - 3s 2ms/step - loss: 0.5151 - binary_accuracy: 0.7365 - tp: 76185.0000 - fp: 38906.0000 - tn: 135761.0000 - fn: 36923.0000 - precision: 0.6620 - recall: 0.6736 - auc: 0.8088 - prc: 0.6910 - val_loss: 0.4386 - val_binary_accuracy: 0.7607 - val_tp: 4121.0000 - val_fp: 8433.0000 - val_tn: 28683.0000 - val_fn: 1888.0000 - val_precision: 0.3283 - val_recall: 0.6858 - val_auc: 0.8123 - val_prc: 0.3841\n",
      "Epoch 20/80\n",
      "1439/1439 [==============================] - 3s 2ms/step - loss: 0.5146 - binary_accuracy: 0.7371 - tp: 76395.0000 - fp: 38929.0000 - tn: 135738.0000 - fn: 36713.0000 - precision: 0.6624 - recall: 0.6754 - auc: 0.8094 - prc: 0.6922 - val_loss: 0.4391 - val_binary_accuracy: 0.7600 - val_tp: 4129.0000 - val_fp: 8470.0000 - val_tn: 28646.0000 - val_fn: 1880.0000 - val_precision: 0.3277 - val_recall: 0.6871 - val_auc: 0.8127 - val_prc: 0.3851\n",
      "Epoch 21/80\n",
      "1439/1439 [==============================] - 3s 2ms/step - loss: 0.5136 - binary_accuracy: 0.7379 - tp: 76694.0000 - fp: 39024.0000 - tn: 135643.0000 - fn: 36414.0000 - precision: 0.6628 - recall: 0.6781 - auc: 0.8101 - prc: 0.6924 - val_loss: 0.4378 - val_binary_accuracy: 0.7610 - val_tp: 4123.0000 - val_fp: 8419.0000 - val_tn: 28697.0000 - val_fn: 1886.0000 - val_precision: 0.3287 - val_recall: 0.6861 - val_auc: 0.8130 - val_prc: 0.3858\n",
      "Epoch 22/80\n",
      "1439/1439 [==============================] - 3s 2ms/step - loss: 0.5131 - binary_accuracy: 0.7384 - tp: 76551.0000 - fp: 38725.0000 - tn: 135942.0000 - fn: 36557.0000 - precision: 0.6641 - recall: 0.6768 - auc: 0.8106 - prc: 0.6924 - val_loss: 0.4388 - val_binary_accuracy: 0.7595 - val_tp: 4143.0000 - val_fp: 8505.0000 - val_tn: 28611.0000 - val_fn: 1866.0000 - val_precision: 0.3276 - val_recall: 0.6895 - val_auc: 0.8133 - val_prc: 0.3865\n",
      "Epoch 23/80\n",
      "1439/1439 [==============================] - 3s 2ms/step - loss: 0.5123 - binary_accuracy: 0.7384 - tp: 76810.0000 - fp: 38997.0000 - tn: 135670.0000 - fn: 36298.0000 - precision: 0.6633 - recall: 0.6791 - auc: 0.8111 - prc: 0.6943 - val_loss: 0.4339 - val_binary_accuracy: 0.7641 - val_tp: 4078.0000 - val_fp: 8242.0000 - val_tn: 28874.0000 - val_fn: 1931.0000 - val_precision: 0.3310 - val_recall: 0.6786 - val_auc: 0.8136 - val_prc: 0.3874\n",
      "Epoch 24/80\n",
      "1439/1439 [==============================] - 3s 2ms/step - loss: 0.5113 - binary_accuracy: 0.7384 - tp: 76834.0000 - fp: 39021.0000 - tn: 135646.0000 - fn: 36274.0000 - precision: 0.6632 - recall: 0.6793 - auc: 0.8119 - prc: 0.6964 - val_loss: 0.4355 - val_binary_accuracy: 0.7625 - val_tp: 4103.0000 - val_fp: 8336.0000 - val_tn: 28780.0000 - val_fn: 1906.0000 - val_precision: 0.3298 - val_recall: 0.6828 - val_auc: 0.8139 - val_prc: 0.3881\n",
      "Epoch 25/80\n",
      "1439/1439 [==============================] - 3s 2ms/step - loss: 0.5112 - binary_accuracy: 0.7388 - tp: 76983.0000 - fp: 39055.0000 - tn: 135612.0000 - fn: 36125.0000 - precision: 0.6634 - recall: 0.6806 - auc: 0.8122 - prc: 0.6961 - val_loss: 0.4333 - val_binary_accuracy: 0.7644 - val_tp: 4079.0000 - val_fp: 8229.0000 - val_tn: 28887.0000 - val_fn: 1930.0000 - val_precision: 0.3314 - val_recall: 0.6788 - val_auc: 0.8142 - val_prc: 0.3885\n",
      "Epoch 26/80\n",
      "1439/1439 [==============================] - 3s 2ms/step - loss: 0.5107 - binary_accuracy: 0.7387 - tp: 76821.0000 - fp: 38921.0000 - tn: 135746.0000 - fn: 36287.0000 - precision: 0.6637 - recall: 0.6792 - auc: 0.8124 - prc: 0.6960 - val_loss: 0.4358 - val_binary_accuracy: 0.7618 - val_tp: 4116.0000 - val_fp: 8380.0000 - val_tn: 28736.0000 - val_fn: 1893.0000 - val_precision: 0.3294 - val_recall: 0.6850 - val_auc: 0.8145 - val_prc: 0.3896\n",
      "Epoch 27/80\n",
      "1439/1439 [==============================] - 3s 2ms/step - loss: 0.5098 - binary_accuracy: 0.7407 - tp: 77341.0000 - fp: 38855.0000 - tn: 135812.0000 - fn: 35767.0000 - precision: 0.6656 - recall: 0.6838 - auc: 0.8134 - prc: 0.6970 - val_loss: 0.4338 - val_binary_accuracy: 0.7641 - val_tp: 4092.0000 - val_fp: 8258.0000 - val_tn: 28858.0000 - val_fn: 1917.0000 - val_precision: 0.3313 - val_recall: 0.6810 - val_auc: 0.8147 - val_prc: 0.3900\n",
      "Epoch 28/80\n",
      "1439/1439 [==============================] - 3s 2ms/step - loss: 0.5090 - binary_accuracy: 0.7402 - tp: 77140.0000 - fp: 38806.0000 - tn: 135861.0000 - fn: 35968.0000 - precision: 0.6653 - recall: 0.6820 - auc: 0.8140 - prc: 0.6984 - val_loss: 0.4354 - val_binary_accuracy: 0.7626 - val_tp: 4119.0000 - val_fp: 8350.0000 - val_tn: 28766.0000 - val_fn: 1890.0000 - val_precision: 0.3303 - val_recall: 0.6855 - val_auc: 0.8150 - val_prc: 0.3909\n",
      "Epoch 29/80\n",
      "1439/1439 [==============================] - 3s 2ms/step - loss: 0.5089 - binary_accuracy: 0.7408 - tp: 77437.0000 - fp: 38932.0000 - tn: 135735.0000 - fn: 35671.0000 - precision: 0.6654 - recall: 0.6846 - auc: 0.8142 - prc: 0.6985 - val_loss: 0.4356 - val_binary_accuracy: 0.7621 - val_tp: 4128.0000 - val_fp: 8377.0000 - val_tn: 28739.0000 - val_fn: 1881.0000 - val_precision: 0.3301 - val_recall: 0.6870 - val_auc: 0.8152 - val_prc: 0.3914\n",
      "Epoch 30/80\n",
      "1439/1439 [==============================] - 3s 2ms/step - loss: 0.5084 - binary_accuracy: 0.7411 - tp: 77413.0000 - fp: 38800.0000 - tn: 135867.0000 - fn: 35695.0000 - precision: 0.6661 - recall: 0.6844 - auc: 0.8146 - prc: 0.6986 - val_loss: 0.4326 - val_binary_accuracy: 0.7650 - val_tp: 4092.0000 - val_fp: 8219.0000 - val_tn: 28897.0000 - val_fn: 1917.0000 - val_precision: 0.3324 - val_recall: 0.6810 - val_auc: 0.8154 - val_prc: 0.3918\n",
      "Epoch 31/80\n",
      "1439/1439 [==============================] - 3s 2ms/step - loss: 0.5085 - binary_accuracy: 0.7408 - tp: 77274.0000 - fp: 38756.0000 - tn: 135911.0000 - fn: 35834.0000 - precision: 0.6660 - recall: 0.6832 - auc: 0.8144 - prc: 0.6987 - val_loss: 0.4342 - val_binary_accuracy: 0.7633 - val_tp: 4115.0000 - val_fp: 8313.0000 - val_tn: 28803.0000 - val_fn: 1894.0000 - val_precision: 0.3311 - val_recall: 0.6848 - val_auc: 0.8156 - val_prc: 0.3924\n",
      "Epoch 32/80\n",
      "1439/1439 [==============================] - 3s 2ms/step - loss: 0.5081 - binary_accuracy: 0.7411 - tp: 77366.0000 - fp: 38750.0000 - tn: 135917.0000 - fn: 35742.0000 - precision: 0.6663 - recall: 0.6840 - auc: 0.8147 - prc: 0.6979 - val_loss: 0.4315 - val_binary_accuracy: 0.7651 - val_tp: 4089.0000 - val_fp: 8208.0000 - val_tn: 28908.0000 - val_fn: 1920.0000 - val_precision: 0.3325 - val_recall: 0.6805 - val_auc: 0.8158 - val_prc: 0.3926\n",
      "Epoch 33/80\n",
      "1439/1439 [==============================] - 3s 2ms/step - loss: 0.5073 - binary_accuracy: 0.7420 - tp: 77632.0000 - fp: 38781.0000 - tn: 135886.0000 - fn: 35476.0000 - precision: 0.6669 - recall: 0.6864 - auc: 0.8154 - prc: 0.6994 - val_loss: 0.4312 - val_binary_accuracy: 0.7658 - val_tp: 4074.0000 - val_fp: 8167.0000 - val_tn: 28949.0000 - val_fn: 1935.0000 - val_precision: 0.3328 - val_recall: 0.6780 - val_auc: 0.8160 - val_prc: 0.3934\n",
      "Epoch 34/80\n",
      "1439/1439 [==============================] - 3s 2ms/step - loss: 0.5069 - binary_accuracy: 0.7416 - tp: 77605.0000 - fp: 38845.0000 - tn: 135822.0000 - fn: 35503.0000 - precision: 0.6664 - recall: 0.6861 - auc: 0.8158 - prc: 0.7001 - val_loss: 0.4300 - val_binary_accuracy: 0.7666 - val_tp: 4068.0000 - val_fp: 8126.0000 - val_tn: 28990.0000 - val_fn: 1941.0000 - val_precision: 0.3336 - val_recall: 0.6770 - val_auc: 0.8162 - val_prc: 0.3938\n",
      "Epoch 35/80\n",
      "1439/1439 [==============================] - 3s 2ms/step - loss: 0.5067 - binary_accuracy: 0.7418 - tp: 77535.0000 - fp: 38731.0000 - tn: 135936.0000 - fn: 35573.0000 - precision: 0.6669 - recall: 0.6855 - auc: 0.8159 - prc: 0.7003 - val_loss: 0.4315 - val_binary_accuracy: 0.7654 - val_tp: 4079.0000 - val_fp: 8185.0000 - val_tn: 28931.0000 - val_fn: 1930.0000 - val_precision: 0.3326 - val_recall: 0.6788 - val_auc: 0.8164 - val_prc: 0.3940\n",
      "Epoch 36/80\n",
      "1439/1439 [==============================] - 3s 2ms/step - loss: 0.5065 - binary_accuracy: 0.7423 - tp: 77724.0000 - fp: 38785.0000 - tn: 135882.0000 - fn: 35384.0000 - precision: 0.6671 - recall: 0.6872 - auc: 0.8162 - prc: 0.7002 - val_loss: 0.4312 - val_binary_accuracy: 0.7654 - val_tp: 4088.0000 - val_fp: 8196.0000 - val_tn: 28920.0000 - val_fn: 1921.0000 - val_precision: 0.3328 - val_recall: 0.6803 - val_auc: 0.8165 - val_prc: 0.3945\n",
      "Epoch 37/80\n",
      "1439/1439 [==============================] - 3s 2ms/step - loss: 0.5057 - binary_accuracy: 0.7426 - tp: 77873.0000 - fp: 38826.0000 - tn: 135841.0000 - fn: 35235.0000 - precision: 0.6673 - recall: 0.6885 - auc: 0.8169 - prc: 0.7017 - val_loss: 0.4310 - val_binary_accuracy: 0.7659 - val_tp: 4081.0000 - val_fp: 8169.0000 - val_tn: 28947.0000 - val_fn: 1928.0000 - val_precision: 0.3331 - val_recall: 0.6791 - val_auc: 0.8167 - val_prc: 0.3950\n",
      "Epoch 38/80\n",
      "1439/1439 [==============================] - 3s 2ms/step - loss: 0.5054 - binary_accuracy: 0.7435 - tp: 78002.0000 - fp: 38699.0000 - tn: 135968.0000 - fn: 35106.0000 - precision: 0.6684 - recall: 0.6896 - auc: 0.8172 - prc: 0.7020 - val_loss: 0.4308 - val_binary_accuracy: 0.7663 - val_tp: 4082.0000 - val_fp: 8153.0000 - val_tn: 28963.0000 - val_fn: 1927.0000 - val_precision: 0.3336 - val_recall: 0.6793 - val_auc: 0.8169 - val_prc: 0.3956\n",
      "Epoch 39/80\n",
      "1439/1439 [==============================] - 3s 2ms/step - loss: 0.5053 - binary_accuracy: 0.7428 - tp: 77798.0000 - fp: 38698.0000 - tn: 135969.0000 - fn: 35310.0000 - precision: 0.6678 - recall: 0.6878 - auc: 0.8172 - prc: 0.7025 - val_loss: 0.4301 - val_binary_accuracy: 0.7664 - val_tp: 4083.0000 - val_fp: 8147.0000 - val_tn: 28969.0000 - val_fn: 1926.0000 - val_precision: 0.3339 - val_recall: 0.6795 - val_auc: 0.8170 - val_prc: 0.3959\n",
      "Epoch 40/80\n",
      "1439/1439 [==============================] - 3s 2ms/step - loss: 0.5049 - binary_accuracy: 0.7432 - tp: 77810.0000 - fp: 38597.0000 - tn: 136070.0000 - fn: 35298.0000 - precision: 0.6684 - recall: 0.6879 - auc: 0.8176 - prc: 0.7026 - val_loss: 0.4312 - val_binary_accuracy: 0.7656 - val_tp: 4086.0000 - val_fp: 8186.0000 - val_tn: 28930.0000 - val_fn: 1923.0000 - val_precision: 0.3330 - val_recall: 0.6800 - val_auc: 0.8171 - val_prc: 0.3961\n",
      "Epoch 41/80\n",
      "1439/1439 [==============================] - 3s 2ms/step - loss: 0.5045 - binary_accuracy: 0.7436 - tp: 77984.0000 - fp: 38654.0000 - tn: 136013.0000 - fn: 35124.0000 - precision: 0.6686 - recall: 0.6895 - auc: 0.8179 - prc: 0.7033 - val_loss: 0.4292 - val_binary_accuracy: 0.7669 - val_tp: 4073.0000 - val_fp: 8116.0000 - val_tn: 29000.0000 - val_fn: 1936.0000 - val_precision: 0.3342 - val_recall: 0.6778 - val_auc: 0.8172 - val_prc: 0.3964\n",
      "Epoch 42/80\n",
      "1439/1439 [==============================] - 3s 2ms/step - loss: 0.5045 - binary_accuracy: 0.7434 - tp: 77889.0000 - fp: 38636.0000 - tn: 136031.0000 - fn: 35219.0000 - precision: 0.6684 - recall: 0.6886 - auc: 0.8177 - prc: 0.7030 - val_loss: 0.4317 - val_binary_accuracy: 0.7649 - val_tp: 4103.0000 - val_fp: 8231.0000 - val_tn: 28885.0000 - val_fn: 1906.0000 - val_precision: 0.3327 - val_recall: 0.6828 - val_auc: 0.8174 - val_prc: 0.3967\n",
      "Epoch 43/80\n",
      "1439/1439 [==============================] - 3s 2ms/step - loss: 0.5041 - binary_accuracy: 0.7437 - tp: 78152.0000 - fp: 38790.0000 - tn: 135877.0000 - fn: 34956.0000 - precision: 0.6683 - recall: 0.6910 - auc: 0.8183 - prc: 0.7035 - val_loss: 0.4283 - val_binary_accuracy: 0.7677 - val_tp: 4057.0000 - val_fp: 8068.0000 - val_tn: 29048.0000 - val_fn: 1952.0000 - val_precision: 0.3346 - val_recall: 0.6752 - val_auc: 0.8176 - val_prc: 0.3972\n",
      "Epoch 44/80\n",
      "1439/1439 [==============================] - 3s 2ms/step - loss: 0.5035 - binary_accuracy: 0.7441 - tp: 78032.0000 - fp: 38580.0000 - tn: 136087.0000 - fn: 35076.0000 - precision: 0.6692 - recall: 0.6899 - auc: 0.8187 - prc: 0.7050 - val_loss: 0.4284 - val_binary_accuracy: 0.7673 - val_tp: 4071.0000 - val_fp: 8097.0000 - val_tn: 29019.0000 - val_fn: 1938.0000 - val_precision: 0.3346 - val_recall: 0.6775 - val_auc: 0.8176 - val_prc: 0.3972\n",
      "Epoch 45/80\n",
      "1439/1439 [==============================] - 3s 2ms/step - loss: 0.5032 - binary_accuracy: 0.7453 - tp: 78295.0000 - fp: 38473.0000 - tn: 136194.0000 - fn: 34813.0000 - precision: 0.6705 - recall: 0.6922 - auc: 0.8192 - prc: 0.7057 - val_loss: 0.4258 - val_binary_accuracy: 0.7697 - val_tp: 4031.0000 - val_fp: 7953.0000 - val_tn: 29163.0000 - val_fn: 1978.0000 - val_precision: 0.3364 - val_recall: 0.6708 - val_auc: 0.8177 - val_prc: 0.3974\n",
      "Epoch 46/80\n",
      "1439/1439 [==============================] - 3s 2ms/step - loss: 0.5033 - binary_accuracy: 0.7448 - tp: 78010.0000 - fp: 38356.0000 - tn: 136311.0000 - fn: 35098.0000 - precision: 0.6704 - recall: 0.6897 - auc: 0.8191 - prc: 0.7056 - val_loss: 0.4300 - val_binary_accuracy: 0.7668 - val_tp: 4090.0000 - val_fp: 8136.0000 - val_tn: 28980.0000 - val_fn: 1919.0000 - val_precision: 0.3345 - val_recall: 0.6806 - val_auc: 0.8179 - val_prc: 0.3978\n",
      "Epoch 47/80\n",
      "1439/1439 [==============================] - 3s 2ms/step - loss: 0.5027 - binary_accuracy: 0.7448 - tp: 78181.0000 - fp: 38526.0000 - tn: 136141.0000 - fn: 34927.0000 - precision: 0.6699 - recall: 0.6912 - auc: 0.8194 - prc: 0.7058 - val_loss: 0.4288 - val_binary_accuracy: 0.7676 - val_tp: 4076.0000 - val_fp: 8089.0000 - val_tn: 29027.0000 - val_fn: 1933.0000 - val_precision: 0.3351 - val_recall: 0.6783 - val_auc: 0.8180 - val_prc: 0.3980\n",
      "Epoch 48/80\n",
      "1439/1439 [==============================] - 3s 2ms/step - loss: 0.5028 - binary_accuracy: 0.7450 - tp: 78122.0000 - fp: 38392.0000 - tn: 136275.0000 - fn: 34986.0000 - precision: 0.6705 - recall: 0.6907 - auc: 0.8193 - prc: 0.7049 - val_loss: 0.4261 - val_binary_accuracy: 0.7694 - val_tp: 4026.0000 - val_fp: 7961.0000 - val_tn: 29155.0000 - val_fn: 1983.0000 - val_precision: 0.3359 - val_recall: 0.6700 - val_auc: 0.8181 - val_prc: 0.3984\n",
      "Epoch 49/80\n",
      "1439/1439 [==============================] - 3s 2ms/step - loss: 0.5022 - binary_accuracy: 0.7454 - tp: 78170.0000 - fp: 38342.0000 - tn: 136325.0000 - fn: 34938.0000 - precision: 0.6709 - recall: 0.6911 - auc: 0.8198 - prc: 0.7064 - val_loss: 0.4284 - val_binary_accuracy: 0.7674 - val_tp: 4070.0000 - val_fp: 8090.0000 - val_tn: 29026.0000 - val_fn: 1939.0000 - val_precision: 0.3347 - val_recall: 0.6773 - val_auc: 0.8182 - val_prc: 0.3987\n",
      "Epoch 50/80\n",
      "1439/1439 [==============================] - 3s 2ms/step - loss: 0.5018 - binary_accuracy: 0.7450 - tp: 78242.0000 - fp: 38504.0000 - tn: 136163.0000 - fn: 34866.0000 - precision: 0.6702 - recall: 0.6917 - auc: 0.8201 - prc: 0.7068 - val_loss: 0.4262 - val_binary_accuracy: 0.7692 - val_tp: 4029.0000 - val_fp: 7974.0000 - val_tn: 29142.0000 - val_fn: 1980.0000 - val_precision: 0.3357 - val_recall: 0.6705 - val_auc: 0.8183 - val_prc: 0.3988\n",
      "Epoch 51/80\n",
      "1439/1439 [==============================] - 3s 2ms/step - loss: 0.5022 - binary_accuracy: 0.7458 - tp: 78248.0000 - fp: 38302.0000 - tn: 136365.0000 - fn: 34860.0000 - precision: 0.6714 - recall: 0.6918 - auc: 0.8200 - prc: 0.7064 - val_loss: 0.4243 - val_binary_accuracy: 0.7705 - val_tp: 4009.0000 - val_fp: 7896.0000 - val_tn: 29220.0000 - val_fn: 2000.0000 - val_precision: 0.3367 - val_recall: 0.6672 - val_auc: 0.8183 - val_prc: 0.3990\n",
      "Epoch 52/80\n",
      "1439/1439 [==============================] - 3s 2ms/step - loss: 0.5019 - binary_accuracy: 0.7456 - tp: 78147.0000 - fp: 38260.0000 - tn: 136407.0000 - fn: 34961.0000 - precision: 0.6713 - recall: 0.6909 - auc: 0.8202 - prc: 0.7070 - val_loss: 0.4279 - val_binary_accuracy: 0.7678 - val_tp: 4055.0000 - val_fp: 8059.0000 - val_tn: 29057.0000 - val_fn: 1954.0000 - val_precision: 0.3347 - val_recall: 0.6748 - val_auc: 0.8185 - val_prc: 0.3991\n",
      "Epoch 53/80\n",
      "1439/1439 [==============================] - 3s 2ms/step - loss: 0.5012 - binary_accuracy: 0.7460 - tp: 78293.0000 - fp: 38277.0000 - tn: 136390.0000 - fn: 34815.0000 - precision: 0.6716 - recall: 0.6922 - auc: 0.8207 - prc: 0.7075 - val_loss: 0.4286 - val_binary_accuracy: 0.7669 - val_tp: 4063.0000 - val_fp: 8106.0000 - val_tn: 29010.0000 - val_fn: 1946.0000 - val_precision: 0.3339 - val_recall: 0.6762 - val_auc: 0.8185 - val_prc: 0.3994\n",
      "Epoch 54/80\n",
      "1439/1439 [==============================] - 3s 2ms/step - loss: 0.5013 - binary_accuracy: 0.7460 - tp: 78470.0000 - fp: 38470.0000 - tn: 136197.0000 - fn: 34638.0000 - precision: 0.6710 - recall: 0.6938 - auc: 0.8207 - prc: 0.7079 - val_loss: 0.4262 - val_binary_accuracy: 0.7692 - val_tp: 4039.0000 - val_fp: 7983.0000 - val_tn: 29133.0000 - val_fn: 1970.0000 - val_precision: 0.3360 - val_recall: 0.6722 - val_auc: 0.8186 - val_prc: 0.3994\n",
      "Epoch 55/80\n",
      "1439/1439 [==============================] - 3s 2ms/step - loss: 0.5011 - binary_accuracy: 0.7465 - tp: 78513.0000 - fp: 38347.0000 - tn: 136320.0000 - fn: 34595.0000 - precision: 0.6719 - recall: 0.6941 - auc: 0.8208 - prc: 0.7070 - val_loss: 0.4267 - val_binary_accuracy: 0.7686 - val_tp: 4045.0000 - val_fp: 8017.0000 - val_tn: 29099.0000 - val_fn: 1964.0000 - val_precision: 0.3354 - val_recall: 0.6732 - val_auc: 0.8187 - val_prc: 0.3997\n",
      "Epoch 56/80\n",
      "1439/1439 [==============================] - 3s 2ms/step - loss: 0.5007 - binary_accuracy: 0.7464 - tp: 78469.0000 - fp: 38346.0000 - tn: 136321.0000 - fn: 34639.0000 - precision: 0.6717 - recall: 0.6938 - auc: 0.8213 - prc: 0.7075 - val_loss: 0.4271 - val_binary_accuracy: 0.7681 - val_tp: 4048.0000 - val_fp: 8040.0000 - val_tn: 29076.0000 - val_fn: 1961.0000 - val_precision: 0.3349 - val_recall: 0.6737 - val_auc: 0.8187 - val_prc: 0.3995\n",
      "Epoch 57/80\n",
      "1439/1439 [==============================] - 3s 2ms/step - loss: 0.5008 - binary_accuracy: 0.7465 - tp: 78521.0000 - fp: 38366.0000 - tn: 136301.0000 - fn: 34587.0000 - precision: 0.6718 - recall: 0.6942 - auc: 0.8211 - prc: 0.7072 - val_loss: 0.4253 - val_binary_accuracy: 0.7697 - val_tp: 4033.0000 - val_fp: 7954.0000 - val_tn: 29162.0000 - val_fn: 1976.0000 - val_precision: 0.3364 - val_recall: 0.6712 - val_auc: 0.8188 - val_prc: 0.3999\n",
      "Epoch 58/80\n",
      "1439/1439 [==============================] - 3s 2ms/step - loss: 0.5003 - binary_accuracy: 0.7465 - tp: 78506.0000 - fp: 38342.0000 - tn: 136325.0000 - fn: 34602.0000 - precision: 0.6719 - recall: 0.6941 - auc: 0.8215 - prc: 0.7089 - val_loss: 0.4259 - val_binary_accuracy: 0.7696 - val_tp: 4040.0000 - val_fp: 7969.0000 - val_tn: 29147.0000 - val_fn: 1969.0000 - val_precision: 0.3364 - val_recall: 0.6723 - val_auc: 0.8189 - val_prc: 0.4000\n",
      "Epoch 59/80\n",
      "1439/1439 [==============================] - 3s 2ms/step - loss: 0.4996 - binary_accuracy: 0.7474 - tp: 78455.0000 - fp: 38028.0000 - tn: 136639.0000 - fn: 34653.0000 - precision: 0.6735 - recall: 0.6936 - auc: 0.8221 - prc: 0.7091 - val_loss: 0.4254 - val_binary_accuracy: 0.7697 - val_tp: 4037.0000 - val_fp: 7959.0000 - val_tn: 29157.0000 - val_fn: 1972.0000 - val_precision: 0.3365 - val_recall: 0.6718 - val_auc: 0.8190 - val_prc: 0.4001\n",
      "Epoch 60/80\n",
      "1439/1439 [==============================] - 3s 2ms/step - loss: 0.5005 - binary_accuracy: 0.7466 - tp: 78509.0000 - fp: 38315.0000 - tn: 136352.0000 - fn: 34599.0000 - precision: 0.6720 - recall: 0.6941 - auc: 0.8215 - prc: 0.7086 - val_loss: 0.4263 - val_binary_accuracy: 0.7694 - val_tp: 4040.0000 - val_fp: 7974.0000 - val_tn: 29142.0000 - val_fn: 1969.0000 - val_precision: 0.3363 - val_recall: 0.6723 - val_auc: 0.8190 - val_prc: 0.4003\n",
      "Epoch 61/80\n",
      "1439/1439 [==============================] - 3s 2ms/step - loss: 0.5002 - binary_accuracy: 0.7466 - tp: 78392.0000 - fp: 38194.0000 - tn: 136473.0000 - fn: 34716.0000 - precision: 0.6724 - recall: 0.6931 - auc: 0.8216 - prc: 0.7092 - val_loss: 0.4252 - val_binary_accuracy: 0.7702 - val_tp: 4021.0000 - val_fp: 7922.0000 - val_tn: 29194.0000 - val_fn: 1988.0000 - val_precision: 0.3367 - val_recall: 0.6692 - val_auc: 0.8191 - val_prc: 0.4004\n",
      "Epoch 62/80\n",
      "1439/1439 [==============================] - 3s 2ms/step - loss: 0.4999 - binary_accuracy: 0.7467 - tp: 78422.0000 - fp: 38207.0000 - tn: 136460.0000 - fn: 34686.0000 - precision: 0.6724 - recall: 0.6933 - auc: 0.8219 - prc: 0.7093 - val_loss: 0.4253 - val_binary_accuracy: 0.7702 - val_tp: 4028.0000 - val_fp: 7928.0000 - val_tn: 29188.0000 - val_fn: 1981.0000 - val_precision: 0.3369 - val_recall: 0.6703 - val_auc: 0.8192 - val_prc: 0.4006\n",
      "Epoch 63/80\n",
      "1439/1439 [==============================] - 3s 2ms/step - loss: 0.4998 - binary_accuracy: 0.7472 - tp: 78485.0000 - fp: 38124.0000 - tn: 136543.0000 - fn: 34623.0000 - precision: 0.6731 - recall: 0.6939 - auc: 0.8222 - prc: 0.7095 - val_loss: 0.4251 - val_binary_accuracy: 0.7705 - val_tp: 4020.0000 - val_fp: 7909.0000 - val_tn: 29207.0000 - val_fn: 1989.0000 - val_precision: 0.3370 - val_recall: 0.6690 - val_auc: 0.8192 - val_prc: 0.4007\n",
      "Epoch 64/80\n",
      "1439/1439 [==============================] - 3s 2ms/step - loss: 0.4998 - binary_accuracy: 0.7469 - tp: 78515.0000 - fp: 38253.0000 - tn: 136414.0000 - fn: 34593.0000 - precision: 0.6724 - recall: 0.6942 - auc: 0.8220 - prc: 0.7101 - val_loss: 0.4254 - val_binary_accuracy: 0.7706 - val_tp: 4029.0000 - val_fp: 7914.0000 - val_tn: 29202.0000 - val_fn: 1980.0000 - val_precision: 0.3374 - val_recall: 0.6705 - val_auc: 0.8193 - val_prc: 0.4008\n",
      "Epoch 65/80\n",
      "1439/1439 [==============================] - 3s 2ms/step - loss: 0.4992 - binary_accuracy: 0.7480 - tp: 78764.0000 - fp: 38173.0000 - tn: 136494.0000 - fn: 34344.0000 - precision: 0.6736 - recall: 0.6964 - auc: 0.8224 - prc: 0.7101 - val_loss: 0.4260 - val_binary_accuracy: 0.7699 - val_tp: 4028.0000 - val_fp: 7941.0000 - val_tn: 29175.0000 - val_fn: 1981.0000 - val_precision: 0.3365 - val_recall: 0.6703 - val_auc: 0.8193 - val_prc: 0.4008\n",
      "Epoch 66/80\n",
      "1439/1439 [==============================] - 3s 2ms/step - loss: 0.4993 - binary_accuracy: 0.7478 - tp: 78717.0000 - fp: 38191.0000 - tn: 136476.0000 - fn: 34391.0000 - precision: 0.6733 - recall: 0.6959 - auc: 0.8225 - prc: 0.7103 - val_loss: 0.4241 - val_binary_accuracy: 0.7715 - val_tp: 4006.0000 - val_fp: 7849.0000 - val_tn: 29267.0000 - val_fn: 2003.0000 - val_precision: 0.3379 - val_recall: 0.6667 - val_auc: 0.8195 - val_prc: 0.4010\n",
      "Epoch 67/80\n",
      "1439/1439 [==============================] - 3s 2ms/step - loss: 0.4989 - binary_accuracy: 0.7482 - tp: 78603.0000 - fp: 37948.0000 - tn: 136719.0000 - fn: 34505.0000 - precision: 0.6744 - recall: 0.6949 - auc: 0.8229 - prc: 0.7102 - val_loss: 0.4225 - val_binary_accuracy: 0.7734 - val_tp: 3988.0000 - val_fp: 7753.0000 - val_tn: 29363.0000 - val_fn: 2021.0000 - val_precision: 0.3397 - val_recall: 0.6637 - val_auc: 0.8195 - val_prc: 0.4010\n",
      "Epoch 68/80\n",
      "1439/1439 [==============================] - 3s 2ms/step - loss: 0.4989 - binary_accuracy: 0.7480 - tp: 78599.0000 - fp: 38005.0000 - tn: 136662.0000 - fn: 34509.0000 - precision: 0.6741 - recall: 0.6949 - auc: 0.8229 - prc: 0.7114 - val_loss: 0.4243 - val_binary_accuracy: 0.7717 - val_tp: 4009.0000 - val_fp: 7845.0000 - val_tn: 29271.0000 - val_fn: 2000.0000 - val_precision: 0.3382 - val_recall: 0.6672 - val_auc: 0.8195 - val_prc: 0.4011\n",
      "Epoch 69/80\n",
      "1439/1439 [==============================] - 3s 2ms/step - loss: 0.4990 - binary_accuracy: 0.7478 - tp: 78472.0000 - fp: 37953.0000 - tn: 136714.0000 - fn: 34636.0000 - precision: 0.6740 - recall: 0.6938 - auc: 0.8226 - prc: 0.7107 - val_loss: 0.4252 - val_binary_accuracy: 0.7713 - val_tp: 4015.0000 - val_fp: 7868.0000 - val_tn: 29248.0000 - val_fn: 1994.0000 - val_precision: 0.3379 - val_recall: 0.6682 - val_auc: 0.8196 - val_prc: 0.4012\n",
      "Epoch 70/80\n",
      "1439/1439 [==============================] - 3s 2ms/step - loss: 0.4990 - binary_accuracy: 0.7483 - tp: 78673.0000 - fp: 38007.0000 - tn: 136660.0000 - fn: 34435.0000 - precision: 0.6743 - recall: 0.6956 - auc: 0.8228 - prc: 0.7109 - val_loss: 0.4253 - val_binary_accuracy: 0.7712 - val_tp: 4023.0000 - val_fp: 7879.0000 - val_tn: 29237.0000 - val_fn: 1986.0000 - val_precision: 0.3380 - val_recall: 0.6695 - val_auc: 0.8197 - val_prc: 0.4014\n",
      "Epoch 71/80\n",
      "1439/1439 [==============================] - 3s 2ms/step - loss: 0.4983 - binary_accuracy: 0.7481 - tp: 78714.0000 - fp: 38101.0000 - tn: 136566.0000 - fn: 34394.0000 - precision: 0.6738 - recall: 0.6959 - auc: 0.8233 - prc: 0.7112 - val_loss: 0.4236 - val_binary_accuracy: 0.7725 - val_tp: 4007.0000 - val_fp: 7809.0000 - val_tn: 29307.0000 - val_fn: 2002.0000 - val_precision: 0.3391 - val_recall: 0.6668 - val_auc: 0.8197 - val_prc: 0.4014\n",
      "Epoch 72/80\n",
      "1439/1439 [==============================] - 3s 2ms/step - loss: 0.4986 - binary_accuracy: 0.7484 - tp: 78632.0000 - fp: 37939.0000 - tn: 136728.0000 - fn: 34476.0000 - precision: 0.6745 - recall: 0.6952 - auc: 0.8231 - prc: 0.7113 - val_loss: 0.4230 - val_binary_accuracy: 0.7725 - val_tp: 3989.0000 - val_fp: 7793.0000 - val_tn: 29323.0000 - val_fn: 2020.0000 - val_precision: 0.3386 - val_recall: 0.6638 - val_auc: 0.8198 - val_prc: 0.4016\n",
      "Epoch 73/80\n",
      "1439/1439 [==============================] - 3s 2ms/step - loss: 0.4988 - binary_accuracy: 0.7480 - tp: 78543.0000 - fp: 37942.0000 - tn: 136725.0000 - fn: 34565.0000 - precision: 0.6743 - recall: 0.6944 - auc: 0.8231 - prc: 0.7112 - val_loss: 0.4238 - val_binary_accuracy: 0.7721 - val_tp: 4008.0000 - val_fp: 7826.0000 - val_tn: 29290.0000 - val_fn: 2001.0000 - val_precision: 0.3387 - val_recall: 0.6670 - val_auc: 0.8198 - val_prc: 0.4017\n",
      "Epoch 74/80\n",
      "1439/1439 [==============================] - 3s 2ms/step - loss: 0.4984 - binary_accuracy: 0.7487 - tp: 78701.0000 - fp: 37909.0000 - tn: 136758.0000 - fn: 34407.0000 - precision: 0.6749 - recall: 0.6958 - auc: 0.8234 - prc: 0.7105 - val_loss: 0.4233 - val_binary_accuracy: 0.7723 - val_tp: 4000.0000 - val_fp: 7809.0000 - val_tn: 29307.0000 - val_fn: 2009.0000 - val_precision: 0.3387 - val_recall: 0.6657 - val_auc: 0.8199 - val_prc: 0.4017\n",
      "Epoch 75/80\n",
      "1439/1439 [==============================] - 3s 2ms/step - loss: 0.4983 - binary_accuracy: 0.7490 - tp: 78736.0000 - fp: 37848.0000 - tn: 136819.0000 - fn: 34372.0000 - precision: 0.6754 - recall: 0.6961 - auc: 0.8234 - prc: 0.7115 - val_loss: 0.4241 - val_binary_accuracy: 0.7717 - val_tp: 4009.0000 - val_fp: 7845.0000 - val_tn: 29271.0000 - val_fn: 2000.0000 - val_precision: 0.3382 - val_recall: 0.6672 - val_auc: 0.8198 - val_prc: 0.4017\n",
      "Epoch 76/80\n",
      "1439/1439 [==============================] - 3s 2ms/step - loss: 0.4978 - binary_accuracy: 0.7495 - tp: 78768.0000 - fp: 37753.0000 - tn: 136914.0000 - fn: 34340.0000 - precision: 0.6760 - recall: 0.6964 - auc: 0.8238 - prc: 0.7106 - val_loss: 0.4236 - val_binary_accuracy: 0.7721 - val_tp: 4004.0000 - val_fp: 7824.0000 - val_tn: 29292.0000 - val_fn: 2005.0000 - val_precision: 0.3385 - val_recall: 0.6663 - val_auc: 0.8199 - val_prc: 0.4019\n",
      "Epoch 77/80\n",
      "1439/1439 [==============================] - 3s 2ms/step - loss: 0.4980 - binary_accuracy: 0.7484 - tp: 78735.0000 - fp: 38036.0000 - tn: 136631.0000 - fn: 34373.0000 - precision: 0.6743 - recall: 0.6961 - auc: 0.8238 - prc: 0.7122 - val_loss: 0.4226 - val_binary_accuracy: 0.7732 - val_tp: 3990.0000 - val_fp: 7760.0000 - val_tn: 29356.0000 - val_fn: 2019.0000 - val_precision: 0.3396 - val_recall: 0.6640 - val_auc: 0.8199 - val_prc: 0.4017\n",
      "Epoch 78/80\n",
      "1439/1439 [==============================] - 3s 2ms/step - loss: 0.4975 - binary_accuracy: 0.7483 - tp: 78666.0000 - fp: 37981.0000 - tn: 136686.0000 - fn: 34442.0000 - precision: 0.6744 - recall: 0.6955 - auc: 0.8241 - prc: 0.7127 - val_loss: 0.4224 - val_binary_accuracy: 0.7734 - val_tp: 3989.0000 - val_fp: 7750.0000 - val_tn: 29366.0000 - val_fn: 2020.0000 - val_precision: 0.3398 - val_recall: 0.6638 - val_auc: 0.8200 - val_prc: 0.4019\n",
      "Epoch 79/80\n",
      "1439/1439 [==============================] - 3s 2ms/step - loss: 0.4972 - binary_accuracy: 0.7485 - tp: 78715.0000 - fp: 37971.0000 - tn: 136696.0000 - fn: 34393.0000 - precision: 0.6746 - recall: 0.6959 - auc: 0.8242 - prc: 0.7129 - val_loss: 0.4217 - val_binary_accuracy: 0.7738 - val_tp: 3980.0000 - val_fp: 7726.0000 - val_tn: 29390.0000 - val_fn: 2029.0000 - val_precision: 0.3400 - val_recall: 0.6623 - val_auc: 0.8200 - val_prc: 0.4021\n",
      "Epoch 80/80\n",
      "1439/1439 [==============================] - 3s 2ms/step - loss: 0.4975 - binary_accuracy: 0.7499 - tp: 78842.0000 - fp: 37708.0000 - tn: 136959.0000 - fn: 34266.0000 - precision: 0.6765 - recall: 0.6971 - auc: 0.8242 - prc: 0.7127 - val_loss: 0.4245 - val_binary_accuracy: 0.7716 - val_tp: 4021.0000 - val_fp: 7861.0000 - val_tn: 29255.0000 - val_fn: 1988.0000 - val_precision: 0.3384 - val_recall: 0.6692 - val_auc: 0.8201 - val_prc: 0.4022\n"
     ]
    }
   ],
   "source": [
    "history_balanced =  model_balanced.fit(train_oversampled_features, train_oversampled_labels, batch_size=BATCH_SIZE, epochs=EPOCHS, validation_data=(val_features, val_labels),callbacks=[early_stopping])"
   ]
  },
  {
   "cell_type": "code",
   "execution_count": null,
   "metadata": {
    "colab": {
     "base_uri": "https://localhost:8080/",
     "height": 893
    },
    "id": "4lW0wgq2tM-b",
    "outputId": "d90352b3-a803-42bd-aa0e-d2d7b1ebe2d5"
   },
   "outputs": [
    {
     "data": {
      "image/png": "[encoded data removed]",
      "text/plain": [
       "<Figure size 1080x1080 with 4 Axes>"
      ]
     },
     "metadata": {
      "needs_background": "light"
     },
     "output_type": "display_data"
    }
   ],
   "source": [
    "plot_metrics(history_balanced)"
   ]
  },
  {
   "cell_type": "code",
   "execution_count": null,
   "metadata": {
    "id": "ndAmxsUkuZrJ"
   },
   "outputs": [],
   "source": [
    "test_predictions_bal = model_balanced.predict(test_features, batch_size=BATCH_SIZE)\n",
    "train_predictions_bal  = model_balanced.predict(train_oversampled_features, batch_size=BATCH_SIZE)"
   ]
  },
  {
   "cell_type": "code",
   "execution_count": null,
   "metadata": {
    "id": "f6PQdbTn9sk0"
   },
   "outputs": [],
   "source": [
    "test_predictions_bal=np.where(test_predictions_bal >= 0.5, 1,0)\n",
    "train_predictions_bal=np.where(train_predictions_bal >= 0.5, 1,0)"
   ]
  },
  {
   "cell_type": "code",
   "execution_count": null,
   "metadata": {
    "colab": {
     "base_uri": "https://localhost:8080/"
    },
    "id": "m6TvouVL9yW2",
    "outputId": "3fd041d3-fa22-473b-ac3e-ddbfce1f4c86"
   },
   "outputs": [
    {
     "name": "stdout",
     "output_type": "stream",
     "text": [
      "[[5190 1361]\n",
      " [ 344  716]]\n"
     ]
    }
   ],
   "source": [
    "print(sklearn.metrics.confusion_matrix(test_labels, test_predictions_bal))"
   ]
  },
  {
   "cell_type": "code",
   "execution_count": null,
   "metadata": {
    "colab": {
     "base_uri": "https://localhost:8080/",
     "height": 350
    },
    "id": "ttNcfgyRAjKI",
    "outputId": "fe8d26c0-9b40-48a2-8d9c-7bb4f7ce70f9"
   },
   "outputs": [
    {
     "data": {
      "image/png": "[encoded data removed]",
      "text/plain": [
       "<Figure size 360x360 with 2 Axes>"
      ]
     },
     "metadata": {
      "needs_background": "light"
     },
     "output_type": "display_data"
    }
   ],
   "source": [
    "plot_cm(test_labels,test_predictions_bal)"
   ]
  },
  {
   "cell_type": "code",
   "execution_count": null,
   "metadata": {
    "colab": {
     "base_uri": "https://localhost:8080/"
    },
    "id": "LyLOXs6GvOBQ",
    "outputId": "ab68f891-25a2-4b85-a364-6ab6f1e040c5"
   },
   "outputs": [
    {
     "name": "stdout",
     "output_type": "stream",
     "text": [
      "loss :  0.4223143458366394\n",
      "binary_accuracy :  0.775982141494751\n",
      "tp :  716.0\n",
      "fp :  1361.0\n",
      "tn :  5190.0\n",
      "fn :  344.0\n",
      "precision :  0.3447279632091522\n",
      "recall :  0.6754717230796814\n",
      "auc :  0.8205032348632812\n",
      "prc :  0.41706377267837524\n",
      "\n"
     ]
    }
   ],
   "source": [
    "test_results_bal = model_balanced.evaluate(test_features, test_labels,\n",
    "                                  batch_size=BATCH_SIZE, verbose=0)\n",
    "for name, value in zip(model_balanced.metrics_names, test_results_bal):\n",
    "  print(name, ': ', value)\n",
    "print()\n"
   ]
  },
  {
   "cell_type": "markdown",
   "metadata": {
    "id": "FUp-yPjsIgX7"
   },
   "source": [
    "## Comparasion through the ROC curve"
   ]
  },
  {
   "cell_type": "code",
   "execution_count": null,
   "metadata": {
    "colab": {
     "base_uri": "https://localhost:8080/",
     "height": 301
    },
    "id": "0m-AMYG4BqIh",
    "outputId": "b02f67c7-372a-4b56-d875-b1f36001ff51"
   },
   "outputs": [
    {
     "data": {
      "text/plain": [
       "<matplotlib.legend.Legend at 0x7f6c3bfa3610>"
      ]
     },
     "execution_count": 117,
     "metadata": {},
     "output_type": "execute_result"
    },
    {
     "data": {
      "image/png": "[encoded data removed]",
      "text/plain": [
       "<Figure size 432x288 with 1 Axes>"
      ]
     },
     "metadata": {
      "needs_background": "light"
     },
     "output_type": "display_data"
    }
   ],
   "source": [
    "plot_roc(\"Train Unbalanced\", train_labels, model_unbalanced.predict(train_features, batch_size=BATCH_SIZE), color='blue')\n",
    "plot_roc(\"Test Unbalanced\", test_labels, model_unbalanced.predict(test_features, batch_size=BATCH_SIZE), color='blue', linestyle='--')\n",
    "\n",
    "plot_roc(\"Train Balanced\", train_oversampled_labels, model_balanced.predict(train_oversampled_features, batch_size=BATCH_SIZE), color='orange')\n",
    "plot_roc(\"Test Balanced\", test_labels, model_balanced.predict(test_features, batch_size=BATCH_SIZE), color='orange', linestyle='--')\n",
    "plt.legend(loc='lower right')\n"
   ]
  },
  {
   "cell_type": "markdown",
   "metadata": {
    "id": "D-z4Grd4RMSc"
   },
   "source": [
    "Zoom"
   ]
  },
  {
   "cell_type": "code",
   "execution_count": null,
   "metadata": {
    "colab": {
     "base_uri": "https://localhost:8080/",
     "height": 301
    },
    "id": "-0plm-e4HxI8",
    "outputId": "c5d68534-53a9-47e7-a51c-1722c9f1d6b6"
   },
   "outputs": [
    {
     "data": {
      "text/plain": [
       "<matplotlib.legend.Legend at 0x7f6c51bc8410>"
      ]
     },
     "execution_count": 118,
     "metadata": {},
     "output_type": "execute_result"
    },
    {
     "data": {
      "image/png": "[encoded data removed]",
      "text/plain": [
       "<Figure size 432x288 with 1 Axes>"
      ]
     },
     "metadata": {
      "needs_background": "light"
     },
     "output_type": "display_data"
    }
   ],
   "source": [
    "plot_roc(\"Train Unbalanced\", train_labels, model_unbalanced.predict(train_features, batch_size=BATCH_SIZE), color='blue', y_min=60, x_max=45)\n",
    "plot_roc(\"Test Unbalanced\", test_labels, model_unbalanced.predict(test_features, batch_size=BATCH_SIZE), color='blue', linestyle='--', y_min=60, x_max=45)\n",
    "\n",
    "plot_roc(\"Train Balanced\", train_oversampled_labels, model_balanced.predict(train_oversampled_features, batch_size=BATCH_SIZE), color='orange', y_min=60, x_max=45)\n",
    "plot_roc(\"Test Balanced\", test_labels, model_balanced.predict(test_features, batch_size=BATCH_SIZE), color='orange', linestyle='--', y_min=60, x_max=45)\n",
    "plt.legend(loc='upper left')"
   ]
  },
  {
   "cell_type": "code",
   "execution_count": null,
   "metadata": {
    "id": "I62Qhm08qF4o"
   },
   "outputs": [],
   "source": [
    "toc=time.process_time()"
   ]
  },
  {
   "cell_type": "code",
   "execution_count": null,
   "metadata": {
    "colab": {
     "base_uri": "https://localhost:8080/"
    },
    "id": "0MoZeaUwqHXC",
    "outputId": "f2ae6a1f-5143-4c30-80bd-e159dadef408"
   },
   "outputs": [
    {
     "data": {
      "text/plain": [
       "633.411329308"
      ]
     },
     "execution_count": 120,
     "metadata": {},
     "output_type": "execute_result"
    }
   ],
   "source": [
    "toc-tic"
   ]
  }
 ],
 "metadata": {
  "colab": {
   "provenance": [],
   "toc_visible": true
  },
  "kernelspec": {
   "display_name": "Python 3 (ipykernel)",
   "language": "python",
   "name": "python3"
  },
  "language_info": {
   "codemirror_mode": {
    "name": "ipython",
    "version": 3
   },
   "file_extension": ".py",
   "mimetype": "text/x-python",
   "name": "python",
   "nbconvert_exporter": "python",
   "pygments_lexer": "ipython3",
   "version": "3.8.13"
  }
 },
 "nbformat": 4,
 "nbformat_minor": 4
}
